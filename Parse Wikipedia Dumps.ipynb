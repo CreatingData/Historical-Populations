{
 "cells": [
  {
   "cell_type": "markdown",
   "metadata": {
    "deletable": true,
    "editable": true
   },
   "source": [
    "This is the notebook I use to parse from wikipedia dumps into structured data, and to reconcile multiple data sources together. It is intended to be explicatory, not reproducible, and might break when re-run."
   ]
  },
  {
   "cell_type": "code",
   "execution_count": 1,
   "metadata": {
    "collapsed": false,
    "deletable": true,
    "editable": true
   },
   "outputs": [],
   "source": [
    "import wikiparser\n",
    "import cPickle as pickle\n",
    "import random\n",
    "\n",
    "%load_ext autoreload\n",
    "%autoreload 2"
   ]
  },
  {
   "cell_type": "markdown",
   "metadata": {
    "deletable": true,
    "editable": true
   },
   "source": [
    "First, build a list of candidate populations based on wikipedia articles that have a population box."
   ]
  },
  {
   "cell_type": "code",
   "execution_count": null,
   "metadata": {
    "collapsed": false,
    "deletable": true,
    "editable": true
   },
   "outputs": [],
   "source": [
    "cache = []\n",
    "wtf = []\n",
    "last_print = 0\n",
    "parser = wikiparser.WikipediaParser(\"/home/bschmidt/sources/enwiki-20180301-pages-articles-multistream.xml.bz2\")\n",
    "#parser = wikiparser.WikipediaParser(\"/Users/bschmidt/Downloads/Unconfirmed 628142.crdownload\")\n",
    "for i,article in enumerate(parser):\n",
    "    if i - last_print >= 100000:\n",
    "        print \"{} cities in {} articles\".format(len(cache),i)\n",
    "        last_print = i\n",
    "    try:\n",
    "        pops = article.pops()\n",
    "        cache.append(article)\n",
    "        if (len(cache) % 1000 == 0) and i - last_print > 25000:\n",
    "            last_print = i\n",
    "            print \"{} cities in {} articles\".format(len(cache),i)\n",
    "        if \"York City\" in article.title:\n",
    "            # For debugging. Sometimes I was missinig New York.\n",
    "            print (i, article.title)            \n",
    "    except wikiparser.NoSuchAttribute:\n",
    "        continue"
   ]
  },
  {
   "cell_type": "code",
   "execution_count": null,
   "metadata": {
    "collapsed": false,
    "deletable": true,
    "editable": true
   },
   "outputs": [],
   "source": [
    "raw = [(article.title,article.id,article.text) for article in cache]\n",
    "pickle.dump(raw,open(\"cache_raw_2018.pickle\",\"w\"))"
   ]
  },
  {
   "cell_type": "markdown",
   "metadata": {
    "deletable": true,
    "editable": true
   },
   "source": [
    "In 2017, I had these"
   ]
  },
  {
   "cell_type": "code",
   "execution_count": null,
   "metadata": {
    "collapsed": false,
    "deletable": true,
    "editable": true
   },
   "outputs": [],
   "source": [
    "raw = pickle.load(open(\"cache_raw.pickle\"))"
   ]
  },
  {
   "cell_type": "code",
   "execution_count": null,
   "metadata": {
    "collapsed": false,
    "deletable": true,
    "editable": true
   },
   "outputs": [],
   "source": [
    "subset = [wikiparser.WikipediaArticle(*args) for args in raw]\n",
    "random.shuffle(subset)\n",
    "print len(subset)"
   ]
  },
  {
   "cell_type": "markdown",
   "metadata": {
    "deletable": true,
    "editable": true
   },
   "source": [
    "In 2018, there are several thousand more."
   ]
  },
  {
   "cell_type": "code",
   "execution_count": 2,
   "metadata": {
    "collapsed": false,
    "deletable": true,
    "editable": true
   },
   "outputs": [
    {
     "name": "stdout",
     "output_type": "stream",
     "text": [
      "53953\n"
     ]
    }
   ],
   "source": [
    "raw = pickle.load(open(\"cache_raw_2018.pickle\"))\n",
    "subset = [wikiparser.WikipediaArticle(*args) for args in raw]\n",
    "random.shuffle(subset)\n",
    "print len(subset)"
   ]
  },
  {
   "cell_type": "code",
   "execution_count": 4,
   "metadata": {
    "collapsed": false,
    "deletable": true,
    "editable": true
   },
   "outputs": [
    {
     "data": {
      "text/plain": [
       "Kapelln\n",
       "================================================================================\n",
       "{{Infobox Town AT|\n",
       "      <text xml:space=\"preserve\">{{Infobox Town AT|\n",
       "name=Kapelln|\n",
       "name_local=|\n",
       "image_coa = AUT Kapelln COA.jpg |\n",
       "image_map = |\n",
       "state = [[Lower Austria]] |\n",
       "regbzk = |\n",
       "district = [[Sankt Pölten-Land]]|\n",
       "population =1280|\n",
       "population_as_of = 2001|\n",
       "population_ref =|\n",
       "pop_dens = |\n",
       "area = 20.18|\n",
       "elevation = 226\n",
       "|\n",
       "coordinates = {{coord|48|15|N|15|45|E|display=inline,title}}\n",
       "|\n",
       "lat_hem=N|\n",
       "lon_hem=E|\n",
       "postal_code = 3141|\n",
       "area_code =02784|\n",
       "mayor = Alois Vogl|\n",
       "website = http://www.kapelln.at"
      ]
     },
     "execution_count": 4,
     "metadata": {},
     "output_type": "execute_result"
    }
   ],
   "source": [
    "subset[233]"
   ]
  },
  {
   "cell_type": "code",
   "execution_count": 7,
   "metadata": {
    "collapsed": false,
    "deletable": true,
    "editable": true
   },
   "outputs": [
    {
     "name": "stdout",
     "output_type": "stream",
     "text": [
      "Upper Canada\n",
      "Little Bolton\n",
      "Kosovo\n",
      "***:Kosovo|display=inline,title}}\n",
      "| ***\n",
      "Catholic Church in Canada\n",
      "Oppland\n",
      "Jordan River (Utah)\n",
      "Rural Municipality of St. Andrews\n",
      "Arabian Peninsula\n",
      "Germans in the Czech Republic\n",
      "Rail transport in China\n",
      "Transperth Trains\n",
      "{{Xb|K\n",
      "***:{{Xb|KOS}}|display=inline,title}***\n",
      "MTR\n",
      "Rural Municipality of St. Clements\n",
      "{{Xb|K\n",
      "***:{{Xb|KOS}}|display=inline,title}***\n",
      "Taipei Metro\n",
      "Stone Town\n",
      "Germans of Kazakhstan\n",
      "Nordland\n",
      "Plymouth Colony\n",
      "Bernstein im Burgenland\n",
      "High-speed rail in Turkey\n",
      "Census in Myanmar\n",
      "Crown Colony of Sarawak\n",
      "Spain_\n",
      "***:Spain_type:city|display=title,in***\n",
      "Timeline of Cape Town\n",
      "Australian Public Service\n",
      "Douglas, Juneau\n",
      "Religion in Canada\n",
      "Syria\n",
      "Rape of Bramber\n",
      "Union Station (Erie, Pennsylvania)\n",
      "Southwark, Philadelphia\n",
      "Current Island, Newfoundland\n",
      "Armstrong's Point\n",
      "River Heights, Winnipeg\n",
      "Street dogs in Sofia\n",
      "Byzantine army\n",
      "Priesthood in the Catholic Church\n",
      "Buskerud\n",
      "{{Xb|K\n",
      "***:{{Xb|KOS}}|display=inline,title}***\n",
      "Buddhism in Canada\n",
      "Mendota Mental Health Institute\n",
      "Crescentwood, Winnipeg\n",
      "Trichinopoly District\n",
      "Great Bolton\n",
      "West St. Modeste\n",
      "Melrose Public Schools\n",
      "Dorog\n",
      "Template:Historical census population in Zambia\n",
      "Module:Historical populations\n",
      "Rosengård\n",
      "Italo-Albanese Eparchy of Lungro\n",
      "Society Hill\n",
      "Asia\n",
      "NO}}\n",
      "{\n",
      "***:NO}}\n",
      "{{SognFjordane-geo-stub}}\n",
      "[***\n",
      "Rural Municipality of Rockwood\n",
      "Omak Airport\n",
      "Rape of Arundel\n",
      "North Point Douglas\n",
      "Latin America\n",
      "Amish\n",
      "Puerto Rican migration to New York City\n",
      "Győr\n",
      "Poles in the Soviet Union\n",
      "Template:Philippine Census\n",
      "Briarcliff Farms\n",
      "Resurrection Elementary School (Pittsburgh)\n",
      "Presbytery of Boston\n",
      "East Germany\n",
      "Rosario, Santa Fe\n",
      "Vestfold\n",
      "Ethnic groups in South Africa\n",
      "Over-the-Rhine\n",
      "Elizabethtown station\n",
      "Debian\n",
      "Rape of Chichester\n",
      "NO}}\n",
      "\n",
      "\n",
      "***:NO}}\n",
      "\n",
      "[[Category:Districts of So***\n",
      "Template:Historical populations TW\n",
      "{{xb|K\n",
      "***:{{xb|KOS}}|display=inline,title}***\n",
      "Vest-Telemark\n",
      "Ukrainians in the Czech Republic\n",
      "Pudukkottai State\n",
      "Lienz District\n",
      "Lúrio University\n",
      "Intercity-Express\n",
      "Immigration to Portugal\n",
      "Indian Bay\n",
      "Hungarians in Romania\n",
      "Trondheim og omland\n",
      "Winnebago Mental Health Institute\n",
      "High-speed rail in China\n",
      "Census in Botswana\n",
      "Slovenia\n",
      "Lancaster station (Pennsylvania)\n",
      "Sardinian people\n",
      "Spenard, Anchorage\n",
      "Pomeranian Evangelical Church\n",
      "Aran Islands\n",
      "Bulgarians in Czechoslovakia\n",
      "Overseas department\n",
      "Rural Municipality of Bifrost\n",
      "Wedgeport\n",
      "Tibet Autonomous Region\n",
      "Denver Public Schools\n",
      "Middletown station (Pennsylvania)\n",
      "Ailik\n",
      "Tuxedo, Winnipeg\n",
      "Shenzhen Metro\n",
      "Priest shortage in the Catholic Church\n",
      "Timeline of Briarcliff Manor\n",
      "Telemark\n",
      "Template:Historical populations/row\n",
      "AT}}, \n",
      "***:AT}}, {{convert|670|m|ft|0|abbr=***\n",
      "Cumbria\n",
      "Nord-Trøndelag\n",
      "Presbyterian Church in the United States\n",
      "Prussian Union of Churches\n",
      "Weston, Winnipeg\n",
      "es|dis\n",
      "***:es|display=inline,title}}\n",
      "| elev***\n",
      "Coucy-le-Château-Auffrique\n",
      "Spring Garden, Philadelphia\n",
      "Santa Isabel, Baja California\n",
      "Buhera District\n",
      "Tuggeranong\n",
      "Øvre Sandsvær\n",
      "Estoril\n",
      "Duchy of Brunswick\n",
      "Coorg Province\n",
      "Cardinal Muench Seminary\n",
      "Marondera Central\n"
     ]
    }
   ],
   "source": [
    "# \"Spring Garden, PA\" is a problem: ignored as a neighborhood, but actually useful\n",
    "\n",
    "for i,s in enumerate(subset):\n",
    "    if s.country() is None and not s.drop_from_title():\n",
    "        print s.title\n",
    "        \n"
   ]
  },
  {
   "cell_type": "code",
   "execution_count": 8,
   "metadata": {
    "collapsed": false,
    "deletable": true,
    "editable": true
   },
   "outputs": [
    {
     "ename": "ValueError",
     "evalue": "invalid literal for int() with base 10: 'A'",
     "output_type": "error",
     "traceback": [
      "\u001b[0;31m\u001b[0m",
      "\u001b[0;31mValueError\u001b[0mTraceback (most recent call last)",
      "\u001b[0;32m<ipython-input-8-2e0b20450aad>\u001b[0m in \u001b[0;36m<module>\u001b[0;34m()\u001b[0m\n\u001b[0;32m----> 1\u001b[0;31m \u001b[0mint\u001b[0m\u001b[0;34m(\u001b[0m\u001b[0;34m\"A\"\u001b[0m\u001b[0;34m)\u001b[0m\u001b[0;34m\u001b[0m\u001b[0m\n\u001b[0m",
      "\u001b[0;31mValueError\u001b[0m: invalid literal for int() with base 10: 'A'"
     ]
    }
   ],
   "source": [
    "int(\"A\")"
   ]
  },
  {
   "cell_type": "code",
   "execution_count": 42,
   "metadata": {
    "collapsed": false,
    "deletable": true,
    "editable": true
   },
   "outputs": [
    {
     "name": "stdout",
     "output_type": "stream",
     "text": [
      "[('US', 31675), ('FR', 16754), ('Unknown (Non-US)', 1491), ('CA', 836), ('AT', 754), (None, 498), ('RO', 250), ('ES', 178), ('RS', 149), ('Ireland', 140)]\n"
     ]
    }
   ],
   "source": [
    "from collections import Counter\n",
    "\n",
    "countries = Counter()\n",
    "\n",
    "for i,article in enumerate(subset):\n",
    "    countries[article.country()] += 1\n",
    "        \n",
    "print countries.most_common(10)\n"
   ]
  },
  {
   "cell_type": "code",
   "execution_count": 43,
   "metadata": {
    "collapsed": false,
    "deletable": true,
    "editable": true
   },
   "outputs": [
    {
     "name": "stdout",
     "output_type": "stream",
     "text": [
      "Hopkinton, Rhode Island\n",
      "City 9863\n",
      "Town 6469\n",
      "Village 3787\n",
      "Township 3256\n",
      "US County 2982\n",
      "Census-designated place 1397\n",
      "Borough 1162\n",
      "Cdp 571\n",
      "Unknown 337\n",
      "Unincorporated community 260\n",
      " 147\n",
      "Neighborhood 104\n",
      "Statutory town 100\n",
      "Home rule municipality 77\n",
      "County 75\n",
      "Community area}} 61\n",
      "General law city 52\n",
      "Census designated place 51\n",
      "US State 51\n",
      "Charter city 43\n",
      "Census Area 41\n",
      "Independent city 38\n",
      "Plantation 37\n",
      "Ghost town 32\n",
      "Census-designated place (cdp) &amp; unincorporated community 27\n",
      "Military Installation 27\n",
      "Census-designated place (cdp) 26\n",
      "Unorganized territory 22\n",
      "Former cdp 22\n",
      "Charter township 22\n",
      "Community 21\n",
      "Municipality 19\n",
      "State capital 18\n",
      "&quot;gr1&quot;&gt;publisher=[[united states census bureau|accessdate=2011-04-23|date=2011-02-12|title=us gazetteer files: 2010, 2000, and 1990}} 15\n",
      "Census-designated place &amp; unincorporated community 13\n",
      "Consolidated city-county 13\n",
      "town 13\n",
      "Second-class township 11\n",
      "Hamlet 11\n",
      "Former census-designated place 10\n",
      "Metropolitan statistical area 10\n",
      "NHRP 9\n",
      "Suburban town 9\n",
      "City and county seat 8\n",
      "Unincorporated Community 8\n",
      "Inactive village 8\n",
      "Statutory city 8\n",
      "County seat 8\n",
      "Neighborhood of miami gardens 7\n",
      "Former city 7\n"
     ]
    }
   ],
   "source": [
    "from collections import Counter\n",
    "\n",
    "settlements = Counter()\n",
    "\n",
    "for i,article in enumerate(subset):\n",
    "    if article.country() == \"US\":\n",
    "        settlements[wikiparser.settle_type(article)] += 1\n",
    "        \n",
    "for (k,v) in settlements.most_common(50):\n",
    "    print k, v\n",
    "\n"
   ]
  },
  {
   "cell_type": "code",
   "execution_count": null,
   "metadata": {
    "collapsed": false,
    "deletable": true,
    "editable": true
   },
   "outputs": [],
   "source": []
  },
  {
   "cell_type": "code",
   "execution_count": 162,
   "metadata": {
    "collapsed": false,
    "deletable": true,
    "editable": true
   },
   "outputs": [
    {
     "name": "stdout",
     "output_type": "stream",
     "text": [
      "0\n",
      "1000\n",
      "2000\n",
      "3000\n",
      "4000\n",
      "5000\n",
      "6000\n",
      "7000\n",
      "8000\n",
      "9000\n",
      "10000\n",
      "11000\n",
      "12000\n",
      "13000\n",
      "14000\n",
      "15000\n",
      "16000\n",
      "17000\n",
      "18000\n",
      "19000\n",
      "20000\n",
      "21000\n",
      "22000\n",
      "23000\n",
      "24000\n",
      "25000\n",
      "26000\n",
      "27000\n",
      "SOMETHING OFF WITH Hopkinton, Rhode Island\n",
      "28000\n",
      "29000\n",
      "30000\n",
      "31000\n",
      "32000\n",
      "33000\n",
      "34000\n",
      "35000\n",
      "36000\n",
      "37000\n",
      "38000\n",
      "39000\n",
      "40000\n",
      "41000\n",
      "42000\n",
      "43000\n",
      "44000\n",
      "45000\n",
      "46000\n",
      "47000\n",
      "48000\n",
      "49000\n",
      "50000\n",
      "51000\n",
      "52000\n",
      "53000\n",
      "La Flotte\n"
     ]
    }
   ],
   "source": [
    "rows = []\n",
    "failures = []\n",
    "import numpy as np\n",
    "years = range(1790,2020,10)\n",
    "\n",
    "for i,article in enumerate(subset):\n",
    "    if i % 1000 == 0:\n",
    "        print i\n",
    "    if article.country() not in [\"US\",\"USA\",\"United States\",\"United States of America\"]:\n",
    "        continue\n",
    "    if article.drop_from_title():\n",
    "        continue\n",
    "    out = {\"title\":article.title,\"id\":article.id}\n",
    "    try:\n",
    "        pops = article.pops()\n",
    "    except wikiparser.NoSuchAttribute:\n",
    "        print \"No pops for {}\".format(article.title)\n",
    "        failures.append(article)\n",
    "        continue\n",
    "    try:\n",
    "        out[\"state\"] = article.state()\n",
    "    except wikiparser.NoSuchAttribute:\n",
    "        if article.pops():\n",
    "            if article.pops()[-1][1] > 100000:\n",
    "                raise\n",
    "                failures.append(article)\n",
    "    except KeyError as exception:\n",
    "        if 'unorganized, unincorporated territory' in str(exception).lower():\n",
    "            continue\n",
    "        if 'plainlist' in str(exception):\n",
    "            # Some multi-state metro areas\n",
    "            continue\n",
    "        else:\n",
    "            raise\n",
    "    try:\n",
    "        out[\"lat\"],out[\"lon\"] = article.coords()\n",
    "    except:\n",
    "        out[\"lat\"], out[\"lon\"] = [None,None]\n",
    "    out[\"settlement_type\"] = wikiparser.settle_type(article)\n",
    "    try:\n",
    "        out[\"poptype\"] = str(article.poptype)\n",
    "    except:\n",
    "        out[\"poptype\"] = \"Unknown\"\n",
    "    for year in years:\n",
    "        out['y' + str(year)] = 0\n",
    "    try:\n",
    "        out['other_years'] = \"[\"\n",
    "        for year,population in article.pops():\n",
    "            year = 'y' + str(year)\n",
    "            if year in out: # Only store for census years\n",
    "                if population == 0:\n",
    "                    population=np.nan\n",
    "                out[year] = population\n",
    "            else:\n",
    "                out['other_years'] += \"[{},{}],\".format(year,population)\n",
    "        # Drop the final comma\n",
    "        out['other_years'] = out['other_years'][:-1]\n",
    "        # add a closing bar if anything was put here.\n",
    "        if (out['other_years'] != \"\"):\n",
    "            out['other_years'] += \"]\"\n",
    "    except TypeError:\n",
    "        print \"No pops for {}\".format(article.title)\n",
    "        #failures.append(article)\n",
    "        continue\n",
    "    out[\"article_length\"] = len(article.text)\n",
    "    out[\"country\"] = article.country()\n",
    "    rows.append(out)\n",
    "\n",
    "print article.title"
   ]
  },
  {
   "cell_type": "code",
   "execution_count": 159,
   "metadata": {
    "collapsed": false
   },
   "outputs": [
    {
     "name": "stdout",
     "output_type": "stream",
     "text": [
      "{{other uses}}\n",
      "      <text xml:space=\"preserve\">{{other uses}}\n",
      "{{Refimprove|date=April 2015}}\n",
      "The '''Pee Dee''' region of [[South Carolina]] is the northeastern corner of the state. The main [[area code]] is 843. It is the area of the lower watershed of the [[Pee Dee River]], named after the [[Pee Dee (tribe)|Pee Dee]] [[Native Americans in the United States|Native American]] tribe that occupies this area. They are descended from a culture of the same name that occupied the area as part of the South Appalachian Mississippian Culture, from about 1000 to 1400, leaving some centers for unknown reasons. The official seat of government for the Pee Dee Indian Tribe is now located in Marlboro County. They are a state recognized tribe who have been seeking federal acknowledgment since 1976. \n",
      "\n",
      "The region's 21st-century center is [[Florence, South Carolina|Florence]]. It encompasses the [[Grand Strand]], which includes the beaches running from the [[North Carolina]] state border to the [[Winyah Bay]] in [[Georgetown County, South Carolina|Georgetown County]] in South Carolina.\n",
      "\n",
      "On the coast, the area is predominantly involved in [[tourism]] and [[resort]]s, featuring beaches, [[amusement park]]s, shopping, fishing, and golf. The area has become a major retirement center in the United States, in part because of its low cost of living, mild weather, and its many golf courses.\n",
      "\n",
      "Inland is a belt featuring rivers, [[marsh]]es, [[carolina bay]]s, and sandy rises where forestry is predominant. There are pine [[plantation]]s and [[Taxodium distichum|baldcypress]] timbering. Further inland, on higher ground, but still of only slight relief, is an agricultural belt of cultivation of [[tobacco]], [[cotton]], [[soybean]]s and [[produce]].\n",
      "\n",
      "Founded as a railroad center in the 19th century, Florence is today a small, but growing center of production of [[pharmaceutical]]s, and other light industry. It is known as a center of medical and dental care. The Pee Dee Region also produces paper, steel, and recreational vehicles.\n",
      "\n",
      "== Regional definition ==\n",
      "There is no agreed definition on which of South Carolina's counties are included in the region. The region takes its name from the [[Pee Dee River]]. The counties in the Pee Dee region are located, either entirely or partially, within the river's watershed.\n",
      "\n",
      "{{US Census population\n",
      "|1950= 510179\n",
      "|1960= 532450\n",
      "|1970= 524091\n",
      "|1980= 624669\n",
      "|1990= 683840\n",
      "|2000= 777839\n",
      "|2010= 871876\n",
      "|estimate= 881395\n",
      "|estyear= 2012|align-fn=center\n",
      "|footnote=[https://web.archive.org/web/20060208103743/http://www.census.gov:80/prod/www/abs/decennial/ U.S. Decennial Census]\n",
      "}}\n",
      "\n",
      "=== Always included ===\n",
      "* [[Chesterfield County, South Carolina|Chesterfield County]]\n",
      "* [[Darlington County, South Carolina|Darlington County]]\n",
      "* [[Dillon County, South Carolina|Dillon County]]\n",
      "* [[Florence County, South Carolina|Florence County]]\n",
      "* [[Marlboro County, South Carolina|Marlboro County]]\n",
      "* [[Marion County, South Carolina|Marion County]]\n",
      "\n",
      "=== Usually included ===\n",
      "* [[Horry County, South Carolina|Horry County]]\n",
      "* [[Georgetown County, South Carolina|Georgetown County]]\n",
      "* [[Williamsburg County, South Carolina|Williamsburg County]]\n",
      "\n",
      "=== Rarely included ===\n",
      "* [[Clarendon County, South Carolina|Clarendon County]]\n",
      "* [[Lee County, South Carolina|Lee County]]\n",
      "* [[Sumter County, South Carolina|Sumter County]]\n",
      "\n",
      "== Politics ==\n",
      "The Pee Dee region has remained relatively constant during the first decade of the 21st century in terms of its voting history. The region's voters have been close during the previous four presidential elections, but lean toward the Republican Party. The tilt of the region is primarily due to the numerous Republicans resident in Horry County along the Atlantic coast.&lt;ref name=&quot;auto&quot;&gt;{{cite web|url=http://uselectionatlas.org/RESULTS/|title=Dave Leip's Atlas of U.S. Presidential Elections|first=David|last=Leip|website=Uselectionatlas.org|accessdate=2 January 2018}}&lt;/ref&gt;   \n",
      "\n",
      "At the congressional level, the region, including the rarely included counties, is located within three congressional districts. The Pee Dee region is mostly contained in [[South Carolina's 7th congressional district]]. \n",
      "\n",
      "Williamsburg, Clarendon, parts of Sumter, and parts of Florence counties are located in the [[majority-minority]] [[South Carolina's 6th congressional district|6th district]]. Lee and the remaining parts of Sumter counties are located in [[South Carolina's 5th congressional district|5th district]].&lt;ref&gt;{{cite web|url=http://www.islandpacket.com/2011/07/26/1738581/sc-lawmakers-approve-new-7th-congressional.html|title=SC lawmakers approve new 7th congressional district anchored in Horry County|website=Islandpacket.com|accessdate=2 January 2018}}&lt;/ref&gt; The 5th and 6th districts are represented by Republican [[Mick Mulvaney]] and Democrat [[Jim Clyburn]], respectively. \n",
      "\n",
      "The 7th district was established following the 2010 census. In the 2012 elections, incumbents Mulvaney and Clyburn won re-election. Republican [[Tom Rice]] defeated Democrat Gloria Tinubu, both of Horry County, 54.9% to 45.1%, to represent South Carolina's new House seat.&lt;ref&gt;[http://www.politico.com/2012-election/results/house/south-carolina/] {{dead link|date=January 2018}}&lt;/ref&gt;\n",
      "   \n",
      "{| align=&quot;right&quot; border=&quot;2&quot; cellpadding=&quot;4&quot; cellspacing=&quot;0&quot; style=&quot;margin: 0 1em 1em 1em; border: 1px #aaa solid; border-collapse: collapse; font-size: 95%;&quot;\n",
      "|+ '''Presidential Election Results 2000-2012'''&lt;ref name=&quot;auto&quot;/&gt;\n",
      "|- bgcolor=lightgrey\n",
      "! Year\n",
      "! [[Democratic Party (United States)|Democrat]]\n",
      "! [[Republican Party (United States)|Republican]]\n",
      "|-\n",
      "|align=&quot;center&quot; bgcolor=&quot;#fff3f3&quot;|'''[[U.S. presidential election, 2012|2012]]\n",
      "|align=&quot;center&quot; bgcolor=&quot;#f0f0ff&quot;|47% ''139,723''\n",
      "|align=&quot;center&quot; bgcolor=&quot;#fff3f3&quot;|'''53%''' ''159,629''\n",
      "|-\n",
      "|align=&quot;center&quot; bgcolor=&quot;#fff3f3&quot;|'''[[U.S. presidential election, 2008|2008]]\n",
      "|align=&quot;center&quot; bgcolor=&quot;#f0f0ff&quot;|47% ''138,565''\n",
      "|align=&quot;center&quot; bgcolor=&quot;#fff3f3&quot;|'''53%''' ''153,380''\n",
      "|-\n",
      "|align=&quot;center&quot; bgcolor=&quot;#fff3f3&quot;|'''[[U.S. presidential election, 2004|2004]]\n",
      "|align=&quot;center&quot; bgcolor=&quot;#f0f0ff&quot;|46% ''106,776''\n",
      "|align=&quot;center&quot; bgcolor=&quot;#fff3f3&quot;|'''54%''' ''124,487''\n",
      "|-\n",
      "|align=&quot;center&quot; bgcolor=&quot;#fff3f3&quot;|'''[[U.S. presidential election, 2000|2000]]\n",
      "|align=&quot;center&quot; bgcolor=&quot;#f0f0ff&quot;|47% ''96,150''\n",
      "|align=&quot;center&quot; bgcolor=&quot;#fff3f3&quot;|'''53%''' ''107,954''\n",
      "|-\n",
      "|}\n",
      "\n",
      "== Cities ==\n",
      "\n",
      "=== Primary cities ===\n",
      "(population figures is from 2010 census estimates)\n",
      "* [[Florence, South Carolina|Florence]]: 37,056\n",
      "* [[Myrtle Beach, South Carolina|Myrtle Beach]]: 27,109\n",
      "\n",
      "=== Cities with a population of at least 5,000 ===\n",
      "* [[Bennettsville, South Carolina|Bennettsville]]: 9,425\n",
      "* [[Cheraw, South Carolina|Cheraw]]: 9,069\n",
      "* [[Conway, South Carolina|Conway]]: 15,584\n",
      "* [[Darlington, South Carolina|Darlington]]: 6,720\n",
      "* [[Dillon, South Carolina|Dillon]]: 6,316\n",
      "* [[Georgetown, South Carolina|Georgetown]]: 8,950\n",
      "* [[Hartsville, South Carolina|Hartsville]]: 7,556\n",
      "* [[Lake City, South Carolina|Lake City]]: 6,478\n",
      "* [[Marion, South Carolina|Marion]]: 7,042\n",
      "* [[North Myrtle Beach, South Carolina|North Myrtle Beach]]: 15,516\n",
      "\n",
      "== Higher education ==\n",
      "\n",
      "=== 4-year colleges ===\n",
      "* [[Coastal Carolina University]]- Conway\n",
      "* [[Coker College]]- Hartsville\n",
      "* [[Francis Marion University]]- Florence\n",
      "\n",
      "=== 2-year or specialized colleges ===\n",
      "* [[Florence-Darlington Technical College]]-Florence\n",
      "* [[Horry-Georgetown Technical College]]- Conway\n",
      "* [[Northeastern Technical College]]- Cheraw\n",
      "* [[Williamsburg Technical College]]- Kingstree\n",
      "* [[Webster University]]- Myrtle Beach\n",
      "\n",
      "== Media ==\n",
      "The area is served by four commercial broadcast television stations, [[WBTW-TV|WBTW CBS 13]], [[WPDE-TV|WPDE ABC 15]], [[WMBF-TV|WMBF NBC 32]] and [[WFXB|WFXB Fox 43]], the first two with twin studios at Florence and Myrtle Beach, as well as two [[South Carolina Educational Television|educational television]] stations substations, WHMC-TV, in [[Conway, South Carolina]], and WJPM-TV in [[Florence, South Carolina]]\n",
      "\n",
      "Daily newspapers include ''[[The Sun News]]'' of Myrtle Beach and ''[[The Morning News (American newspaper)|The Morning News]]'' of Florence. The ''[[Georgetown, South Carolina|Georgetown Times]]'' is published five times per week.\n",
      "\n",
      "==Major highways==\n",
      "*[[Interstate 20 in South Carolina|Interstate 20]]\n",
      "*[[Interstate 95 in South Carolina|Interstate 95]]\n",
      "*Future [[Interstate 73 in South Carolina|Interstate 73]]\n",
      "*[[US Route 1|US Highway 1]]\n",
      "*[[US Route 15|US Highway 15]]\n",
      "*[[US Route 52|US Highway 52]]\n",
      "*[[US Route 76|US Highway 76]]\n",
      "*[[US Route 301|US Highway 301]]\n",
      "*[[US Route 378|US Highway 378]]\n",
      "*[[US Route 501|US Highway 401]]\n",
      "*[[US Route 501|US Highway 501]]\n",
      "*[[US Route 701|US Highway 701]] \n",
      "*[[SC Highway 22]]\n",
      "*[[South Carolina Highway 9|SC Highway 9]]\n",
      "*[[South Carolina Highway 38|SC Highway 38]]\n",
      "*[[South Carolina Highway 41|SC Highway 41]] &amp; [[South Carolina Highway 41#Marion alternate route|SC Highway 41 ALT]]\n",
      "*[[SC 51|SC Highway 51]]\n",
      "*[[SC 145|SC Highway 145]]\n",
      "*[[SC 151|SC Highway 151]]\n",
      "*[[SC 177|SC Highway 177]]\n",
      "\n",
      "==See also==\n",
      "* [[Early history of Williamsburg, South Carolina]]\n",
      "* [[Pee Dee Area Council]]\n",
      "* [[Peedee Formation]]\n",
      "\n",
      "==References==\n",
      "{{Reflist}}\n",
      "\n",
      "==External links==\n",
      "* [http://peedeetourism.com/ Pee Dee Tourism Commission]\n",
      "\n",
      "{{South Carolina}}\n",
      "\n",
      "{{Coord|34.205833|-79.539167|display=title}}\n",
      "\n",
      "[[Category:Regions of South Carolina]\n"
     ]
    }
   ],
   "source": [
    "print article.text"
   ]
  },
  {
   "cell_type": "markdown",
   "metadata": {
    "deletable": true,
    "editable": true
   },
   "source": [
    "Code used to debug settlement type. Fiddled with until I was getting > 99% extraction rate."
   ]
  },
  {
   "cell_type": "code",
   "execution_count": 163,
   "metadata": {
    "collapsed": false,
    "deletable": true,
    "editable": true
   },
   "outputs": [
    {
     "name": "stdout",
     "output_type": "stream",
     "text": [
      "99\n"
     ]
    }
   ],
   "source": [
    "for j in range(100):\n",
    "    f = random.sample(subset,1)[0]\n",
    "    if f.drop_from_title():\n",
    "        continue\n",
    "    #print f.text[:500]\n",
    "    for i in range(10):\n",
    "        if f.country() != \"US\":\n",
    "            f = random.sample(subset,1)[0]\n",
    "    _ = wikiparser.settle_type(f)\n",
    "    if _ == \"Unknown\":\n",
    "        print j\n",
    "        print f.title\n",
    "        print f.text[:2500]\n",
    "        raise\n",
    "print  j"
   ]
  },
  {
   "cell_type": "markdown",
   "metadata": {
    "deletable": true,
    "editable": true
   },
   "source": [
    "What are some places that have no state listed in them?"
   ]
  },
  {
   "cell_type": "code",
   "execution_count": 164,
   "metadata": {
    "collapsed": false,
    "deletable": true,
    "editable": true
   },
   "outputs": [
    {
     "name": "stdout",
     "output_type": "stream",
     "text": [
      "\"Fort Wainwright\":\"\",\n",
      "\"Woodlawn (Birmingham)\":\"\",\n",
      "\"McChord Field\":\"\",\n",
      "\"Tuscarora Reservation\":\"\",\n",
      "\"Grissom Air Reserve Base\":\"\",\n",
      "\"Fort Lewis\":\"\",\n",
      "\"Fort Leonard Wood\":\"\",\n",
      "\"Fort McClellan\":\"\",\n",
      "\"Andrews Air Force Base\":\"\",\n",
      "\"Minot Air Force Base\":\"\",\n",
      "\"Camden County High School (Georgia)\":\"\",\n",
      "\"Shekhan District\":\"\",\n",
      "\"Grosse Pointe\":\"\",\n",
      "\"Eielson Air Force Base\":\"\",\n",
      "\"Nellis Air Force Base\":\"\",\n",
      "\"Ensley (Birmingham)\":\"\",\n",
      "\"Beale Air Force Base\":\"\",\n",
      "\"Louds Island\":\"\",\n",
      "\"K. I. Sawyer Air Force Base\":\"\",\n",
      "\"Louisiana State University\":\"\",\n",
      "\"Edwards Air Force Base\":\"\",\n",
      "\"Joint Base Andrews\":\"\",\n",
      "\"Tribeca\":\"\",\n",
      "\"Fort Carson\":\"\",\n",
      "\"Kentucky State University\":\"\",\n",
      "\"Greater Grand Forks\":\"\",\n",
      "\"Tyndall Air Force Base\":\"\",\n",
      "\"McGuire Air Force Base\":\"\",\n",
      "\"Oil Springs Reservation\":\"\",\n",
      "\"Mountain Home Air Force Base\":\"\",\n",
      "\"Johnstown Inclined Plane\":\"\",\n",
      "\"Vint Hill Farms Station\":\"\",\n",
      "\"Fairchild Air Force Base\":\"\",\n",
      "\"Fort Richardson (Alaska)\":\"\",\n",
      "\"Dover Air Force Base\":\"\",\n",
      "\"Redstone Arsenal\":\"\",\n",
      "\"St. Regis Mohawk Reservation\":\"\",\n",
      "\"Allegany Indian Reservation\":\"\",\n",
      "\"Washington County, D.C.\":\"\",\n",
      "\"Fort Rucker\":\"\",\n",
      "\"Elmendorf Air Force Base\":\"\",\n",
      "\"University of Oregon\":\"\",\n",
      "\"Big Coppitt Key\":\"\",\n",
      "\"Ellsworth Air Force Base\":\"\",\n"
     ]
    }
   ],
   "source": [
    "for f in subset:\n",
    "    if f.drop_from_title():\n",
    "        continue\n",
    "    if f.country() != \"US\":\n",
    "        continue\n",
    "    try:\n",
    "        _ = f.state()\n",
    "    except wikiparser.NoSuchAttribute:\n",
    "        p = f.pops()\n",
    "        try:\n",
    "            # Only print big places.\n",
    "            if p[-1][1] < 1000: \n",
    "                continue\n",
    "        except:\n",
    "            pass\n",
    "        print '\"{}\":\"\",'.format(f.title)\n",
    "        #print f.text[:2500]\n"
   ]
  },
  {
   "cell_type": "markdown",
   "metadata": {},
   "source": [
    "This data is written out to separate files for each state to make it easier to merge with Jacob Alperin's data."
   ]
  },
  {
   "cell_type": "code",
   "execution_count": 166,
   "metadata": {
    "collapsed": false,
    "deletable": true,
    "editable": true
   },
   "outputs": [],
   "source": [
    "# A list of state names\n",
    "import provinces\n",
    "import pandas as pd\n",
    "import os\n",
    "\n",
    "\n",
    "frame = pd.DataFrame(rows)\n",
    "from ggplot import *\n",
    "if not os.path.exists(\"wikipedia_state_data\"):\n",
    "    os.makedirs(\"wikipedia_state_data\")\n",
    "for k,v in provinces.us_states.iteritems():\n",
    "    frame[frame.state==v].to_csv(\"wikipedia_state_data/{}.csv\".format(v))\n",
    "\n",
    "frame.to_csv(\"wiki3.csv\")"
   ]
  },
  {
   "cell_type": "code",
   "execution_count": null,
   "metadata": {
    "collapsed": false,
    "deletable": true,
    "editable": true
   },
   "outputs": [],
   "source": [
    "#frame = frame[frame.poptype==\"USA\" ]"
   ]
  },
  {
   "cell_type": "code",
   "execution_count": 96,
   "metadata": {
    "collapsed": false,
    "deletable": true,
    "editable": true
   },
   "outputs": [
    {
     "data": {
      "image/png": "[encoded data removed]",
      "text/plain": [
       "<matplotlib.figure.Figure at 0x7fa1e0ae1cd0>"
      ]
     },
     "metadata": {},
     "output_type": "display_data"
    },
    {
     "data": {
      "text/plain": [
       "<ggplot: (8770827287017)>"
      ]
     },
     "execution_count": 96,
     "metadata": {},
     "output_type": "execute_result"
    }
   ],
   "source": [
    "ggplot(frame[frame.lon < -25],aes(x=\"lon\",y=\"lat\",color=\"state\")) + geom_point() + ylim(20,60) + xlim(-140,-60)"
   ]
  },
  {
   "cell_type": "code",
   "execution_count": null,
   "metadata": {
    "collapsed": false,
    "deletable": true,
    "editable": true
   },
   "outputs": [],
   "source": []
  },
  {
   "cell_type": "code",
   "execution_count": 97,
   "metadata": {
    "collapsed": false,
    "deletable": true,
    "editable": true
   },
   "outputs": [
    {
     "data": {
      "image/png": "[encoded data removed]",
      "text/plain": [
       "<matplotlib.figure.Figure at 0x7fa1de7c7850>"
      ]
     },
     "metadata": {},
     "output_type": "display_data"
    },
    {
     "data": {
      "text/plain": [
       "<ggplot: (8770824927673)>"
      ]
     },
     "execution_count": 97,
     "metadata": {},
     "output_type": "execute_result"
    }
   ],
   "source": [
    "ggplot(frame[frame.lon < -25],aes(x=\"lon\",y=\"lat\",color=\"poptype\")) + geom_point() + ylim(20,60) + xlim(-140,-60)"
   ]
  },
  {
   "cell_type": "code",
   "execution_count": null,
   "metadata": {
    "collapsed": false,
    "deletable": true,
    "editable": true
   },
   "outputs": [],
   "source": []
  },
  {
   "cell_type": "markdown",
   "metadata": {
    "deletable": true,
    "editable": true
   },
   "source": [
    "Matching on values"
   ]
  },
  {
   "cell_type": "code",
   "execution_count": null,
   "metadata": {
    "collapsed": false,
    "deletable": true,
    "editable": true
   },
   "outputs": [],
   "source": [
    "import numpy as np\n",
    "array = np.array(frame[[\"y\" + str(y) for y in years]],np.float64)\n",
    "array[array==0] = np.nan"
   ]
  },
  {
   "cell_type": "code",
   "execution_count": null,
   "metadata": {
    "collapsed": false,
    "deletable": true,
    "editable": true
   },
   "outputs": [],
   "source": [
    "all_matches = []\n",
    "\n",
    "for i in range(len(array)):\n",
    "    p = array[i:-1]==array[i+1:]\n",
    "    matches = np.where(np.sum(p,axis=1)>2)\n",
    "    if len(matches[0]) > 0:\n",
    "        print i\n",
    "        all_matches.append((i,matches))\n",
    "    if i % 5000 == 0:\n",
    "        print i\n",
    "                       \n",
    "                       \n"
   ]
  },
  {
   "cell_type": "code",
   "execution_count": null,
   "metadata": {
    "collapsed": false,
    "deletable": true,
    "editable": true
   },
   "outputs": [],
   "source": [
    "c1 = pd.read_csv(\"wiki_census/MEPlaces.csv\")\n",
    "c1[\"2010\"] = pd.to_numeric(c1[\"2010\"],np.float64)\n",
    "maine = np.array(c1[[str(y) for y in years]])\n",
    "\n",
    "# (202) 224-3121\n",
    "\n",
    "def match_row(a,b,i,min=3):\n",
    "    l = np.where(np.sum(a == b[i],axis=1)>min)[0]\n",
    "    if len(l) > 0:\n",
    "        return list(l)\n",
    "    \n",
    "def match_matrices(a,b,min=3):\n",
    "    matches = []\n",
    "    for i in range(len(b)):\n",
    "        row_matches = match_row(a,b,i,min=min)\n",
    "        matches.append((i,row_matches))\n",
    "    return matches\n",
    "fah = match_matrices(array,maine)\n",
    "fah[:4]"
   ]
  },
  {
   "cell_type": "code",
   "execution_count": null,
   "metadata": {
    "collapsed": false,
    "deletable": true,
    "editable": true
   },
   "outputs": [],
   "source": [
    "CESTA = pd.read_csv(\"../MiscData/CESTACityData.csv\")\n",
    "CESTA[\"2010\"] = pd.to_numeric(CESTA[\"2010\"],np.float64)\n",
    "c_mat = np.array(CESTA[[str(y) for y in years]])\n",
    "#c_mat[c_mat < 2500] = np.nan\n",
    "c_mat[c_mat==0] = np.nan\n"
   ]
  },
  {
   "cell_type": "code",
   "execution_count": null,
   "metadata": {
    "collapsed": false,
    "deletable": true,
    "editable": true
   },
   "outputs": [],
   "source": [
    "altered_array = array.clip(2500)\n",
    "\n",
    "cesta_crosswalk = match_matrices(array,c_mat)"
   ]
  },
  {
   "cell_type": "code",
   "execution_count": null,
   "metadata": {
    "collapsed": false,
    "deletable": true,
    "editable": true
   },
   "outputs": [],
   "source": [
    "j = 0\n",
    "misses = []\n",
    "for i,matches in cesta_crosswalk:\n",
    "    if matches is None:\n",
    "        if c_mat[i][19] > 0:\n",
    "            misses.append(i)\n",
    "            j += 1\n",
    "            print j,i,CESTA.iloc[i][\"CityST\"], \", \".join([str(int(p)) for p in list(c_mat[i]) if not np.isnan(p)])\n",
    "            f = c_mat[0]\n"
   ]
  },
  {
   "cell_type": "code",
   "execution_count": null,
   "metadata": {
    "collapsed": false,
    "deletable": true,
    "editable": true
   },
   "outputs": [],
   "source": [
    "print len(misses)\n",
    "random.seed(3)\n",
    "sampled = random.sample(misses,10)"
   ]
  },
  {
   "cell_type": "code",
   "execution_count": null,
   "metadata": {
    "collapsed": false,
    "deletable": true,
    "editable": true
   },
   "outputs": [],
   "source": [
    "i = sampled[0]\n",
    "place, pops = CESTA.iloc[i][\"CityST\"], \", \".join([str(int(p)) if not np.isnan(p) else \"0\" for p in list(c_mat[i])])\n",
    "print place,\"--\", pops\n",
    "\n",
    "print frame[frame.title==\"Brunswick, Maine\"]"
   ]
  },
  {
   "cell_type": "markdown",
   "metadata": {
    "deletable": true,
    "editable": true
   },
   "source": [
    "So after digging around, it seems that CESTA reports statistics for the Brunswick CDP, (but rounded to the nearest 100?), while Wikipedia gives the statistics for Brunswick Town. The difference being a second CDP,   https://en.wikipedia.org/wiki/Brunswick_Station,_Maine"
   ]
  },
  {
   "cell_type": "code",
   "execution_count": null,
   "metadata": {
    "collapsed": false,
    "deletable": true,
    "editable": true
   },
   "outputs": [],
   "source": [
    "i = sampled[1]\n",
    "place, pops = CESTA.iloc[i][\"CityST\"], \", \".join([str(int(p)) if not np.isnan(p) else \"0\" for p in list(c_mat[i])])\n",
    "print place,\"--\", pops\n",
    "\n",
    "print frame[frame.title==\"Lakewood Township, New Jersey\"]"
   ]
  },
  {
   "cell_type": "code",
   "execution_count": null,
   "metadata": {
    "collapsed": false,
    "deletable": true,
    "editable": true,
    "scrolled": true
   },
   "outputs": [],
   "source": [
    "CESTA = pd.read_csv(\"../MiscData/CESTACityData.csv\")\n",
    "CESTA[\"2010\"] = pd.to_numeric(CESTA[\"2010\"],np.float64)\n",
    "c_mat = np.array(CESTA[[str(y) for y in years]])\n",
    "c_mat[c_mat < 2500] = np.nan\n",
    "c_mat[c_mat==0] = np.nan\n"
   ]
  },
  {
   "cell_type": "code",
   "execution_count": null,
   "metadata": {
    "collapsed": false,
    "deletable": true,
    "editable": true
   },
   "outputs": [],
   "source": [
    "print sum(sum(c_mat>0))\n",
    "print sum(sum(array>0))"
   ]
  },
  {
   "cell_type": "markdown",
   "metadata": {
    "deletable": true,
    "editable": true
   },
   "source": [
    "Now I want to load the data from the wikipedia editor DemocraticLuntz, which is not the same as the full wikipedia set."
   ]
  },
  {
   "cell_type": "code",
   "execution_count": null,
   "metadata": {
    "collapsed": false,
    "deletable": true,
    "editable": true
   },
   "outputs": [],
   "source": [
    "import os\n",
    "fs = [f for f in os.listdir(\"wiki_census/\") if f.endswith(\".csv\")]\n",
    "fs.sort()\n",
    "print fs\n",
    "print \"\"\"\n",
    "There are multiple files for some places. I use the longer one, because it has more populations entered in.\n",
    "(Inspecting differences makes this clear.)\n",
    "\"\"\"\n",
    "\n",
    "master_list = []\n",
    "last = \"XXf\"\n",
    "for f in fs:\n",
    "    if f[:2]!=last[:2]:\n",
    "        master_list.append(f)\n",
    "    else:\n",
    "        # which is bigger?\n",
    "        if os.path.getsize(\"wiki_census/\" + master_list[-1]) > os.path.getsize(\"wiki_census/\" +f):\n",
    "            continue\n",
    "        else:\n",
    "            continue\n",
    "    last = f\n",
    "print master_list"
   ]
  },
  {
   "cell_type": "code",
   "execution_count": null,
   "metadata": {
    "collapsed": false,
    "deletable": true,
    "editable": true
   },
   "outputs": [],
   "source": [
    "all_together = pd.DataFrame([])\n",
    "for f in master_list:\n",
    "    new_data = pd.read_csv(\"wiki_census/\" + f,na_values = [\"-\",\"(X)\",\" \"])\n",
    "    new_data[\"state\"] = f[:2]\n",
    "    all_together = all_together.append(new_data)\n",
    "\n",
    "year_frame = all_together[[str(y) for y in years]]\n",
    "for y in years:\n",
    "    # God I hate pandas because I don't know every\n",
    "    pass\n",
    "    #year_frame[str(y)] = pd.to_numeric(year_frame[str(y)])\n",
    "jacob_mat = np.array(year_frame[[str(y) for y in years]])\n",
    "jacob_mat[jacob_mat==0] = np.nan\n"
   ]
  },
  {
   "cell_type": "code",
   "execution_count": null,
   "metadata": {
    "collapsed": false,
    "deletable": true,
    "editable": true
   },
   "outputs": [],
   "source": [
    "sum(sum(jacob_mat>0))"
   ]
  },
  {
   "cell_type": "markdown",
   "metadata": {
    "deletable": true,
    "editable": true
   },
   "source": [
    "There's a straightforward disagreement in at least this one case."
   ]
  },
  {
   "cell_type": "code",
   "execution_count": null,
   "metadata": {
    "collapsed": false,
    "deletable": true,
    "editable": true
   },
   "outputs": [],
   "source": [
    "a = frame[frame[\"title\"]==\"Princeton, Indiana\"].index[0]\n",
    "b = CESTA[CESTA.CityST == \"Princeton, IN\"].index[0]\n",
    "zip(\n",
    "    list(array[a]),\n",
    "    list(c_mat[b])\n",
    ")"
   ]
  },
  {
   "cell_type": "markdown",
   "metadata": {
    "deletable": true,
    "editable": true
   },
   "source": [
    "Indana.gov says:\n",
    "    6,041\t6,448\t7,132\t7,505\t7,786\t7,673\t7,906\t7,431\t8,976\t8,127\t8,175\t8,644\n",
    "    \n",
    "IOW, agrees with the CESTA data.\n",
    "So does the Census report.\n",
    "So does jacobmas's data. It seems this is an anonymous wikipedia editor in 2007, who put in \n",
    "[an absurdly high current population](https://en.wikipedia.org/w/index.php?title=Princeton,_Indiana&diff=187475063&oldid=183213818) and just a whole bunch of bad (made-up?) numbers from before.'\n",
    "|1850= 806\n",
    "|1860= 1397\n",
    "|1870= 1847\n",
    "|1880= 2566\n",
    "|1890= 3076\n",
    "|1900= 6041\n",
    "|1910= 6448\n",
    "|1920= 7132\n",
    "|1930= 7505\n",
    "|1940= 7786\n",
    "|1950= 7673\n",
    "|1960= 7906\n",
    "|1970= 7431\n",
    "|1980= 8976\n",
    "|1990= 8127\n",
    "|2000= 8175\n",
    "|2010= 8644\n",
    "|2020= 8608\n"
   ]
  },
  {
   "cell_type": "markdown",
   "metadata": {
    "deletable": true,
    "editable": true
   },
   "source": [
    "Save to disk"
   ]
  },
  {
   "cell_type": "markdown",
   "metadata": {
    "deletable": true,
    "editable": true
   },
   "source": [
    "Confirm that requiring at least 3 matches produces no hash collisions"
   ]
  },
  {
   "cell_type": "code",
   "execution_count": null,
   "metadata": {
    "collapsed": true,
    "deletable": true,
    "editable": true
   },
   "outputs": [],
   "source": [
    "c_self = match_matrices(c_mat,c_mat,2)"
   ]
  },
  {
   "cell_type": "code",
   "execution_count": null,
   "metadata": {
    "collapsed": false,
    "deletable": true,
    "editable": true
   },
   "outputs": [],
   "source": [
    "for row,matches in c_self:\n",
    "    try:\n",
    "        if len(matches) != 1:\n",
    "            print row,matches\n",
    "    except:\n",
    "        continue"
   ]
  },
  {
   "cell_type": "markdown",
   "metadata": {
    "deletable": true,
    "editable": true
   },
   "source": [
    "It does not. The only collision is lines 1 and 2, because the Lahnmeyer data rounds to 100 for Alaskan towns. 8227 and 570 are both Lake Elsinore, CA. "
   ]
  },
  {
   "cell_type": "code",
   "execution_count": null,
   "metadata": {
    "collapsed": false,
    "deletable": true,
    "editable": true
   },
   "outputs": [],
   "source": [
    "CESTA.iloc[8227]"
   ]
  },
  {
   "cell_type": "code",
   "execution_count": null,
   "metadata": {
    "collapsed": false,
    "deletable": true,
    "editable": true
   },
   "outputs": [],
   "source": [
    "total_pop = [(title,sum([p for (y,p) in pops]), pops[-2][1], length) for title,pops,length in older]\n",
    "import pandas as pd\n",
    "total_pop.sort(key = lambda x: x[1],reverse=True)\n",
    "frame = pd.DataFrame(total_pop,columns=[\"title\",\"total\",\"last\",\"length\"])\n",
    "frame.to_csv(\"city_pops.csv\")"
   ]
  },
  {
   "cell_type": "code",
   "execution_count": null,
   "metadata": {
    "collapsed": false,
    "deletable": true,
    "editable": true
   },
   "outputs": [],
   "source": [
    "import random\n",
    "import shelve\n",
    "\n",
    "def keyer(x):\n",
    "    return len(x[1])\n",
    "older.sort(key = keyer,reverse=True)\n",
    "[(o[0],len(o[1])) for o in older[:25]]"
   ]
  },
  {
   "cell_type": "code",
   "execution_count": null,
   "metadata": {
    "collapsed": false,
    "deletable": true,
    "editable": true
   },
   "outputs": [],
   "source": [
    "import random\n",
    "import shelve\n",
    "\n",
    "def keyer(x):\n",
    "    return len(x[1])\n",
    "older.sort(key = keyer,reverse=True)\n",
    "[(o[0],len(o[1])) for o in older[:25]]"
   ]
  },
  {
   "cell_type": "code",
   "execution_count": null,
   "metadata": {
    "collapsed": false,
    "deletable": true,
    "editable": true
   },
   "outputs": [],
   "source": [
    "[(c[0],c[1]) for c in older if c[0]==\"Connecticut\"]"
   ]
  },
  {
   "cell_type": "code",
   "execution_count": null,
   "metadata": {
    "collapsed": false,
    "deletable": true,
    "editable": true
   },
   "outputs": [],
   "source": [
    "[a.title for a in cache if \"Brooklyn\" in a.title]"
   ]
  },
  {
   "cell_type": "code",
   "execution_count": null,
   "metadata": {
    "collapsed": true,
    "deletable": true,
    "editable": true
   },
   "outputs": [],
   "source": [
    "foo = wikiparser.WikipediaArticle(\"London\")"
   ]
  },
  {
   "cell_type": "code",
   "execution_count": null,
   "metadata": {
    "collapsed": true,
    "deletable": true,
    "editable": true
   },
   "outputs": [],
   "source": [
    "import mwparserfromhell"
   ]
  },
  {
   "cell_type": "code",
   "execution_count": null,
   "metadata": {
    "collapsed": false,
    "deletable": true,
    "editable": true
   },
   "outputs": [],
   "source": [
    "self = wikiparser.WikipediaArticle(\"Chicago\")"
   ]
  },
  {
   "cell_type": "code",
   "execution_count": null,
   "metadata": {
    "collapsed": false,
    "deletable": true,
    "editable": true
   },
   "outputs": [],
   "source": [
    "foo.mwparse()"
   ]
  },
  {
   "cell_type": "code",
   "execution_count": null,
   "metadata": {
    "collapsed": false,
    "deletable": true,
    "editable": true
   },
   "outputs": [],
   "source": [
    "import random\n",
    "random.sample(cache,1)[0].historical_pops()"
   ]
  }
 ],
 "metadata": {
  "kernelspec": {
   "display_name": "Python 2",
   "language": "python",
   "name": "python2"
  },
  "language_info": {
   "codemirror_mode": {
    "name": "ipython",
    "version": 2
   },
   "file_extension": ".py",
   "mimetype": "text/x-python",
   "name": "python",
   "nbconvert_exporter": "python",
   "pygments_lexer": "ipython2",
   "version": "2.7.12"
  }
 },
 "nbformat": 4,
 "nbformat_minor": 0
}
