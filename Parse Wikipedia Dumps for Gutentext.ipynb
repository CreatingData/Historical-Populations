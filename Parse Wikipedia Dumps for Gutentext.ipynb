{
 "cells": [
  {
   "cell_type": "code",
   "execution_count": 2,
   "metadata": {
    "collapsed": false,
    "deletable": true,
    "editable": true
   },
   "outputs": [],
   "source": [
    "import wikiparser\n",
    "from wikiparser import WikipediaArticle\n",
    "%load_ext autoreload\n",
    "%autoreload 2"
   ]
  },
  {
   "cell_type": "code",
   "execution_count": 13,
   "metadata": {
    "collapsed": false,
    "deletable": true,
    "editable": true
   },
   "outputs": [
    {
     "name": "stdout",
     "output_type": "stream",
     "text": [
      "38 matches in 10000 articles\n",
      "73 matches in 20000 articles\n",
      "97 matches in 30000 articles\n",
      "128 matches in 40000 articles\n",
      "155 matches in 50000 articles\n",
      "167 matches in 60000 articles\n",
      "177 matches in 70000 articles\n",
      "179 matches in 80000 articles\n",
      "181 matches in 90000 articles\n",
      "181 matches in 100000 articles\n",
      "192 matches in 110000 articles\n",
      "212 matches in 120000 articles\n",
      "229 matches in 130000 articles\n",
      "241 matches in 140000 articles\n",
      "260 matches in 150000 articles\n",
      "277 matches in 160000 articles\n",
      "289 matches in 170000 articles\n",
      "303 matches in 180000 articles\n",
      "312 matches in 190000 articles\n",
      "322 matches in 200000 articles\n",
      "337 matches in 210000 articles\n",
      "340 matches in 220000 articles\n",
      "349 matches in 230000 articles\n",
      "358 matches in 240000 articles\n",
      "363 matches in 250000 articles\n",
      "369 matches in 260000 articles\n",
      "371 matches in 270000 articles\n",
      "377 matches in 280000 articles\n",
      "381 matches in 290000 articles\n",
      "385 matches in 300000 articles\n",
      "388 matches in 310000 articles\n",
      "393 matches in 320000 articles\n",
      "397 matches in 330000 articles\n",
      "397 matches in 340000 articles\n",
      "400 matches in 350000 articles\n",
      "401 matches in 360000 articles\n",
      "410 matches in 370000 articles\n",
      "415 matches in 380000 articles\n",
      "420 matches in 390000 articles\n",
      "431 matches in 400000 articles\n",
      "437 matches in 410000 articles\n",
      "441 matches in 420000 articles\n",
      "445 matches in 430000 articles\n",
      "449 matches in 440000 articles\n",
      "450 matches in 450000 articles\n",
      "452 matches in 460000 articles\n",
      "454 matches in 470000 articles\n",
      "457 matches in 480000 articles\n",
      "459 matches in 490000 articles\n",
      "460 matches in 500000 articles\n",
      "460 matches in 510000 articles\n",
      "464 matches in 520000 articles\n",
      "467 matches in 530000 articles\n",
      "469 matches in 540000 articles\n",
      "476 matches in 550000 articles\n",
      "481 matches in 560000 articles\n",
      "486 matches in 570000 articles\n",
      "488 matches in 580000 articles\n",
      "495 matches in 590000 articles\n",
      "498 matches in 600000 articles\n",
      "501 matches in 610000 articles\n",
      "507 matches in 620000 articles\n",
      "509 matches in 630000 articles\n",
      "513 matches in 640000 articles\n",
      "514 matches in 650000 articles\n",
      "518 matches in 660000 articles\n",
      "518 matches in 670000 articles\n",
      "521 matches in 680000 articles\n",
      "524 matches in 690000 articles\n",
      "528 matches in 700000 articles\n",
      "529 matches in 710000 articles\n",
      "531 matches in 720000 articles\n",
      "533 matches in 730000 articles\n",
      "537 matches in 740000 articles\n",
      "539 matches in 750000 articles\n",
      "541 matches in 760000 articles\n",
      "544 matches in 770000 articles\n",
      "545 matches in 780000 articles\n",
      "547 matches in 790000 articles\n",
      "550 matches in 800000 articles\n",
      "556 matches in 810000 articles\n",
      "560 matches in 820000 articles\n",
      "565 matches in 830000 articles\n",
      "569 matches in 840000 articles\n",
      "569 matches in 850000 articles\n",
      "571 matches in 860000 articles\n",
      "579 matches in 870000 articles\n",
      "580 matches in 880000 articles\n",
      "585 matches in 890000 articles\n",
      "587 matches in 900000 articles\n",
      "587 matches in 910000 articles\n",
      "590 matches in 920000 articles\n",
      "596 matches in 930000 articles\n",
      "598 matches in 940000 articles\n",
      "600 matches in 950000 articles\n",
      "600 matches in 960000 articles\n",
      "601 matches in 970000 articles\n",
      "602 matches in 980000 articles\n",
      "602 matches in 990000 articles\n",
      "604 matches in 1000000 articles\n",
      "605 matches in 1010000 articles\n",
      "607 matches in 1020000 articles\n",
      "610 matches in 1030000 articles\n",
      "611 matches in 1040000 articles\n",
      "612 matches in 1050000 articles\n",
      "617 matches in 1060000 articles\n",
      "622 matches in 1070000 articles\n",
      "624 matches in 1080000 articles\n",
      "626 matches in 1090000 articles\n",
      "628 matches in 1100000 articles\n",
      "631 matches in 1110000 articles\n",
      "633 matches in 1120000 articles\n",
      "634 matches in 1130000 articles\n",
      "635 matches in 1140000 articles\n",
      "638 matches in 1150000 articles\n",
      "639 matches in 1160000 articles\n",
      "642 matches in 1170000 articles\n",
      "644 matches in 1180000 articles\n",
      "645 matches in 1190000 articles\n",
      "645 matches in 1200000 articles\n",
      "645 matches in 1210000 articles\n",
      "645 matches in 1220000 articles\n",
      "646 matches in 1230000 articles\n",
      "650 matches in 1240000 articles\n",
      "651 matches in 1250000 articles\n",
      "653 matches in 1260000 articles\n",
      "658 matches in 1270000 articles\n",
      "661 matches in 1280000 articles\n",
      "662 matches in 1290000 articles\n",
      "664 matches in 1300000 articles\n",
      "666 matches in 1310000 articles\n",
      "668 matches in 1320000 articles\n",
      "669 matches in 1330000 articles\n",
      "674 matches in 1340000 articles\n",
      "675 matches in 1350000 articles\n",
      "678 matches in 1360000 articles\n",
      "680 matches in 1370000 articles\n",
      "683 matches in 1380000 articles\n",
      "686 matches in 1390000 articles\n",
      "688 matches in 1400000 articles\n",
      "689 matches in 1410000 articles\n",
      "690 matches in 1420000 articles\n",
      "691 matches in 1430000 articles\n",
      "691 matches in 1440000 articles\n",
      "691 matches in 1450000 articles\n",
      "693 matches in 1460000 articles\n",
      "695 matches in 1470000 articles\n",
      "697 matches in 1480000 articles\n",
      "700 matches in 1490000 articles\n",
      "704 matches in 1500000 articles\n",
      "705 matches in 1510000 articles\n",
      "707 matches in 1520000 articles\n",
      "707 matches in 1530000 articles\n",
      "707 matches in 1540000 articles\n",
      "708 matches in 1550000 articles\n",
      "712 matches in 1560000 articles\n",
      "714 matches in 1570000 articles\n",
      "719 matches in 1580000 articles\n",
      "719 matches in 1590000 articles\n",
      "720 matches in 1600000 articles\n",
      "723 matches in 1610000 articles\n",
      "723 matches in 1620000 articles\n",
      "723 matches in 1630000 articles\n",
      "726 matches in 1640000 articles\n",
      "727 matches in 1650000 articles\n",
      "728 matches in 1660000 articles\n",
      "730 matches in 1670000 articles\n",
      "732 matches in 1680000 articles\n",
      "735 matches in 1690000 articles\n",
      "736 matches in 1700000 articles\n",
      "738 matches in 1710000 articles\n",
      "740 matches in 1720000 articles\n",
      "743 matches in 1730000 articles\n",
      "743 matches in 1740000 articles\n",
      "743 matches in 1750000 articles\n",
      "743 matches in 1760000 articles\n",
      "746 matches in 1770000 articles\n",
      "746 matches in 1780000 articles\n",
      "747 matches in 1790000 articles\n",
      "747 matches in 1800000 articles\n",
      "747 matches in 1810000 articles\n",
      "749 matches in 1820000 articles\n",
      "751 matches in 1830000 articles\n",
      "751 matches in 1840000 articles\n",
      "753 matches in 1850000 articles\n"
     ]
    },
    {
     "ename": "KeyboardInterrupt",
     "evalue": "",
     "output_type": "error",
     "traceback": [
      "\u001b[0;31m\u001b[0m",
      "\u001b[0;31mKeyboardInterrupt\u001b[0mTraceback (most recent call last)",
      "\u001b[0;32m<ipython-input-13-3efa5d58d2bd>\u001b[0m in \u001b[0;36m<module>\u001b[0;34m()\u001b[0m\n\u001b[1;32m      5\u001b[0m \u001b[0mparser\u001b[0m \u001b[0;34m=\u001b[0m \u001b[0mwikiparser\u001b[0m\u001b[0;34m.\u001b[0m\u001b[0mWikipediaParser\u001b[0m\u001b[0;34m(\u001b[0m\u001b[0;34m\"/home/bschmidt/sources/wikipedia.bz2\"\u001b[0m\u001b[0;34m)\u001b[0m\u001b[0;34m\u001b[0m\u001b[0m\n\u001b[1;32m      6\u001b[0m \u001b[0;31m#parser = wikiparser.WikipediaParser(\"/Users/bschmidt/Downloads/Unconfirmed 628142.crdownload\")\u001b[0m\u001b[0;34m\u001b[0m\u001b[0;34m\u001b[0m\u001b[0m\n\u001b[0;32m----> 7\u001b[0;31m \u001b[0;32mfor\u001b[0m \u001b[0mi\u001b[0m\u001b[0;34m,\u001b[0m\u001b[0marticle\u001b[0m \u001b[0;32min\u001b[0m \u001b[0menumerate\u001b[0m\u001b[0;34m(\u001b[0m\u001b[0mparser\u001b[0m\u001b[0;34m)\u001b[0m\u001b[0;34m:\u001b[0m\u001b[0;34m\u001b[0m\u001b[0m\n\u001b[0m\u001b[1;32m      8\u001b[0m     \u001b[0;32mif\u001b[0m \u001b[0;34m\"gutenberg.org/ebooks\"\u001b[0m \u001b[0;32min\u001b[0m \u001b[0marticle\u001b[0m\u001b[0;34m.\u001b[0m\u001b[0mtext\u001b[0m\u001b[0;34m:\u001b[0m\u001b[0;34m\u001b[0m\u001b[0m\n\u001b[1;32m      9\u001b[0m         \u001b[0mcache\u001b[0m\u001b[0;34m.\u001b[0m\u001b[0mappend\u001b[0m\u001b[0;34m(\u001b[0m\u001b[0marticle\u001b[0m\u001b[0;34m)\u001b[0m\u001b[0;34m\u001b[0m\u001b[0m\n",
      "\u001b[0;32m/home/bschmidt/Dropbox/Gannett/wikipedia_population/wikiparser.py\u001b[0m in \u001b[0;36m__iter__\u001b[0;34m(self)\u001b[0m\n\u001b[1;32m     40\u001b[0m \u001b[0;34m\u001b[0m\u001b[0m\n\u001b[1;32m     41\u001b[0m     \u001b[0;32mdef\u001b[0m \u001b[0m__iter__\u001b[0m\u001b[0;34m(\u001b[0m\u001b[0mself\u001b[0m\u001b[0;34m)\u001b[0m\u001b[0;34m:\u001b[0m\u001b[0;34m\u001b[0m\u001b[0m\n\u001b[0;32m---> 42\u001b[0;31m         \u001b[0;32mfor\u001b[0m \u001b[0mpage\u001b[0m \u001b[0;32min\u001b[0m \u001b[0mself\u001b[0m\u001b[0;34m.\u001b[0m\u001b[0mpage_yielder\u001b[0m\u001b[0;34m(\u001b[0m\u001b[0;34m)\u001b[0m\u001b[0;34m:\u001b[0m\u001b[0;34m\u001b[0m\u001b[0m\n\u001b[0m\u001b[1;32m     43\u001b[0m             \u001b[0mtitle\u001b[0m \u001b[0;34m=\u001b[0m \u001b[0mNone\u001b[0m\u001b[0;34m\u001b[0m\u001b[0m\n\u001b[1;32m     44\u001b[0m             \u001b[0mid\u001b[0m \u001b[0;34m=\u001b[0m \u001b[0mNone\u001b[0m\u001b[0;34m\u001b[0m\u001b[0m\n",
      "\u001b[0;32m/home/bschmidt/Dropbox/Gannett/wikipedia_population/wikiparser.py\u001b[0m in \u001b[0;36mpage_yielder\u001b[0;34m(self)\u001b[0m\n\u001b[1;32m     26\u001b[0m         \u001b[0mprinting\u001b[0m \u001b[0;34m=\u001b[0m \u001b[0mFalse\u001b[0m\u001b[0;34m\u001b[0m\u001b[0m\n\u001b[1;32m     27\u001b[0m         \u001b[0mqueue\u001b[0m \u001b[0;34m=\u001b[0m \u001b[0;34m[\u001b[0m\u001b[0;34m]\u001b[0m\u001b[0;34m\u001b[0m\u001b[0m\n\u001b[0;32m---> 28\u001b[0;31m         \u001b[0;32mfor\u001b[0m \u001b[0mline\u001b[0m \u001b[0;32min\u001b[0m \u001b[0mself\u001b[0m\u001b[0;34m.\u001b[0m\u001b[0mf\u001b[0m\u001b[0;34m:\u001b[0m\u001b[0;34m\u001b[0m\u001b[0m\n\u001b[0m\u001b[1;32m     29\u001b[0m             \u001b[0;32mif\u001b[0m \u001b[0mline\u001b[0m\u001b[0;34m==\u001b[0m\u001b[0;34m\"  <page>\\n\"\u001b[0m\u001b[0;34m:\u001b[0m\u001b[0;34m\u001b[0m\u001b[0m\n\u001b[1;32m     30\u001b[0m                 \u001b[0mprinting\u001b[0m \u001b[0;34m=\u001b[0m \u001b[0mTrue\u001b[0m\u001b[0;34m\u001b[0m\u001b[0m\n",
      "\u001b[0;31mKeyboardInterrupt\u001b[0m: "
     ]
    }
   ],
   "source": [
    "cache = []\n",
    "wtf = []\n",
    "last_print = 0\n",
    "titles = set([\"A Tale of Two Cities\", \"Little Dorrit\", \"Hard Times\", \"Bleak House\", \"Oliver Twist\", \"David Copperfield\"])\n",
    "parser = wikiparser.WikipediaParser(\"/home/bschmidt/sources/wikipedia.bz2\")\n",
    "#parser = wikiparser.WikipediaParser(\"/Users/bschmidt/Downloads/Unconfirmed 628142.crdownload\")\n",
    "for i,article in enumerate(parser):\n",
    "    if \"gutenberg.org/ebooks\" in article.text:\n",
    "        cache.append(article)    \n",
    "    if i - last_print >= 10000:\n",
    "        print \"{} matches in {} articles\".format(len(cache),i)\n",
    "        last_print = i\n"
   ]
  },
  {
   "cell_type": "code",
   "execution_count": 33,
   "metadata": {
    "collapsed": false
   },
   "outputs": [
    {
     "name": "stdout",
     "output_type": "stream",
     "text": [
      "Peninsular War\n",
      "{{About|2=the 1862 American Civil War campaign|3=Peninsula Campaign}}\n",
      "      <text xml:space=\"preserve\">{{About|2=the 1862 American Civil War campaign|3=Peninsula Campaign}}\n",
      "{{pp-pc1}}\n",
      "{{very long|rps=102|date=February 2015}}\n",
      "{{Use British English|date=August 2013}}\n",
      "{{Use dmy dates|date=August 2013}}\n",
      "{{Infobox military conflict\n",
      "| conflict = Peninsular War\n",
      "| partof = the [[Napoleonic Wars]]\n",
      "| image = [[File:El dos de mayo de 1808 en Madrid rdit.jpg|300px]]\n",
      "| caption = ''[[The Second of May 1808|Th\n"
     ]
    }
   ],
   "source": [
    "import random\n",
    "\n",
    "a = random.sample(cache,1)[0]\n",
    "print a.title\n",
    "print a.text[:500]"
   ]
  },
  {
   "cell_type": "code",
   "execution_count": 12,
   "metadata": {
    "collapsed": false,
    "scrolled": false
   },
   "outputs": [
    {
     "name": "stdout",
     "output_type": "stream",
     "text": [
      "{{About|the novel by Charles Dickens|the American illusionist|David Copperfield (illusionist)|other uses}}\n",
      "      <text xml:space=\"preserve\">{{About|the novel by Charles Dickens|the American illusionist|David Copperfield (illusionist)|other uses}}\n",
      "{{Use dmy dates|date=September 2013}}\n",
      "{{EngvarB|date=September 2013}}\n",
      "{{Italic title}}\n",
      "{{Infobox book\n",
      "| name           = David Copperfield\n",
      "| title_orig     = The Personal History, Adventures,&lt;br&gt;Experience and Observation&lt;br&gt;of David Copperfield&lt;br&gt;the Younger&lt;br&gt;of Blunderstone Rookery\n",
      "| image          = Copperfield cover serial.jpg\n",
      "| image_size     = 200px\n",
      "| caption  = Cover, first serial edition of 1849\n",
      "| author         = [[Charles Dickens]]\n",
      "| illustrator    = [[Hablot Knight Browne]] ([[Phiz]])\n",
      "| cover_artist   = [[Hablot Knight Browne]] ([[Phiz]])\n",
      "| country        = United Kingdom\n",
      "| language       = English\n",
      "| series         = \n",
      "| genre          = [[Novel]]   ([[Bildungsroman]])\n",
      "| publisher      = [[Bradbury &amp; Evans]]\n",
      "| published   = Serialised May 1849 – November 1850; book format 1850 \n",
      "| media_type     = Print \n",
      "| pages          = {{nowrap|624 &lt;small&gt;(first book edition)&lt;/small&gt;&lt;ref name=&quot;The Guardian 2013-12-30&quot;&gt;{{cite web|url=https://www.theguardian.com/books/2013/dec/30/david-copperfield-dickens-100-best-novels|title=The 100 best novels: No 15 – David Copperfield by Charles Dickens (1850)|last=McCrum|first=Robert|author-link=Robert McCrum|date=30 December 2013|website=[[theguardian.com]]|publisher=''[[The Guardian]]''|access-date=24 March 2015}}&lt;/ref&gt;}}\n",
      "| isbn           =\n",
      "| preceded_by    = [[Dombey and Son]] (1848)\n",
      "| followed_by    = [[Bleak House]] (1852–3)\n",
      "}}\n",
      "\n",
      "'''''David Copperfield''''' is the eighth novel by [[Charles Dickens]]. The novel's full title is '''''The Personal History, Adventures, Experience and Observation of David Copperfield the Younger of Blunderstone Rookery (Which He Never Meant to Publish on Any Account)'''''.&lt;ref group=note&gt;Dickens invented over 14 variations of the title for this work, see [http://www.jstor.org/stable/431304 &quot;Titles, Titling, and Entitlement to&quot;], by Hazard Adams in ''The Journal of Aesthetics and Art Criticism'', Vol. 46, No. 1 (Autumn, 1987), pp. 7–21.&lt;/ref&gt; It was first published as a [[Serial (literature)|serial]] in 1849–50, and as a book in 1850. Many elements of the novel follow events in Dickens's own life, and it is often considered as his veiled autobiography.&lt;ref&gt;{{cite web |title=Autobiographical Elements in Charles Dickens's David Copperfield |url=http://www.the-criterion.com/V4/n5/Anil.pdf |date= |work=By The Book |publisher=The Knowledge Network |accessdate=7 May 2014}}&lt;/ref&gt; It was Dickens' favourite among his own novels. In the preface to the 1867 edition, Dickens wrote, &quot;like many fond parents, I have in my heart of hearts a favourite child. And his name is David Copperfield.&quot;&lt;ref&gt;{{cite web|url = http://www.bartleby.com/307/1009.html|title = Preface to the Charles Dickens Edition|work = The Personal History and Experience of David Copperfield the Younger. Vols. VII &amp; VIII.|date = 1917|last = Dickens|first = Charles|via = bartleby.com|publisher = Harvard Classics Shelf of Fiction}}&lt;/ref&gt;\n",
      "\n",
      "==Plot summary==\n",
      "The story follows the life of [[David Copperfield (character)|David Copperfield]] from childhood to maturity. David was born in [[Blundeston|Blunderstone]], Suffolk, England, six months after the death of his father. David spends his early years in relative happiness with his loving, childish mother and their kindly housekeeper, Peggotty. When he is seven years old his mother marries [[Edward Murdstone]]. During the marriage, partly to get him out of the way and partly because he strongly objects to the whole proceeding, David is sent to lodge with Peggotty's family in [[Great Yarmouth|Yarmouth]]. Her brother, fisherman Mr. Peggotty, lives in a house built in an upturned boat on the beach, with his adopted relatives Emily and Ham, and an elderly widow, Mrs. Gummidge. &quot;Little Em'ly&quot; is somewhat spoilt by her fond foster father, and David is in love with her. On his return, David is given good reason to dislike his stepfather and has similar feelings for Murdstone's sister Jane, who moves into the house soon afterwards. Between them they tyrannise his poor mother, making her and David's lives miserable, and when, in consequence, David falls behind in his studies, Murdstone attempts to thrash him – partly to further pain his mother. David bites him and soon afterwards is sent away to a boarding school, Salem House, under a ruthless headmaster, Mr. Creakle. There he befriends an older boy, [[James Steerforth]], and Tommy Traddles. He develops an impassioned admiration for Steerforth, perceiving him as something noble, who could do great things if he would.\n",
      "\n",
      "David goes home for the holidays to learn that his mother has given birth to a baby boy. Shortly after David returns to Salem House, his mother and her baby die, and David returns home immediately. Peggotty marries the local [[Mail carrier|carrier]], Mr. Barkis. Murdstone sends David to work for a wine merchant in London – a business of which Murdstone is a joint owner.&lt;ref group=note&gt;The grim reality of hand-to-mouth factory existence echoes Dickens's own travails, in a blacking factory when he was just a boy.&lt;/ref&gt; David's landlord, [[Wilkins Micawber]], is arrested for debt and sent to the [[King's Bench Prison]], where he remains for several months, before being released and moving to Plymouth. No one remains to care for David in London, so he decides to run away.\n",
      "\n",
      "\n",
      "He walks from London to [[Dover]], to his only relative, his eccentric yet kind-hearted great-aunt [[Betsey Trotwood]]. She had come to Blunderstone at his birth, only to depart in ire upon learning that he was not a girl. However, she takes pity on him and agrees to raise him, despite Murdstone's attempt to regain custody of David, on condition that he always tries to 'be as like his sister, Betsey Trotwood' as he can be, meaning that he is to endeavour to emulate the prospective namesake she was disappointed of. David's great-aunt renames him &quot;Trotwood Copperfield&quot; and addresses him as &quot;Trot&quot;, and it becomes one of several names which David is called by in the course of the novel.\n",
      "\n",
      "David's aunt sends him to a far better school than the last he attended. It is run by Dr. Strong, whose methods inculcate honour and self-reliance in his pupils. During term, David lodges with the lawyer Mr. Wickfield, and his daughter [[Agnes Wickfield|Agnes]], who becomes David's friend and confidante. Wickfield has a secretary, the 15-year-old [[Uriah Heep]].\n",
      "\n",
      "By devious means, Uriah Heep gradually gains a complete ascendancy over the aging and alcoholic Wickfield, to Agnes's great sorrow. Heep hopes, and maliciously confides to David, that he aspires to marry Agnes. Ultimately with the aid of Micawber, who has been employed by Heep as a secretary, his fraudulent behaviour is revealed. At the end of the book, David meets him in a prison, for attempting to defraud the [[Bank of England]].\n",
      "\n",
      "After completing school, David learns to be a [[proctor]]. During this time, due to Heep's fraudulent activities, his aunt's fortune has gone down. David begins struggle for his life. He joins in employment under his former teacher Doctor Strong, as a secretary and also starts to learn [[shorthand]], with the help of his former school-friend Traddles. Upon learning shorthand, he joins in a newspaper for parliementary debate reporting. With considerable help from Agnes and his own great diligence, hard work and discipline, David ultimately finds fame and fortune as an author, by writing fiction.\n",
      "\n",
      "David's romantic but self-serving school friend, Steerforth, seduces and dishonours Emily, offering to marry her off to one of his servants before finally deserting her. Her uncle Mr. Peggotty manages to find her with the help of London prostitute Martha, who had grown up in their county. Ham, who had been engaged to marry her before the tragedy, died in a storm off the coast in attempting to succour a ship; Steerforth was aboard the same and also died. Mr. Peggotty takes Emily to a new life in [[Australia]], accompanied by Mrs. Gummidge and the Micawbers, where all eventually find security and happiness.\n",
      "\n",
      "David marries the beautiful but naïve [[Dora Spenlow]], but their marriage proves unhappy for David. Dora dies early in their marriage. After Dora's death, Agnes encourages David to return to normal life and his profession of writing. While living in [[Switzerland]], David realises that he loves Agnes. Upon returning to [[England]], after a failed attempt to conceal his feelings, David finds that Agnes loves him too. They quickly marry and in this marriage, he finds true happiness. David and Agnes then have at least five children, including a daughter named after his great-aunt, Betsey Trotwood.\n",
      "\n",
      "{{Clear}}\n",
      "\n",
      "==Characters==\n",
      "[[File:Dora Spenlow from David Copperfield art by Frank Reynolds.jpg|thumb|right|David falls for Dora Spenlow.]]\n",
      "*'''[[David Copperfield (character)|David Copperfield]]''' – The narrator and protagonist of this pseudo-autobiography, created on the image of the author himself. He is characterised in the book as having perseverance, but also an undisciplined heart, which is an important point of the latter part of the book. After being adopted by his aunt Betsey Trotwood, he is called &quot;Trotwood Copperfield&quot; in deference to her wishes. Throughout the novel he goes by multiple names: the Peggotty family address him as &quot;Davy&quot;, James Steerforth nicknames him &quot;Daisy&quot;, Dora calls him &quot;Doady&quot;, the Micawbers mostly address him by his last name, and his aunt and her circle refer to him as &quot;Trot&quot;.\n",
      "*'''Clara Copperfield''' – David's kind mother, described as being innocently childish, who dies while David is at Salem House. She dies just after the birth of her second child (a son, Edward Murdstone junior, born to her second husband), who dies around the same time.\n",
      "*'''[[Clara Peggotty]]''' – The faithful servant of the Copperfield family and a lifelong companion to David (she is called by her surname Peggotty within David's family, as her given name is Clara, the same as David's mother; she is also referred to at times as Barkis after her marriage to Mr. Barkis). When Mr. Barkis dies, she inherits a substantial portion of his estate, valued at £3,000 – a large sum in the mid-19th century (he also leaves modest annuities for David, Mr. Daniel Peggotty, and Little Emily). After her husband's death, Peggotty helps to put in order David's rooms in London and then returns to Yarmouth to keep house for her nephew, Ham Peggotty. Following Ham's death, she keeps house for David's aunt, Betsey Trotwood.\n",
      "*'''[[Betsey Trotwood]]''' – David's eccentric and temperamental yet kind-hearted great-aunt; she becomes his guardian after he runs away from ''Grinby and Murdstone's warehouse'' in [[Blackfriars, London|Blackfriars]] (London). She is present on the night of David's birth but leaves after hearing that Clara Copperfield's child is a boy instead of a girl, and is not seen until David is older and flees to her house in [[Dover]] from London. She is portrayed as affectionate towards David, and defends him and his late mother when Mr. Murdstone arrives to take custody of David: she confronts the man and rebukes him for his abuse of David and his mother, then threatens him and drives him off the premises. Universally believed to be a widow, she conceals the existence of her ne'er-do-well husband who constantly bleeds her for money.\n",
      "*'''Mr. Chillip''' – A shy, elderly doctor who assists at David's birth and faces the wrath and anger of Betsey Trotwood after he informs her that Clara's baby is a boy instead of a girl.\n",
      "*'''Mr. Barkis''' – An aloof carter who declares his intention to marry Peggotty. He says to David: &quot;Tell her, 'Barkis is willin'!' Just so.&quot; He is a bit of a miser, and hides his surprisingly vast liquid wealth in a plain box labelled &quot;Old Clothes&quot;. He bequeaths to his wife and her family (including David) the then astronomical sum of £3,000 when he dies about ten years later.\n",
      "*'''[[Edward Murdstone]]''' – The main antagonist of the first half of the novel, he is Young David's cruel stepfather who beats him for falling behind in his studies. David reacts by biting Mr. Murdstone, who then sends him to Salem House, the private school owned by his friend Mr. Creakle. After David's mother dies, Mr. Murdstone sends him to work in his factory in London, where he has to clean wine bottles. He appears at Betsey Trotwood's house after David runs away. Mr. Murdstone appears to show signs of repentance when confronted by Copperfield's aunt about his treatment of Clara and David, but later in the book, we hear he has married another young woman and applied his old principles of &quot;firmness&quot;.\n",
      "*'''Jane Murdstone''' – Mr. Murdstone's equally cruel [[spinster]] sister, who moves into the Copperfield house shortly after Mr. Murdstone marries Clara Copperfield. She is the &quot;Confidential Friend&quot; of David's first wife, Dora Spenlow, and encourages many of the problems that occur between David Copperfield and Dora's father, Mr. Spenlow. Later, she rejoins her brother and his new wife in a relationship very much like the one they had with David's mother.\n",
      "*'''[[Daniel Peggotty]]''' – Peggotty's brother; a humble but generous Yarmouth fisherman who takes his nephew Ham and niece Emily into his custody after each of them has been orphaned, and welcomes David as a child when he holidays to Yarmouth with Peggotty. When Emily is older and runs away with David's friend Steerforth, he travels around the world in search of her. He eventually finds her in London, and after that, they emigrate to Australia.\n",
      "*'''Emily (Little Em'ly)''' – A niece of Mr. Peggotty. She is a childhood friend of David Copperfield, who loved her in his childhood days. On the eve of her wedding to her cousin and fiancé, Ham, she abandons him for Steerforth with whom she disappears abroad for several years. After Steerforth deserts her, she doesn't go back home, because she has disgraced herself and her family. Her uncle, Mr. Peggotty, who has been searching for her since she left home, finds her in London (the text implies that she was on the brink of being forced into prostitution). So that she may have a fresh start away from her now degraded reputation, she and her uncle emigrate to Australia.\n",
      "*'''[[Peggotty|Ham Peggotty]]''' – A good-natured nephew of Mr. Peggotty and the fiancé of Emily before she leaves him for Steerforth. He later drowns while attempting to rescue Steerforth (it's not clear, however, that he realises that it is Steerforth) from a shipwreck at Yarmouth. News of his death is withheld from his family to enable them to emigrate without hesitation or remorse.\n",
      "*'''Mrs. Gummidge''' – The widow of Daniel Peggotty's partner, who is taken in and supported by Daniel after his partner's death. She is a self-described &quot;lone, lorn creetur&quot; who spends much of her time pining for &quot;the old 'un&quot; (her late husband). After Emily runs away with Steerforth, she suddenly renounces her self-pity and becomes Daniel and Ham's primary caretaker. She too emigrates to Australia with Dan and the rest of the surviving family. In Australia, when she receives a marriage proposal, she responds by attacking the unlucky suitor with a bucket.\n",
      "*'''Martha Endell''' – A young woman, once Little Emily's friend, who later gains a bad reputation; it is implied that she engages in some sexually inappropriate behaviour and is thus disgraced. In the later chapters of the novel, she redeems herself by helping Daniel Peggotty find his niece after she returns to London. She has been a prostitute and contemplated suicide, but goes with Emily to start a new life in Australia. There, she marries and lives happily.\n",
      "*'''Mr. Creakle''' – The harsh dictatorial headmaster of young David's boarding school who is assisted by the one-legged Tungay. Mr. Creakle is a friend of Mr. Murdstone. He singles out David for extra torment on Murdstone's request, but later treats him normally when David apologises to Murdstone. With a surprising amount of delicacy, he breaks the news to David that his mother has died. Later, he becomes a Middlesex magistrate and is considered 'enlightened' for his day. He runs his prison by the ''system'' and is portrayed with great sarcasm. Creakle's two model inmates, Heep and Littimer, show no change from their former scheming selves but have completely fooled Creakle into believing their repentance.\n",
      "*'''[[James Steerforth]]''' – A close friend of David who has known him since his first days at Salem House, he is a charismatic and outspoken hero of the younger boys, but he is also a snob who unhesitatingly takes advantage of his younger friends and uses his mother's power to get what he wants, going so far as to get Mr. Mell dismissed from the school after he argues with him. Although he grows up into a well-liked and handsome young man, he proves to be lacking in character when he seduces and later abandons Little Em'ly. He eventually drowns at Yarmouth with Ham Peggotty, who had been trying to rescue him.\n",
      "*'''Tommy Traddles''' – David's friend from Salem House. Traddles is one of the few boys who does not trust Steerforth and is notable for drawing skeletons on his slate to cheer himself up with the macabre thought that his predicaments are only temporary. They meet again later and eventually become lifelong friends. Traddles works hard but faces great obstacles because of his lack of money and connections. He eventually succeeds in making a name and a career for himself, becoming a Judge and marrying his true love, Sophy.\n",
      "*'''[[Wilkins Micawber]]''' – A melodramatic, kind-hearted and foolish gentleman who befriends David as a young boy. He suffers from much financial difficulty and even has to spend time in a debtors' prison before moving to [[Plymouth]]. As an adult, Copperfield meets him again in London and gets him a job with Wickfield and Heep. Thinking Micawber is criminally-minded, Heep forces him to be his accomplice in several of his schemes, but Micawber eventually turns the tables on his employer and is instrumental in his downfall. Micawber eventually emigrates to Australia, where he enjoys a successful career as a sheep farmer and becomes a magistrate. He is based on Dickens's father, [[John Dickens]], who faced similar financial problems when Dickens was a child.\n",
      "[[File:Agnes Wickfield from David Copperfield art by Frank Reynolds.jpg|thumb|rght|Agnes Wickfield, David's second wife.]]\n",
      "*'''Emma Micawber''' – Wilkins Micawber's wife and the mother of their children. She comes from a moneyed family who disapprove of her husband, but she constantly protests that she will &quot;never leave Micawber!&quot;\n",
      "*'''Mr. Dick (Richard Babley)''' – A slightly deranged, rather childish but amiable man who lives with Betsey Trotwood; they are distant relatives. His madness is amply described; he claims to have the &quot;trouble&quot; of [[Charles I of England|King Charles I]] in his head. He is fond of making gigantic kites and is constantly writing a &quot;Memorial&quot; but is unable to finish it. Despite his madness, Dick is able to see issues with a certain clarity. He proves to be not only a kind and loyal friend but also demonstrates a keen emotional intelligence, particularly when he helps Dr. and Mrs. Strong through a marriage crisis.\n",
      "*'''Mr. Wickfield''' – The widowed father of Agnes Wickfield and lawyer to Betsey Trotwood. He feels guilty that, through his love, he has hurt his daughter by keeping her too close to himself. This sense of guilt occasionally leads him to drink. His apprentice Uriah Heep learns of this from David and uses the information to lead Mr. Wickfield down a slippery slope, encouraging the alcoholism and feelings of guilt, and eventually convincing him that he has committed improprieties while inebriated, and blackmailing him. He is saved by Mr. Micawber, and his friends consider him to have become a better man through the experience.\n",
      "*'''[[Agnes Wickfield]]''' – Mr. Wickfield's mature and lovely daughter and close friend of David since childhood. Agnes nurtures an unrequited love for David for many years but never tells him, helping and advising him through his infatuation with, and marriage to, Dora. After David returns to England, he realises his feelings for her, and she becomes David's second wife and mother of their children. It is believed by many scholars that this character was based on Dickens' sisters-in-law Mary and [[Georgina Hogarth]]. She has often been blasted by critics for her seeming lack of characterization (David often refers to her as an &quot;Angel&quot; and rarely moves beyond that description except to associate her with a &quot;stained-glass window&quot;) but more recent research has been more favourable to her. She does, in fact, show the effects of being a [[Parentification|parentified]] child, which helps explain her selflessness and seeming &quot;perfection&quot;.&lt;ref&gt;{{cite web|url=http://dickensblog.typepad.com/dickensblog/2010/09/unwilling-angels-charles-dickens-agnes-wickfield-and-the-effects-of-parentification.html|title=Dickensblog|work=typepad.com}}&lt;/ref&gt;\n",
      "*'''[[Uriah Heep]]''' – The main antagonist of the novel's second half, Heep is a disturbing young man who serves first as secretary, and then as partner to Mr. Wickfield. The archetypal hypocrite, he appears to be extremely self-deprecating and talks constantly of being &quot;umble&quot;, but gradually reveals his wicked and twisted character. He gains great power over Wickfield and several others but is finally discovered – by [[Wilkins Micawber]] – to be guilty of multiple acts of fraud. By forging Mr. Wickfield's signature, he has misappropriated the personal wealth of the Wickfield family, together with portfolios entrusted to them by others, including £5000 belonging to Betsey Trotwood. He has fooled Wickfield into thinking he has himself committed this act while drunk, and then blackmailed him. Heep is eventually forced to return the forged documents and stolen capital; he is thus defeated but not prosecuted. He is later imprisoned for an (unrelated) attempted fraud on the Bank of England. He nurtures a deep hatred of David Copperfield and of many others.\n",
      "*'''Mrs. Heep''' – Uriah's mother, who is as sycophantic as her son. She has installed in him his lifelong tactic of pretending to be subservient to achieve his goals, and even as his schemes fall apart she begs him to save himself by &quot;being 'humble.&quot;\n",
      "*'''Dr. Strong''' – The headmaster of David's Canterbury school, whom he visits on various occasions. He is many years older than his wife, and Heep exploits this insecurity to gain power over him.\n",
      "*'''Anne (Annie) Strong''' – The young wife of Dr. Strong. She is widely suspected of having an affair with Jack Maldon – only her husband suspects nothing of either of them and, when finally convinced by his friends of the threat represented by Maldon, still refuses to believe that his wife has succumbed to seduction. It emerges that Dr. Strong's trust in his wife is justified: she has remained entirely faithful.\n",
      "*'''Jack Maldon''' – A cousin and childhood sweetheart of Anne Strong. He continues to bear affection for her and tries to seduce her into leaving Dr. Strong. He is charming but fairly dissolute.\n",
      "*'''Mrs. Markleham'''- Annie's mother, nicknamed &quot;The Old Soldier&quot; by her husband's students for her stubbornness. She tries to take pecuniary advantage of her son-in-law Dr. Strong in every way possible, to Annie's sorrow.\n",
      "*'''Mrs. Steerforth''' – The wealthy widowed mother of James Steerforth. She dotes on her son to the point of being completely blind to his faults. When Steerforth disgraces his family and the Peggottys by running off with Em'ly, Mrs. Steerforth blames Em'ly for corrupting her son, rather than accept that James has disgraced an innocent girl. The news of her son's death destroys her and she never recovers from the shock.\n",
      "*'''Rosa Dartle''' – Steerforth's cousin, a bitter, sarcastic spinster who lives with Mrs. Steerforth. She is secretly in love with Steerforth and blames others such as Emily and Steerforth's mother for corrupting him. She is described as being extremely skinny and displays a visible scar on her lip caused by Steerforth in one of his violent rages as a child. \n",
      "*'''Mr. Spenlow''' – A lawyer, employer of David as a [[proctor]] and the father of Dora Spenlow. He dies suddenly of a heart attack while driving his [[Phaeton (carriage)|phaeton]] home. After his death, it is revealed that he is heavily in debt.\n",
      "*'''[[Dora Spenlow]]''' – The adorable but foolish daughter of Mr. Spenlow who becomes David's first wife. She is described as being completely impractical and has many similarities to David's mother. David's first year of marriage to her is unhappy due to her ineptitude in managing their household, but after he learns to accept this failing, they grow to be quite happy. Dora is simple, easily provoked to tears and laughter, and childishly fond of her annoying lapdog, Jip. She is not unaware of her failings, and asks David, whom she calls &quot;Doady&quot;, to think of her as a &quot;child wife&quot;. She suffers a miscarriage, and the experience sends her into a long illness from which she peacefully dies with Agnes Wickfield at her side.\n",
      "*'''Littimer''' – Steerforth's obsequious valet, who is instrumental in aiding his seduction of Emily. Littimer is always polite and correct but his condescending manner intimidates and infuriates David, who always feels as if Littimer is reminding him how young he is. He later winds up in prison for embezzlement, and his manners allow him to con his way to the stature of Model Prisoner in Creakle's establishment.\n",
      "*'''Miss Mowcher''' – a [[dwarfism|dwarf]] and Steerforth's hairdresser. Though she participates in Steerforth's circle as a witty and glib gossip, she deeply feels the shame associated with her dwarfism but it leaves her few other career options. She is later instrumental in Littimer's arrest.\n",
      "*'''Mr. Mell''' – A poor teacher at Salem House. He takes David to Salem House and is the only adult there who is kind to him. His mother lives in a workhouse, and Mell supports her with his wages. When Steerforth discovers this information from David, he uses it to get Creakle to fire Mell. Near the end of the novel, Copperfield discovers in an Australian newspaper that Mell has emigrated and is now Doctor Mell of Colonial Salem-House Grammar School, Port Middlebay.\n",
      "*'''Sophy Crewler''' – One of the daughters of a large family, Sophy runs the household and takes care of her younger sisters. She and Traddles are engaged to be married, but her family has made Sophy so indispensable that they are resentful when Traddles offers to take her away. The pair do eventually marry and settle down happily, and Sophy proves to be an invaluable aid in Traddles's legal career.\n",
      "*'''Mr. Sharp''' – The chief teacher of Salem House, he has more authority than Mr. Mell. He looks weak, both in health and character; his head seems to be very heavy for him; he walks on one side, and has a big nose.\n",
      "*'''Mr. Jorkins''' – The rarely seen partner of Mr. Spenlow. Spenlow uses him as a scapegoat for any unpopular decision he chooses to make, painting Jorkins as an inflexible tyrant, but Jorkins is, in fact, a meek and timid nonentity who, when confronted, takes the same tack by blaming his inability to act on Mr. Spenlow.\n",
      "\n",
      "==Publication==\n",
      "Like most of Charles Dickens's novels, ''David Copperfield'' was published in 19 monthly one-shilling instalments, containing 32 pages of text and two illustrations by [[Hablot Knight Browne|Hablot Knight Browne (&quot;Phiz&quot;)]], with the last being a double-number:{{Citation needed|date=May 2008}}\n",
      "\n",
      "* I – May 1849 (chapters 1–3);\n",
      "* II – June 1849 (chapters 4–6);\n",
      "* III – July 1849 (chapters 7–9);\n",
      "* IV – August 1849 (chapters 10–12);\n",
      "* V – September 1849 (chapters 13–15);\n",
      "* VI – October 1849 (chapters 16–18);\n",
      "* VII – November 1849 (chapters 19–21);\n",
      "* VIII – December 1849 (chapters 22–24);\n",
      "* IX – January 1850 (chapters 25–27);\n",
      "* X – February 1850 (chapters 28–31);\n",
      "* XI – March 1850 (chapters 32–34);\n",
      "* XII – April 1850 (chapters 35–37);\n",
      "* XIII – May 1850 (chapters 38–40);\n",
      "* XIV – June 1850 (chapters 41–43);\n",
      "* XV – July 1850 (chapters 44–46);\n",
      "* XVI – August 1850 (chapters 47–50);\n",
      "* XVII – September 1850 (chapters 51–53);\n",
      "* XVIII – October 1850 (chapters 54–57);\n",
      "* XIX-XX – November 1850 (chapters 58–64).\n",
      "\n",
      "==Major editions==\n",
      "[[File:Houghton HEW 2.6.15 - Dickens, David Copperfield.jpg|thumb|125px|Title page of a copy of the first edition by Bradbury &amp; Evans, signed by Dickens]]\n",
      "*1850, UK, Bradbury &amp; Evans, publication date 14 November 1850, bound (first edition), 624 pages,&lt;ref name=&quot;The Guardian 2013-12-30&quot;/&gt; 38 plates.\n",
      "*1858, UK, Chapman &amp; Hall and Bradbury &amp; Evans, publication date 1858, hardback, 'Library Edition', 515 pages.\n",
      "*1962 (reprinted 2006 with an afterward by [[Gish Jen]]) US, Signet Classics ISBN 0-451-53004-7. Includes passages deleted for the original monthly serial, and unrestored in subsequent  editions.\n",
      "*1981 (reprinted 2003) UK, [[Oxford University Press]] ISBN 0-19-812492-9, hardback, edited by Nina Burgis, The Clarendon Dickens, 781 pages.\n",
      "*1990, USA, W W Norton &amp; Co Ltd ISBN 0-393-95828-0, publication date 31 January 1990, hardback (Jerome H. Buckley (Editor), Norton Critical Edition – contains annotations, introduction, critical essays, bibliography and other material).\n",
      "*1994, UK, Penguin Books Ltd ISBN 0-14-062026-5, publication date 24 February 1994, paperback.\n",
      "*1999, UK, Oxford Paperbacks ISBN 0-19-283578-5, publication date 11 February 1999, paperback.\n",
      ":and many others\n",
      "\n",
      "==Adaptations==\n",
      "===Radio===\n",
      "*''Favorite Story'', hosted by [[Ronald Colman]] - October 25, 1947\n",
      "*''[[The United States Steel Hour|Theater Guild on the Air]]'' - December 24, 1950 with [[Richard Burton]], [[Boris Karloff]], [[Flora Robson]] and [[Cyril Ritchard]]\n",
      "*''The Personal History of David Copperfield'' - [[BBC Radio 4]], 1991 - a ten-part series with [[Gary Cady]] as David Copperfield, [[Miriam Margolyes]], [[John Moffatt (actor)|John Moffatt]], [[Timothy Spall]] and [[Sheila Hancock]]\n",
      "\n",
      "===Film and TV===\n",
      "''David Copperfield'' has been filmed on several occasions:\n",
      "*1911 ''[[David Copperfield (1911 film)|David Copperfield]]'', silent film directed by [[Theodore Marston]]\n",
      "*1913 ''[[David Copperfield (1913 film)|David Copperfield]]'', silent film directed by [[Thomas Bentley]]\n",
      "*1922 ''[[David Copperfield (1922 film)|David Copperfield]]'', silent film directed by [[A. W. Sandberg]]\n",
      "*1935 ''[[Personal History, Adventures, Experience, and Observation of David Copperfield the Younger (1935)|David Copperfield]]'', a film directed by [[George Cukor]]\n",
      "*1956 ''[[David Copperfield (1956 TV serial)|David Copperfield]]'', a 13-part TV serial shown on BBC.\n",
      "*1966 ''[[David Copperfield (1966 TV serial)|David Copperfield]]'', a 13-part TV serial.\n",
      "*1969 ''[[David Copperfield (1969 film)|David Copperfield]]'', a film directed by [[Delbert Mann]].\n",
      "*1974 ''[[David Copperfield (1974 TV serial)|David Copperfield]]'', a 6-part TV serial directed by [[Joan Craft]]\n",
      "*1983 ''[[David Copperfield (1983 film)|David Copperfield]]'', an animated film by [[Burbank Films Australia]].\n",
      "*1986 ''[[David Copperfield (1986 TV serial)|David Copperfield]]'', a 10-part TV serial directed by [[Barry Letts]], shown on BBC.\n",
      "*1993 ''[[David Copperfield (1993 film)|David Copperfield]]'', animated TV film, shown on [[NBC]]\n",
      "*1999 ''[[David Copperfield (1999 film)|David Copperfield]]'', a 2-part TV serial shown on [[BBC]]\n",
      "*2000 ''[[David Copperfield (2000 film)|David Copperfield]]'', a film directed by [[Peter Medak]]\n",
      "\n",
      "==Notes==\n",
      "{{reflist|group=note}}\n",
      "\n",
      "==References==\n",
      "{{Reflist}}\n",
      "\n",
      "===Bibliography===\n",
      "* David Copperfield (Major Literary Characters series). Edited and with an Introduction by Harold Bloom. 255 pages. 1993 New York: Chelsea House Publishers\n",
      "* Graham Storey: David Copperfield – Interweaving Truth and Fiction (Twayne's Masterworks Studies). 111 pages. 1991 Boston: Twayne Publishers\n",
      "* Approaches to Teaching Dickens' David Copperfield. Edited by Richard J. Dunn. 162 pages. 1984 New York: The Modern Language Association of America\n",
      "* Barry Westburg: The Confessional Fictions of Charles Dickens. See pages 33 to 114. 1977 [[DeKalb, Illinois|DeKalb]]: Northern Illinois University Press\n",
      "* {{cite journal|last1=Saville|first1=Julia F.|title=Eccentricity as Englishness in David Copperfield|journal=SEL Studies in English Literature 1500-1900|volume=42|issue=4|year=2002|pages=781–797|issn=1522-9270|doi=10.1353/sel.2002.0041}}\n",
      "* {{cite journal|last1=Cordery|first1=Gareth|title=Foucault, Dickens, and David Copperfield|journal=Victorian Literature and Culture|volume=26|issue=01|year=2008|pages=71–85|issn=1060-1503|doi=10.1017/S106015030000228X}}\n",
      "* {{cite journal|last1=Hager|first1=Kelly|title=Estranging David Copperfield: Reading the Novel of Divorce|journal=ELH|volume=63|issue=4|year=1996|pages=989–1019|issn=1080-6547|doi=10.1353/elh.1996.0032}}\n",
      "* {{cite journal|last1=Bottum|first1=Joseph|title=The Gentleman's True Name: David Copperfield and the Philosophy of Naming|journal=Nineteenth-Century Literature|volume=49|issue=4|year=1995|pages=435–455|issn=0891-9356|doi=10.2307/2933728}}\n",
      "\n",
      "==External links==\n",
      "'''Online editions'''\n",
      "{{Wikisource|David Copperfield|''David Copperfield''}}\n",
      "{{Commons category|David Copperfield}}\n",
      "{{wikiquote|David Copperfield (novel)|David Copperfield}}\n",
      "*[https://archive.org/stream/personalhistoryo00dickiala#page/n9/mode/2up ''David Copperfield''] at [[Internet Archive]].\n",
      "*[http://www.gutenberg.org/ebooks/766 ''David Copperfield''] at [[Project Gutenberg]].\n",
      "*[http://www.vam.ac.uk/content/articles/c/charles-dickens-david-copperfield/ ''David Copperfield''] – The original manuscript of the novel, held by the [[Victoria and Albert Museum]] (requires [[Adobe Flash]]).\n",
      "*[http://www.bartleby.com/307/ ''David Copperfield''], at [[Bartleby.com]] (HTML w/ additional commentary)\n",
      "*{{Librivox book | title=David Copperfield | author=Charles Dickens}}\n",
      "*[http://www.bartleby.com/307/1007.html List of over 50 characters.]\n",
      "\n",
      "'''Adaptations'''\n",
      "*[https://archive.org/download/TheaterGuildontheAir/Tgoa_50-12-24_ep055-David_Copperfield.mp3 1950 ''Theatre Guild on the Air'' radio adaptation] at [[Internet Archive]]\n",
      "*[https://www.youtube.com/watch?v=VWKRSZ7c0qk 1947 ''Favorite Story'' radio adaptation] at [[YouTube]]\n",
      "\n",
      "&lt;!--spacing--&gt;\n",
      "\n",
      "{{David Copperfield}}\n",
      "{{Charles Dickens}}\n",
      "\n",
      "{{Authority control}}\n",
      "\n",
      "{{DEFAULTSORT:David Copperfield}}\n",
      "[[Category:1849 novels]]\n",
      "[[Category:19th-century British novels]]\n",
      "[[Category:British autobiographical novels]]\n",
      "[[Category:British novels adapted into films]]\n",
      "[[Category:David Copperfield|*]]\n",
      "[[Category:Novels about orphans]]\n",
      "[[Category:Novels first published in serial form]]\n",
      "[[Category:Novels set in England]]\n",
      "[[Category:Novels set in the 19th century]]\n",
      "[[Category:Victorian novels]]\n",
      "[[Category:Novels by Charles Dickens]]\n",
      "[[Category:Novels adapted into television programs]]\n",
      "[[Category:English-language novels]\n"
     ]
    }
   ],
   "source": [
    "print article.text"
   ]
  },
  {
   "cell_type": "code",
   "execution_count": 89,
   "metadata": {
    "collapsed": false,
    "deletable": true,
    "editable": true
   },
   "outputs": [],
   "source": [
    "#Commenting out so as not to accidentally run\n",
    "#import cPickle as pickle\n",
    "#pickle.dump(cache,open(\"cache.pickle\",\"w\"))"
   ]
  },
  {
   "cell_type": "code",
   "execution_count": 2,
   "metadata": {
    "collapsed": false,
    "deletable": true,
    "editable": true
   },
   "outputs": [],
   "source": [
    "import cPickle as pickle\n",
    "cache = pickle.load(open(\"cache.pickle\"))"
   ]
  },
  {
   "cell_type": "code",
   "execution_count": 6,
   "metadata": {
    "collapsed": false,
    "deletable": true,
    "editable": true
   },
   "outputs": [
    {
     "data": {
      "text/plain": [
       "(40.26305555555555, -85.6763888888889)"
      ]
     },
     "execution_count": 6,
     "metadata": {},
     "output_type": "execute_result"
    }
   ],
   "source": [
    "art = cache[10]\n",
    "art.coords()"
   ]
  },
  {
   "cell_type": "code",
   "execution_count": 9,
   "metadata": {
    "collapsed": false,
    "deletable": true,
    "editable": true
   },
   "outputs": [],
   "source": [
    "years = range(1790,2020,10)"
   ]
  },
  {
   "cell_type": "code",
   "execution_count": 22,
   "metadata": {
    "collapsed": false,
    "deletable": true,
    "editable": true
   },
   "outputs": [
    {
     "name": "stdout",
     "output_type": "stream",
     "text": [
      "BAD COORDS: ['42', '50', '', 'N', '78', '5', '', 'W', 'region:U'] for Wyoming County, New York\n",
      "BAD COORDS: ['34.803', '-86.967}}.\\n* [[Ric'] for Limestone County, Alabama\n",
      "BAD COORDS: ['37.53139', 'N', '88.36833', 'W}}) '] for Hardin County, Illinois\n",
      "BAD COORDS: ['region:US-CT', 'format=dms', 'd'] for Enfield, Connecticut\n",
      "BAD COORDS: ['format=dms', 'display=inline'] for Gray, Georgia\n",
      "BAD COORDS: ['region:US-OK', 'format=dms', 'd'] for Hastings, Oklahoma\n",
      "BAD COORDS: ['region:US-OK_type:city', 'fo'] for Morrison, Oklahoma\n",
      "BAD COORDS: ['36', '-87', 'region:US-TN', 'displ'] for Clarksville, Tennessee\n",
      "BAD COORDS: ['40.991681', '0', 'region:US_typ'] for Harrington Park, New Jersey\n",
      "BAD COORDS: ['region:US-OK', 'format=dms', 'd'] for Oaks, Oklahoma\n",
      "BAD COORDS: ['28', '-82.3', 'region:US-FL', 'dis'] for Tampa Bay Area\n",
      "BAD COORDS: ['44.92797', '-93.22311}}\\n', 'ita'] for Hiawatha, Minneapolis\n"
     ]
    }
   ],
   "source": [
    "rows = []\n",
    "\n",
    "for article in cache:\n",
    "    out = {\"title\":article.title,\"id\":article.id}\n",
    "    out[\"lat\"],out[\"lon\"] = article.coords()\n",
    "    for year in years:\n",
    "        out['y' + str(year)] = 0\n",
    "    for year,population in article.town_pops():\n",
    "        year = 'y' + str(year)\n",
    "        if year in out: # Only store for census years\n",
    "            out[year] = population\n",
    "    rows.append(out)"
   ]
  },
  {
   "cell_type": "code",
   "execution_count": 33,
   "metadata": {
    "collapsed": false,
    "deletable": true,
    "editable": true
   },
   "outputs": [],
   "source": [
    "import pandas as pd\n",
    "pd.DataFrame(rows).to_csv(\"/home/bschmidt/9943478/wiki.csv\")"
   ]
  },
  {
   "cell_type": "code",
   "execution_count": 30,
   "metadata": {
    "collapsed": false,
    "deletable": true,
    "editable": true
   },
   "outputs": [
    {
     "ename": "AttributeError",
     "evalue": "'WikipediaArticle' object has no attribute 'coords'",
     "output_type": "error",
     "traceback": [
      "\u001b[0;31m\u001b[0m",
      "\u001b[0;31mAttributeError\u001b[0mTraceback (most recent call last)",
      "\u001b[0;32m<ipython-input-30-4130ad4e3def>\u001b[0m in \u001b[0;36m<module>\u001b[0;34m()\u001b[0m\n\u001b[1;32m      2\u001b[0m \u001b[0;32mfor\u001b[0m \u001b[0marticle\u001b[0m \u001b[0;32min\u001b[0m \u001b[0mcache\u001b[0m\u001b[0;34m:\u001b[0m\u001b[0;34m\u001b[0m\u001b[0m\n\u001b[1;32m      3\u001b[0m     \u001b[0mpops\u001b[0m \u001b[0;34m=\u001b[0m \u001b[0marticle\u001b[0m\u001b[0;34m.\u001b[0m\u001b[0mtown_pops\u001b[0m\u001b[0;34m(\u001b[0m\u001b[0;34m)\u001b[0m\u001b[0;34m\u001b[0m\u001b[0m\n\u001b[0;32m----> 4\u001b[0;31m     \u001b[0mcoords\u001b[0m \u001b[0;34m=\u001b[0m \u001b[0marticle\u001b[0m\u001b[0;34m.\u001b[0m\u001b[0mcoords\u001b[0m\u001b[0;34m(\u001b[0m\u001b[0;34m)\u001b[0m\u001b[0;34m\u001b[0m\u001b[0m\n\u001b[0m\u001b[1;32m      5\u001b[0m     \u001b[0;32mif\u001b[0m \u001b[0mlen\u001b[0m\u001b[0;34m(\u001b[0m\u001b[0mpops\u001b[0m\u001b[0;34m)\u001b[0m \u001b[0;34m>\u001b[0m \u001b[0;36m1\u001b[0m\u001b[0;34m:\u001b[0m\u001b[0;34m\u001b[0m\u001b[0m\n\u001b[1;32m      6\u001b[0m         \u001b[0molder\u001b[0m\u001b[0;34m.\u001b[0m\u001b[0mappend\u001b[0m\u001b[0;34m(\u001b[0m\u001b[0;34m[\u001b[0m\u001b[0marticle\u001b[0m\u001b[0;34m.\u001b[0m\u001b[0mtitle\u001b[0m\u001b[0;34m,\u001b[0m\u001b[0mpops\u001b[0m\u001b[0;34m,\u001b[0m\u001b[0mlen\u001b[0m\u001b[0;34m(\u001b[0m\u001b[0marticle\u001b[0m\u001b[0;34m.\u001b[0m\u001b[0mtext\u001b[0m\u001b[0;34m)\u001b[0m\u001b[0;34m]\u001b[0m\u001b[0;34m)\u001b[0m\u001b[0;34m\u001b[0m\u001b[0m\n",
      "\u001b[0;31mAttributeError\u001b[0m: 'WikipediaArticle' object has no attribute 'coords'"
     ]
    }
   ],
   "source": [
    "older = []\n",
    "for article in cache:\n",
    "    pops = article.town_pops()\n",
    "    coords = article.coords()\n",
    "    if len(pops) > 1:\n",
    "        older.append([article.title,pops,len(article.text)])\n",
    "print len(older)\n",
    "print len(cache)"
   ]
  },
  {
   "cell_type": "code",
   "execution_count": null,
   "metadata": {
    "collapsed": true,
    "deletable": true,
    "editable": true
   },
   "outputs": [],
   "source": []
  },
  {
   "cell_type": "markdown",
   "metadata": {
    "deletable": true,
    "editable": true
   },
   "source": [
    "Save to disk"
   ]
  },
  {
   "cell_type": "code",
   "execution_count": 26,
   "metadata": {
    "collapsed": false,
    "deletable": true,
    "editable": true
   },
   "outputs": [],
   "source": [
    "total_pop = [(title,sum([p for (y,p) in pops]), pops[-2][1], length) for title,pops,length in older]\n",
    "import pandas as pd\n",
    "total_pop.sort(key = lambda x: x[1],reverse=True)\n",
    "frame = pd.DataFrame(total_pop,columns=[\"title\",\"total\",\"last\",\"length\"])\n",
    "frame.to_csv(\"city_pops.csv\")"
   ]
  },
  {
   "cell_type": "code",
   "execution_count": 4,
   "metadata": {
    "collapsed": false,
    "deletable": true,
    "editable": true
   },
   "outputs": [
    {
     "data": {
      "text/plain": [
       "[('Demography of the United States', 36),\n",
       " ('United States', 34),\n",
       " ('Manhattan', 33),\n",
       " ('New York City', 30),\n",
       " ('Newtown, Connecticut', 28),\n",
       " ('Pittsburgh', 26),\n",
       " ('Philadelphia', 26),\n",
       " ('New Haven, Connecticut', 26),\n",
       " ('New Orleans', 26),\n",
       " ('Salem, Massachusetts', 26),\n",
       " ('Danbury, Connecticut', 26),\n",
       " ('Boston', 26),\n",
       " ('Cambridge, Massachusetts', 24),\n",
       " ('Waltham, Massachusetts', 24),\n",
       " ('Newton, Massachusetts', 24),\n",
       " ('Pittsfield, Massachusetts', 24),\n",
       " ('Attleboro, Massachusetts', 24),\n",
       " ('New Bedford, Massachusetts', 24),\n",
       " ('Taunton, Massachusetts', 24),\n",
       " ('Beverly, Massachusetts', 24),\n",
       " ('Gloucester, Massachusetts', 24),\n",
       " ('Haverhill, Massachusetts', 24),\n",
       " ('Lynn, Massachusetts', 24),\n",
       " ('Newburyport, Massachusetts', 24),\n",
       " ('Westfield, Massachusetts', 24)]"
      ]
     },
     "execution_count": 4,
     "metadata": {},
     "output_type": "execute_result"
    }
   ],
   "source": [
    "import random\n",
    "import shelve\n",
    "\n",
    "def keyer(x):\n",
    "    return len(x[1])\n",
    "older.sort(key = keyer,reverse=True)\n",
    "[(o[0],len(o[1])) for o in older[:25]]"
   ]
  },
  {
   "cell_type": "code",
   "execution_count": 86,
   "metadata": {
    "collapsed": false,
    "deletable": true,
    "editable": true
   },
   "outputs": [
    {
     "data": {
      "text/plain": [
       "[('Demography of the United States', 36),\n",
       " ('Manhattan', 33),\n",
       " ('New York City', 30),\n",
       " ('Pittsburgh', 26),\n",
       " ('Philadelphia', 26),\n",
       " ('New Haven, Connecticut', 26),\n",
       " ('New Orleans', 26),\n",
       " ('Salem, Massachusetts', 26),\n",
       " ('Danbury, Connecticut', 26),\n",
       " ('Cambridge, Massachusetts', 24),\n",
       " ('Waltham, Massachusetts', 24),\n",
       " ('Newton, Massachusetts', 24),\n",
       " ('Pittsfield, Massachusetts', 24),\n",
       " ('Attleboro, Massachusetts', 24),\n",
       " ('New Bedford, Massachusetts', 24),\n",
       " ('Taunton, Massachusetts', 24),\n",
       " ('Beverly, Massachusetts', 24),\n",
       " ('Gloucester, Massachusetts', 24),\n",
       " ('Haverhill, Massachusetts', 24),\n",
       " ('Lynn, Massachusetts', 24),\n",
       " ('Newburyport, Massachusetts', 24),\n",
       " ('Westfield, Massachusetts', 24),\n",
       " ('Northampton, Massachusetts', 24),\n",
       " ('Malden, Massachusetts', 24),\n",
       " ('Marlborough, Massachusetts', 24)]"
      ]
     },
     "execution_count": 86,
     "metadata": {},
     "output_type": "execute_result"
    }
   ],
   "source": [
    "import random\n",
    "import shelve\n",
    "\n",
    "def keyer(x):\n",
    "    return len(x[1])\n",
    "older.sort(key = keyer,reverse=True)\n",
    "[(o[0],len(o[1])) for o in older[:25]]"
   ]
  },
  {
   "cell_type": "code",
   "execution_count": 524,
   "metadata": {
    "collapsed": false,
    "deletable": true,
    "editable": true
   },
   "outputs": [
    {
     "data": {
      "text/plain": [
       "[('Connecticut',\n",
       "  [(1790, 237946),\n",
       "   (1800, 251002),\n",
       "   (1810, 261942),\n",
       "   (1820, 275248),\n",
       "   (1830, 297675),\n",
       "   (1840, 309978),\n",
       "   (1850, 370792),\n",
       "   (1860, 460147),\n",
       "   (1870, 537454),\n",
       "   (1880, 622700),\n",
       "   (1890, 746258),\n",
       "   (1900, 908420),\n",
       "   (1910, 1114756),\n",
       "   (1920, 1380631),\n",
       "   (1930, 1606903),\n",
       "   (1940, 1709242),\n",
       "   (1950, 2007280),\n",
       "   (1960, 2535234),\n",
       "   (1970, 3031709),\n",
       "   (1980, 3107576),\n",
       "   (1990, 3287116),\n",
       "   (2000, 3405565),\n",
       "   (2010, 3574097)])]"
      ]
     },
     "execution_count": 524,
     "metadata": {},
     "output_type": "execute_result"
    }
   ],
   "source": [
    "[(c[0],c[1]) for c in older if c[0]==\"Connecticut\"]"
   ]
  },
  {
   "cell_type": "code",
   "execution_count": 498,
   "metadata": {
    "collapsed": false,
    "deletable": true,
    "editable": true
   },
   "outputs": [
    {
     "data": {
      "text/plain": [
       "['Brooklyn, Connecticut',\n",
       " 'East Brooklyn, Illinois',\n",
       " 'West Brooklyn, Illinois',\n",
       " 'Brooklyn, Illinois',\n",
       " 'Brooklyn, Indiana',\n",
       " 'Brooklyn, Iowa',\n",
       " 'Brooklyn Park, Maryland',\n",
       " 'Brooklyn, Michigan',\n",
       " 'Brooklyn Center, Minnesota',\n",
       " 'Brooklyn Park, Minnesota',\n",
       " 'Brooklyn Heights, Missouri',\n",
       " 'Brooklyn, Ohio',\n",
       " 'Brooklyn Heights, Ohio',\n",
       " 'Brooklyn (village), Wisconsin']"
      ]
     },
     "execution_count": 498,
     "metadata": {},
     "output_type": "execute_result"
    }
   ],
   "source": [
    "[a.title for a in cache if \"Brooklyn\" in a.title]"
   ]
  },
  {
   "cell_type": "code",
   "execution_count": 73,
   "metadata": {
    "collapsed": true,
    "deletable": true,
    "editable": true
   },
   "outputs": [],
   "source": [
    "foo = wikiparser.WikipediaArticle(\"Lenox, Massachusetts\")"
   ]
  },
  {
   "cell_type": "code",
   "execution_count": 79,
   "metadata": {
    "collapsed": false,
    "deletable": true,
    "editable": true
   },
   "outputs": [
    {
     "ename": "NoPopulation",
     "evalue": "",
     "output_type": "error",
     "traceback": [
      "\u001b[0;31m\u001b[0m",
      "\u001b[0;31mNoPopulation\u001b[0mTraceback (most recent call last)",
      "\u001b[0;32m<ipython-input-79-ee5bff230dd8>\u001b[0m in \u001b[0;36m<module>\u001b[0;34m()\u001b[0m\n\u001b[0;32m----> 1\u001b[0;31m \u001b[0mlen\u001b[0m\u001b[0;34m(\u001b[0m\u001b[0mfoo\u001b[0m\u001b[0;34m.\u001b[0m\u001b[0mtown_pops\u001b[0m\u001b[0;34m(\u001b[0m\u001b[0;34m)\u001b[0m\u001b[0;34m)\u001b[0m\u001b[0;34m\u001b[0m\u001b[0m\n\u001b[0m",
      "\u001b[0;32m/home/bschmidt/Dropbox/Gannett/wikipedia_population/wikiparser.py\u001b[0m in \u001b[0;36mtown_pops\u001b[0;34m(self, max_depth)\u001b[0m\n\u001b[1;32m    123\u001b[0m             \u001b[0mmethod\u001b[0m \u001b[0;34m=\u001b[0m \u001b[0mparse_bars\u001b[0m\u001b[0;34m\u001b[0m\u001b[0m\n\u001b[1;32m    124\u001b[0m         \u001b[0;32melse\u001b[0m\u001b[0;34m:\u001b[0m\u001b[0;34m\u001b[0m\u001b[0m\n\u001b[0;32m--> 125\u001b[0;31m             \u001b[0;32mraise\u001b[0m \u001b[0mNoPopulation\u001b[0m\u001b[0;34m\u001b[0m\u001b[0m\n\u001b[0m\u001b[1;32m    126\u001b[0m \u001b[0;34m\u001b[0m\u001b[0m\n\u001b[1;32m    127\u001b[0m         \u001b[0marea\u001b[0m \u001b[0;34m=\u001b[0m \u001b[0mcontent\u001b[0m\u001b[0;34m[\u001b[0m\u001b[0;34m(\u001b[0m\u001b[0mstart\u001b[0m\u001b[0;34m)\u001b[0m\u001b[0;34m:\u001b[0m\u001b[0;34m(\u001b[0m\u001b[0mstart\u001b[0m \u001b[0;34m+\u001b[0m \u001b[0;36m500\u001b[0m\u001b[0;34m)\u001b[0m\u001b[0;34m]\u001b[0m\u001b[0;34m\u001b[0m\u001b[0m\n",
      "\u001b[0;31mNoPopulation\u001b[0m: "
     ]
    }
   ],
   "source": [
    "len(foo.town_pops())"
   ]
  },
  {
   "cell_type": "code",
   "execution_count": 80,
   "metadata": {
    "collapsed": false,
    "deletable": true,
    "editable": true
   },
   "outputs": [
    {
     "data": {
      "text/plain": [
       "[]"
      ]
     },
     "execution_count": 80,
     "metadata": {},
     "output_type": "execute_result"
    }
   ],
   "source": [
    "foo.pops()"
   ]
  },
  {
   "cell_type": "code",
   "execution_count": 58,
   "metadata": {
    "collapsed": false,
    "deletable": true,
    "editable": true
   },
   "outputs": [
    {
     "data": {
      "text/plain": [
       "['Historical populations', 'Historical populations']"
      ]
     },
     "execution_count": 58,
     "metadata": {},
     "output_type": "execute_result"
    }
   ],
   "source": [
    "import regex as re\n",
    "re.findall(tag,t)"
   ]
  }
 ],
 "metadata": {
  "kernelspec": {
   "display_name": "Python 2",
   "language": "python",
   "name": "python2"
  },
  "language_info": {
   "codemirror_mode": {
    "name": "ipython",
    "version": 2
   },
   "file_extension": ".py",
   "mimetype": "text/x-python",
   "name": "python",
   "nbconvert_exporter": "python",
   "pygments_lexer": "ipython2",
   "version": "2.7.12"
  }
 },
 "nbformat": 4,
 "nbformat_minor": 0
}
