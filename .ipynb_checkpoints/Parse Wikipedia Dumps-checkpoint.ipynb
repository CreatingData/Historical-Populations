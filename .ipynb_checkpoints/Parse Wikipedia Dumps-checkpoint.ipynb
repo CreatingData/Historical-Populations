{
 "cells": [
  {
   "cell_type": "markdown",
   "metadata": {},
   "source": [
    "This is the notebook I use to parse from wikipedia dumps into structured data, and to reconcile multiple data sources together. It is intended to be explicatory, not reproducible, and likely won't run de novo without explication."
   ]
  },
  {
   "cell_type": "code",
   "execution_count": 6,
   "metadata": {
    "collapsed": false,
    "deletable": true,
    "editable": true
   },
   "outputs": [
    {
     "name": "stdout",
     "output_type": "stream",
     "text": [
      "The autoreload extension is already loaded. To reload it, use:\n",
      "  %reload_ext autoreload\n"
     ]
    }
   ],
   "source": [
    "import wikiparser\n",
    "import cPickle as pickle\n",
    "import random\n",
    "\n",
    "%load_ext autoreload\n",
    "%autoreload 2"
   ]
  },
  {
   "cell_type": "code",
   "execution_count": null,
   "metadata": {
    "collapsed": false,
    "deletable": true,
    "editable": true
   },
   "outputs": [],
   "source": [
    "cache = []\n",
    "wtf = []\n",
    "last_print = 0\n",
    "parser = wikiparser.WikipediaParser(\"/home/bschmidt/sources/wikipedia.bz2\")\n",
    "#parser = wikiparser.WikipediaParser(\"/Users/bschmidt/Downloads/Unconfirmed 628142.crdownload\")\n",
    "for i,article in enumerate(parser):\n",
    "    if i - last_print >= 100000:\n",
    "        print \"{} cities in {} articles\".format(len(cache),i)\n",
    "        last_print = i\n",
    "    try:\n",
    "        pops = article.pops()\n",
    "        cache.append(article)\n",
    "        if (len(cache) % 1000 == 0) and i - last_print > 25000:\n",
    "            last_print = i\n",
    "            print \"{} cities in {} articles\".format(len(cache),i)\n",
    "        if \"York City\" in article.title:\n",
    "            print (i, article.title)            \n",
    "    except wikiparser.NoSuchAttribute:\n",
    "        continue"
   ]
  },
  {
   "cell_type": "code",
   "execution_count": 2,
   "metadata": {
    "collapsed": false,
    "deletable": true,
    "editable": true
   },
   "outputs": [
    {
     "ename": "NameError",
     "evalue": "name 'cache' is not defined",
     "output_type": "error",
     "traceback": [
      "\u001b[0;31m\u001b[0m",
      "\u001b[0;31mNameError\u001b[0mTraceback (most recent call last)",
      "\u001b[0;32m<ipython-input-2-7364938c6599>\u001b[0m in \u001b[0;36m<module>\u001b[0;34m()\u001b[0m\n\u001b[0;32m----> 1\u001b[0;31m \u001b[0mraw\u001b[0m \u001b[0;34m=\u001b[0m \u001b[0;34m[\u001b[0m\u001b[0;34m(\u001b[0m\u001b[0marticle\u001b[0m\u001b[0;34m.\u001b[0m\u001b[0mtitle\u001b[0m\u001b[0;34m,\u001b[0m\u001b[0marticle\u001b[0m\u001b[0;34m.\u001b[0m\u001b[0mid\u001b[0m\u001b[0;34m,\u001b[0m\u001b[0marticle\u001b[0m\u001b[0;34m.\u001b[0m\u001b[0mtext\u001b[0m\u001b[0;34m)\u001b[0m \u001b[0;32mfor\u001b[0m \u001b[0marticle\u001b[0m \u001b[0;32min\u001b[0m \u001b[0mcache\u001b[0m\u001b[0;34m]\u001b[0m\u001b[0;34m\u001b[0m\u001b[0m\n\u001b[0m\u001b[1;32m      2\u001b[0m \u001b[0mpickle\u001b[0m\u001b[0;34m.\u001b[0m\u001b[0mdump\u001b[0m\u001b[0;34m(\u001b[0m\u001b[0mraw\u001b[0m\u001b[0;34m,\u001b[0m\u001b[0mopen\u001b[0m\u001b[0;34m(\u001b[0m\u001b[0;34m\"cache_raw.pickle\"\u001b[0m\u001b[0;34m,\u001b[0m\u001b[0;34m\"w\"\u001b[0m\u001b[0;34m)\u001b[0m\u001b[0;34m)\u001b[0m\u001b[0;34m\u001b[0m\u001b[0m\n",
      "\u001b[0;31mNameError\u001b[0m: name 'cache' is not defined"
     ]
    }
   ],
   "source": [
    "raw = [(article.title,article.id,article.text) for article in cache]\n",
    "pickle.dump(raw,open(\"cache_raw.pickle\",\"w\"))"
   ]
  },
  {
   "cell_type": "code",
   "execution_count": null,
   "metadata": {
    "collapsed": false,
    "deletable": true,
    "editable": true
   },
   "outputs": [],
   "source": []
  },
  {
   "cell_type": "code",
   "execution_count": 3,
   "metadata": {
    "collapsed": false,
    "deletable": true,
    "editable": true
   },
   "outputs": [],
   "source": [
    "raw = pickle.load(open(\"cache_raw.pickle\"))"
   ]
  },
  {
   "cell_type": "code",
   "execution_count": 704,
   "metadata": {
    "collapsed": false,
    "deletable": true,
    "editable": true
   },
   "outputs": [
    {
     "name": "stdout",
     "output_type": "stream",
     "text": [
      "49748\n"
     ]
    }
   ],
   "source": [
    "subset = [wikiparser.WikipediaArticle(*args) for args in raw]\n",
    "random.shuffle(subset)\n",
    "print len(subset)"
   ]
  },
  {
   "cell_type": "code",
   "execution_count": 1465,
   "metadata": {
    "collapsed": false
   },
   "outputs": [],
   "source": [
    "p = [s for s in subset if s.title==\"Ponce, Puerto Rico\"][0]\n",
    "\n"
   ]
  },
  {
   "cell_type": "code",
   "execution_count": 183,
   "metadata": {
    "collapsed": false,
    "deletable": true,
    "editable": true
   },
   "outputs": [
    {
     "name": "stdout",
     "output_type": "stream",
     "text": [
      "Transylvanian Saxons\n",
      "Rosengård\n",
      "Intercity-Express\n",
      "Duchy of Brunswick\n",
      "Weston, Winnipeg\n",
      "NO}}\n",
      "{\n",
      "***:NO}}\n",
      "{{SognFjordane-geo-stub}}\n",
      "[***\n",
      "Presbytery of Boston\n",
      "Transperth Trains\n",
      "High-speed rail in Turkey\n",
      "Winnebago Mental Health Institute\n",
      "AT}}, \n",
      "***:AT}}, {{convert|670|m|ft|0|abbr=***\n",
      "Rural Municipality of Rockwood\n",
      "Rape of Bramber\n",
      "Rape of Chichester\n",
      "Current Island, Newfoundland\n",
      "Resurrection Elementary School (Pittsburgh)\n",
      "North Point Douglas\n",
      "Prussian Union of churches\n",
      "Indian Bay\n",
      "Rail transport in China\n",
      "Coorg Province\n",
      "Rural Municipality of St. Andrews\n",
      "Douglas, Juneau\n",
      "Street dogs in Sofia\n",
      "Denver Public Schools\n",
      "Debian\n",
      "Jordan River (Utah)\n",
      "Catholic Church in Canada\n",
      "Priest shortage in the Catholic Church\n",
      "Great Bolton\n",
      "Elizabethtown station\n",
      "Briarcliff Farms\n",
      "Plymouth Colony\n",
      "Amish\n",
      "Module:Historical populations\n",
      "Veneto\n",
      "Buddhism in Canada\n",
      "Piedmont\n",
      "Poles in the Soviet Union\n",
      "Buhera District\n",
      "Cumbria\n",
      "Little Bolton\n",
      "Omak Airport\n",
      "Tibet Autonomous Region\n",
      "Tuggeranong\n",
      "Census in Myanmar\n",
      "Timeline of Briarcliff Manor\n",
      "Aran Islands\n",
      "Puerto Rican migration to New York City\n",
      "Religion in Canada\n",
      "Priesthood in the Catholic Church\n",
      "Eparchy of Lungro\n",
      "Rural Municipality of St. Clements\n",
      "Asia\n",
      "Shenzhen Metro\n",
      "MTR\n",
      "List of continents by population\n",
      "Sardinian people\n",
      "Template:Philippine Census\n",
      "Germans in the Czech Republic\n",
      "Estoril\n",
      "Rape of Arundel\n",
      "Overseas department\n",
      "Buskerud\n",
      "Lancaster station (Pennsylvania)\n",
      "Pomeranian Evangelical Church\n",
      "Trondheim og omland\n",
      "Vest-Telemark\n",
      "Crescentwood, Winnipeg\n",
      "Union Station (Erie, Pennsylvania)\n",
      "Stone Town\n",
      "Liguria\n",
      "Byzantine army\n",
      "Society Hill, Philadelphia\n",
      "High-speed rail in China\n",
      "Spring Garden, Philadelphia\n",
      "Syria\n",
      "Bulgarians in Czechoslovakia\n",
      "Ethnic groups in South Africa\n",
      "Lienz District\n",
      "Wedgeport\n",
      "Lombardy\n",
      "Arabian Peninsula\n",
      "Mendota Mental Health Institute\n",
      "es|dis\n",
      "***:es|display=inline,title}}\n",
      "| elev***\n",
      "Armstrong's Point\n",
      "Taipei Metro\n",
      "Poles in Romania\n",
      "Immigration to Portugal\n",
      "Census in Botswana\n",
      "Timeline of Cape Town\n",
      "West St. Modeste\n",
      "Latin America\n",
      "Ailik\n",
      "Australian Public Service\n",
      "Over-the-Rhine\n",
      "Tuxedo, Winnipeg\n",
      "Southwark, Philadelphia\n",
      "List of municipalities of the Netherlands\n",
      "Ukrainians in the Czech Republic\n",
      "Trichinopoly District\n",
      "Bernstein im Burgenland\n",
      "Melrose Public Schools\n",
      "Hungarians in Romania\n",
      "Germans of Kazakhstan\n",
      "River Heights, Winnipeg\n",
      "Upper Canada\n",
      "East Germany\n",
      "Rural Municipality of Bifrost\n",
      "Santa Isabel, Baja California\n",
      "Middletown station (Pennsylvania)\n",
      "Slovenia\n",
      "Pudukkottai State\n",
      "Spenard, Anchorage\n"
     ]
    }
   ],
   "source": [
    "# \"Spring Garden, PA\" is a problem: ignored as a neighborhood, but actually useful\n",
    "\n",
    "for i,s in enumerate(subset):\n",
    "    if s.country() is None and not s.drop_from_title():\n",
    "        print s.title\n",
    "        \n"
   ]
  },
  {
   "cell_type": "code",
   "execution_count": 1468,
   "metadata": {
    "collapsed": false,
    "deletable": true,
    "editable": true
   },
   "outputs": [
    {
     "name": "stdout",
     "output_type": "stream",
     "text": [
      "49748\n"
     ]
    }
   ],
   "source": [
    "print len(subset)"
   ]
  },
  {
   "cell_type": "code",
   "execution_count": 1467,
   "metadata": {
    "collapsed": false,
    "deletable": true,
    "editable": true
   },
   "outputs": [
    {
     "name": "stdout",
     "output_type": "stream",
     "text": [
      "[u'{{US Census population\\n', u'1880= 700\\n', u'align-fn=center\\n', u'footnote=U.S. Decennial Census&lt;ref&gt;{{cite web', u'url=http://www.census.gov/prod/www/decennial.html ', u'title=U.S. Decennial Census ', u'publisher=Census.gov ', u'accessdate=June 6, 2013 ', u'deadurl=yes ', u'archiveurl=http://www.webcitation.org/6YSasqtfX?url=http%3A%2F%2Fwww.census.gov%2Fprod%2Fwww%2Fdecennial.html ', u'archivedate=May 12, 2015 ', u'df= }}&lt;/ref&gt;\\n}}']\n",
      "[u'{{US Census population\\n', u'1880= 700\\n', u'align-fn=center\\n', u'footnote=U.S. Decennial Census&lt;ref&gt;{{cite web', u'url=http://www.census.gov/prod/www/decennial.html ', u'title=U.S. Decennial Census ', u'publisher=Census.gov ', u'accessdate=June 6, 2013 ', u'deadurl=yes ', u'archiveurl=http://www.webcitation.org/6YSasqtfX?url=http%3A%2F%2Fwww.census.gov%2Fprod%2Fwww%2Fdecennial.html ', u'archivedate=May 12, 2015 ', u'df= }}&lt;/ref&gt;\\n}}']\n",
      "[u'{{US Census population\\n', u'1880= 700\\n', u'align-fn=center\\n', u'footnote=U.S. Decennial Census&lt;ref&gt;{{cite web', u'url=http://www.census.gov/prod/www/decennial.html ', u'title=U.S. Decennial Census ', u'publisher=Census.gov ', u'accessdate=June 6, 2013 ', u'deadurl=yes ', u'archiveurl=http://www.webcitation.org/6YSasqtfX?url=http%3A%2F%2Fwww.census.gov%2Fprod%2Fwww%2Fdecennial.html ', u'archivedate=May 12, 2015 ', u'df= }}&lt;/ref&gt;\\n}}']\n",
      "[u'{{US Census population\\n', u'1880= 700\\n', u'align-fn=center\\n', u'footnote=U.S. Decennial Census&lt;ref&gt;{{cite web', u'url=http://www.census.gov/prod/www/decennial.html ', u'title=U.S. Decennial Census ', u'publisher=Census.gov ', u'accessdate=June 6, 2013 ', u'deadurl=yes ', u'archiveurl=http://www.webcitation.org/6YSasqtfX?url=http%3A%2F%2Fwww.census.gov%2Fprod%2Fwww%2Fdecennial.html ', u'archivedate=May 12, 2015 ', u'df= }}&lt;/ref&gt;\\n}}']\n",
      "[u'{{US Census population\\n', u'1930= 115\\n', u'1940= 94\\n', u'1950= 101\\n', u'1960= 82\\n', u'1970= 21\\n', u'1980= 34\\n', u'1990= 23\\n', u'align-fn=center\\n', u'footnote=[http://www.census.gov/prod/www/abs/decennial/ U.S. Decennial Census]\\n}}']\n",
      "[u'{{US Census population\\n', u'1930= 115\\n', u'1940= 94\\n', u'1950= 101\\n', u'1960= 82\\n', u'1970= 21\\n', u'1980= 34\\n', u'1990= 23\\n', u'align-fn=center\\n', u'footnote=[http://www.census.gov/prod/www/abs/decennial/ U.S. Decennial Census]\\n}}']\n",
      "Using [[New England town|town]]\n",
      "[u'{{US Census population\\n', u' 1980=1710\\n', u' 1990=2320\\n', u' 2000=2544\\n', u' footnote=source:&lt;ref&gt;{{cite web\\n  ', u'url=http://www.census.gov/prod/www/abs/decennial/index.html\\n  ', u'title=CENSUS OF POPULATION AND HOUSING (1790-2000)\\n  ', u'publisher=[[U.S. Census Bureau]]\\n  ', u'accessdate=2010-07-18}}&lt;/ref&gt;\\n}}']\n",
      "[u'{{US Census population\\n', u' 1980=1710\\n', u' 1990=2320\\n', u' 2000=2544\\n', u' footnote=source:&lt;ref&gt;{{cite web\\n  ', u'url=http://www.census.gov/prod/www/abs/decennial/index.html\\n  ', u'title=CENSUS OF POPULATION AND HOUSING (1790-2000)\\n  ', u'publisher=[[U.S. Census Bureau]]\\n  ', u'accessdate=2010-07-18}}&lt;/ref&gt;\\n}}']\n",
      "[u'{{US Census population\\n', u' 1990=3840\\n', u' 2000=5313\\n', u' footnote=source:&lt;ref&gt;{{cite web\\n  ', u'url=http://www.census.gov/prod/www/abs/decennial/index.html\\n  ', u'title=CENSUS OF POPULATION AND HOUSING (1790-2000)\\n  ', u'publisher=[[U.S. Census Bureau]]\\n  ', u'accessdate=2010-07-17}}&lt;/ref&gt;\\n}}']\n",
      "[u'{{US Census population\\n', u' 1990=3840\\n', u' 2000=5313\\n', u' footnote=source:&lt;ref&gt;{{cite web\\n  ', u'url=http://www.census.gov/prod/www/abs/decennial/index.html\\n  ', u'title=CENSUS OF POPULATION AND HOUSING (1790-2000)\\n  ', u'publisher=[[U.S. Census Bureau]]\\n  ', u'accessdate=2010-07-17}}&lt;/ref&gt;\\n}}']\n",
      "Using town\n",
      "[u'{{US Census population\\n', u' 1880 =  81\\n', u' 1890 = 365\\n', u' 1900 = 187\\n', u' 1910 = 409\\n', u' 1920 = 417\\n', u' 1930 = 288\\n', u' 1940 = 318\\n', u' 1950 = 248\\n', u' footnote = Source: U.S. Census Bureau&lt;ref name=uscensus&gt;{{cite web\\n ', u'url=http://www.census.gov/prod/www/abs/decennial/ \\n ', u'title=Census of Population and Housing \\n ', u'publisher=U.S. Census Bureau \\n ', u'accessdate=March 10, 2010 \\n ', u'deadurl=yes \\n ', u'archiveurl=https://web.archive.org/web/20060208103743/http://www.census.gov/prod/www/abs/decennial/ \\n ', u'archivedate=February  8, 2006 \\n ', u'df= \\n}}&lt;/ref&gt;}}']\n",
      "[u'{{US Census population\\n', u' 1880 =  81\\n', u' 1890 = 365\\n', u' 1900 = 187\\n', u' 1910 = 409\\n', u' 1920 = 417\\n', u' 1930 = 288\\n', u' 1940 = 318\\n', u' 1950 = 248\\n', u' footnote = Source: U.S. Census Bureau&lt;ref name=uscensus&gt;{{cite web\\n ', u'url=http://www.census.gov/prod/www/abs/decennial/ \\n ', u'title=Census of Population and Housing \\n ', u'publisher=U.S. Census Bureau \\n ', u'accessdate=March 10, 2010 \\n ', u'deadurl=yes \\n ', u'archiveurl=https://web.archive.org/web/20060208103743/http://www.census.gov/prod/www/abs/decennial/ \\n ', u'archivedate=February  8, 2006 \\n ', u'df= \\n}}&lt;/ref&gt;}}']\n",
      "[u'{{US Census population\\n', u'align=left\\n', u'1970= 325\\n', u'align-fn=center\\n', u'footnote=U.S. Decennial Census&lt;ref&gt;{{cite web', u'url=http://www.census.gov/prod/www/decennial.html ', u'title=U.S. Decennial Census ', u'publisher=Census.gov ', u'accessdate=June 6, 2013 ', u'deadurl=yes ', u'archiveurl=http://www.webcitation.org/6YSasqtfX?url=http://www.census.gov/prod/www/decennial.html ', u'archivedate=May 12, 2015 ', u'df= }}&lt;/ref&gt;\\n}}']\n",
      "[u'{{US Census population\\n', u'align=left\\n', u'1970= 325\\n', u'align-fn=center\\n', u'footnote=U.S. Decennial Census&lt;ref&gt;{{cite web', u'url=http://www.census.gov/prod/www/decennial.html ', u'title=U.S. Decennial Census ', u'publisher=Census.gov ', u'accessdate=June 6, 2013 ', u'deadurl=yes ', u'archiveurl=http://www.webcitation.org/6YSasqtfX?url=http://www.census.gov/prod/www/decennial.html ', u'archivedate=May 12, 2015 ', u'df= }}&lt;/ref&gt;\\n}}']\n",
      "[u'{{US Census population\\n', u'1980= 1\\n', u'estyear=2015\\n', u'estimate=0\\n', u'estref=&lt;ref name=&quot;USCensusEst2015&quot;&gt;{{cite web', u'url=http://www.census.gov/popest/data/cities/totals/2015/SUB-EST2015.html', u'title=Annual Estimates of the Resident Population for Incorporated Places: April 1, 2010 to July 1, 2015', u'accessdate=July 2, 2016}}&lt;/ref&gt;\\n', u'footnote=&lt;center&gt;U.S. Decennial Census&lt;ref name=&quot;DecennialCensus&quot;&gt;{{cite web', u'url=http://www.census.gov/prod/www/decennial.html', u'title=Census of Population and Housing', u'publisher=Census.gov', u'accessdate=June 4, 2016}}&lt;/ref&gt;&lt;/center&gt;\\n}}']\n",
      "[u'{{US Census population\\n', u'1980= 1\\n', u'estyear=2015\\n', u'estimate=0\\n', u'estref=&lt;ref name=&quot;USCensusEst2015&quot;&gt;{{cite web', u'url=http://www.census.gov/popest/data/cities/totals/2015/SUB-EST2015.html', u'title=Annual Estimates of the Resident Population for Incorporated Places: April 1, 2010 to July 1, 2015', u'accessdate=July 2, 2016}}&lt;/ref&gt;\\n', u'footnote=&lt;center&gt;U.S. Decennial Census&lt;ref name=&quot;DecennialCensus&quot;&gt;{{cite web', u'url=http://www.census.gov/prod/www/decennial.html', u'title=Census of Population and Housing', u'publisher=Census.gov', u'accessdate=June 4, 2016}}&lt;/ref&gt;&lt;/center&gt;\\n}}']\n",
      "[u'{{US Census population\\n', u' 1910=400\\n', u' 1920=337\\n', u' 1930=0\\n', u' footnote=Source:&lt;ref name=&quot;moffat&quot;&gt;{{cite book ', u'last=Moffat ', u'first=Riley ', u'title=Population History of Western U.S. Cities and Towns, 1850-1990 ', u'publisher=Scarecrow Press, Inc. ', u'location=Lanham, Maryland ', u'year=1996 ', u'pages=9\\u201317 ', u'isbn=0-8108-3033-7 }}&lt;/ref&gt;\\n}}']\n",
      "[u'{{US Census population\\n', u' 1910=400\\n', u' 1920=337\\n', u' 1930=0\\n', u' footnote=Source:&lt;ref name=&quot;moffat&quot;&gt;{{cite book ', u'last=Moffat ', u'first=Riley ', u'title=Population History of Western U.S. Cities and Towns, 1850-1990 ', u'publisher=Scarecrow Press, Inc. ', u'location=Lanham, Maryland ', u'year=1996 ', u'pages=9\\u201317 ', u'isbn=0-8108-3033-7 }}&lt;/ref&gt;\\n}}']\n",
      "[u'{{US Census population\\n', u' 1990=2788\\n', u' 2000=2974\\n', u' footnote=source:&lt;ref&gt;{{cite web\\n  ', u'url=http://www.census.gov/prod/www/abs/decennial/index.html\\n  ', u'title=CENSUS OF POPULATION AND HOUSING (1790-2000)\\n  ', u'publisher=[[U.S. Census Bureau]]\\n  ', u'accessdate=2010-07-31}}&lt;/ref&gt;\\n}}']\n",
      "[u'{{US Census population\\n', u' 1990=2788\\n', u' 2000=2974\\n', u' footnote=source:&lt;ref&gt;{{cite web\\n  ', u'url=http://www.census.gov/prod/www/abs/decennial/index.html\\n  ', u'title=CENSUS OF POPULATION AND HOUSING (1790-2000)\\n  ', u'publisher=[[U.S. Census Bureau]]\\n  ', u'accessdate=2010-07-31}}&lt;/ref&gt;\\n}}']\n",
      "[u'{{US Census population\\n', u'1880= 41\\n', u'1890= 255\\n', u'align-fn=center\\n', u'footnote=U.S. Decennial Census&lt;ref&gt;{{cite web', u'url=http://www.census.gov/prod/www/decennial.html ', u'title=U.S. Decennial Census ', u'publisher=Census.gov ', u'accessdate=June 6, 2013 ', u'deadurl=yes ', u'archiveurl=http://www.webcitation.org/6YSasqtfX ', u'archivedate=May 11, 2015 }}&lt;/ref&gt;\\n}}']\n",
      "[u'{{US Census population\\n', u'1880= 41\\n', u'1890= 255\\n', u'align-fn=center\\n', u'footnote=U.S. Decennial Census&lt;ref&gt;{{cite web', u'url=http://www.census.gov/prod/www/decennial.html ', u'title=U.S. Decennial Census ', u'publisher=Census.gov ', u'accessdate=June 6, 2013 ', u'deadurl=yes ', u'archiveurl=http://www.webcitation.org/6YSasqtfX ', u'archivedate=May 11, 2015 }}&lt;/ref&gt;\\n}}']\n",
      "[u'{{US Census population\\n', u'1880= 200\\n', u'footnote=U.S. Decennial Census&lt;ref&gt;{{cite web', u'url=http://www.census.gov/prod/www/decennial.html ', u'title=Census of Population and Housing ', u'author=[[United States Census Bureau]]}}&lt;/ref&gt;\\n}}']\n",
      "[u'{{US Census population\\n', u'1880= 200\\n', u'footnote=U.S. Decennial Census&lt;ref&gt;{{cite web', u'url=http://www.census.gov/prod/www/decennial.html ', u'title=Census of Population and Housing ', u'author=[[United States Census Bureau]]}}&lt;/ref&gt;\\n}}']\n",
      "[u'{{US Census population\\n', u' 1960=66348\\n', u' 1970=77496\\n', u' 1980=72893\\n', u' 1990=76046\\n', u' 2000=76540\\n', u' 2010=71452\\n', u' 2014=72673\\n', u' footnote=source:&lt;ref&gt;{{cite web\\n  ', u'url=http://www.census.gov/prod/www/abs/decennial/index.html\\n  ', u'title=CENSUS OF POPULATION AND HOUSING (1790-2000)\\n  ', u'publisher=[[U.S. Census Bureau]]\\n  ', u'accessdate=2010-07-17}}&lt;/ref&gt;&lt;ref&gt;{{cite web\\n  ', u'url=http://factfinder2.census.gov/\\n  ', u'title=American Factfinder\\n  ', u'publisher=U.S. Census Bureau\\n  ', u'accessdate=2011-06-17}}&lt;/ref&gt; &lt;br /&gt;note: land area of Silver Spring CDP  &lt;br /&gt;reduced by 15% for 2010 census\\n}}']\n",
      "[u'{{US Census population\\n', u' 1960=66348\\n', u' 1970=77496\\n', u' 1980=72893\\n', u' 1990=76046\\n', u' 2000=76540\\n', u' 2010=71452\\n', u' 2014=72673\\n', u' footnote=source:&lt;ref&gt;{{cite web\\n  ', u'url=http://www.census.gov/prod/www/abs/decennial/index.html\\n  ', u'title=CENSUS OF POPULATION AND HOUSING (1790-2000)\\n  ', u'publisher=[[U.S. Census Bureau]]\\n  ', u'accessdate=2010-07-17}}&lt;/ref&gt;&lt;ref&gt;{{cite web\\n  ', u'url=http://factfinder2.census.gov/\\n  ', u'title=American Factfinder\\n  ', u'publisher=U.S. Census Bureau\\n  ', u'accessdate=2011-06-17}}&lt;/ref&gt; &lt;br /&gt;note: land area of Silver Spring CDP  &lt;br /&gt;reduced by 15% for 2010 census\\n}}']\n",
      "[u'{{USCensusPop\\n', u' 1980=2814\\n', u' 1990=2662\\n', u' 2000=9755\\n', u' footnote=source:&lt;ref&gt;{{cite web\\n  ', u'url=http://www.census.gov/prod/www/abs/decennial/index.html\\n  ', u'title=CENSUS OF POPULATION AND HOUSING (1790-2000)\\n  ', u'publisher=[[U.S. Census Bureau]]\\n  ', u'accessdate=2010-07-17}}&lt;/ref&gt;\\n}}']\n",
      "[u'{{USCensusPop\\n', u' 1980=2814\\n', u' 1990=2662\\n', u' 2000=9755\\n', u' footnote=source:&lt;ref&gt;{{cite web\\n  ', u'url=http://www.census.gov/prod/www/abs/decennial/index.html\\n  ', u'title=CENSUS OF POPULATION AND HOUSING (1790-2000)\\n  ', u'publisher=[[U.S. Census Bureau]]\\n  ', u'accessdate=2010-07-17}}&lt;/ref&gt;\\n}}']\n",
      "[u'{{US Census population\\n', u' 1990=6504\\n', u' 2000=7136\\n', u' footnote=source:&lt;ref&gt;{{cite web\\n  ', u'url=http://www.census.gov/prod/www/abs/decennial/index.html\\n  ', u'title=CENSUS OF POPULATION AND HOUSING (1790-2000)\\n  ', u'publisher=U.S. Census Bureau\\n  ', u'accessdate=2010-07-17}}&lt;/ref&gt;\\n}}']\n",
      "[u'{{US Census population\\n', u' 1990=6504\\n', u' 2000=7136\\n', u' footnote=source:&lt;ref&gt;{{cite web\\n  ', u'url=http://www.census.gov/prod/www/abs/decennial/index.html\\n  ', u'title=CENSUS OF POPULATION AND HOUSING (1790-2000)\\n  ', u'publisher=U.S. Census Bureau\\n  ', u'accessdate=2010-07-17}}&lt;/ref&gt;\\n}}']\n",
      "Using [[unorganized territory]]\n",
      "[u'{{US Census population\\n', u'1910= 106\\n', u'1920= 166\\n', u'align-fn=center\\n', u'footnote=U.S. Decennial Census&lt;ref&gt;{{cite web', u'url=http://www.census.gov/prod/www/decennial.html', u'title=U.S. Decennial Census', u'publisher=Census.gov', u'accessdate=June 6, 2013}}&lt;/ref&gt;\\n}}']\n",
      "[u'{{US Census population\\n', u'1910= 106\\n', u'1920= 166\\n', u'align-fn=center\\n', u'footnote=U.S. Decennial Census&lt;ref&gt;{{cite web', u'url=http://www.census.gov/prod/www/decennial.html', u'title=U.S. Decennial Census', u'publisher=Census.gov', u'accessdate=June 6, 2013}}&lt;/ref&gt;\\n}}']\n",
      "[u'{{US Census population\\n', u'1880= 37\\n', u'align-fn=center\\n', u'footnote=U.S. Decennial Census&lt;ref&gt;{{cite web', u'url=http://www.census.gov/prod/www/decennial.html ', u'title=U.S. Decennial Census ', u'publisher=Census.gov ', u'accessdate=June 6, 2013 ', u'deadurl=yes ', u'archiveurl=http://www.webcitation.org/6YSasqtfX?url=http%3A%2F%2Fwww.census.gov%2Fprod%2Fwww%2Fdecennial.html ', u'archivedate=May 11, 2015 ', u'df= }}&lt;/ref&gt;\\n}}']\n",
      "[u'{{US Census population\\n', u'1880= 37\\n', u'align-fn=center\\n', u'footnote=U.S. Decennial Census&lt;ref&gt;{{cite web', u'url=http://www.census.gov/prod/www/decennial.html ', u'title=U.S. Decennial Census ', u'publisher=Census.gov ', u'accessdate=June 6, 2013 ', u'deadurl=yes ', u'archiveurl=http://www.webcitation.org/6YSasqtfX?url=http%3A%2F%2Fwww.census.gov%2Fprod%2Fwww%2Fdecennial.html ', u'archivedate=May 11, 2015 ', u'df= }}&lt;/ref&gt;\\n}}']\n",
      "[u'{{US Census population\\n', u' 1980=1521\\n', u' 1990=1112\\n', u' 2000=4\\n', u' footnote=source:&lt;ref&gt;{{cite web\\n  ', u'url=http://www.census.gov/prod/www/abs/decennial/index.html\\n  ', u'title=CENSUS OF POPULATION AND HOUSING (1790-2000)\\n  ', u'publisher=[[U.S. Census Bureau]]\\n  ', u'accessdate=2010-07-17}}&lt;/ref&gt;\\n}}']\n",
      "[u'{{US Census population\\n', u' 1980=1521\\n', u' 1990=1112\\n', u' 2000=4\\n', u' footnote=source:&lt;ref&gt;{{cite web\\n  ', u'url=http://www.census.gov/prod/www/abs/decennial/index.html\\n  ', u'title=CENSUS OF POPULATION AND HOUSING (1790-2000)\\n  ', u'publisher=[[U.S. Census Bureau]]\\n  ', u'accessdate=2010-07-17}}&lt;/ref&gt;\\n}}']\n",
      "[u'{{USCensusPop\\n', u'1850=1114\\n', u'1860=2063\\n', u'footnote=Historical census data source:&lt;ref&gt;[http://www.census.gov/prod/www/abs/decennial/ CENSUS OF POPULATION AND HOUSING 1790-2000], [[United States Census Bureau]]. Accessed July 20, 2008.&lt;/ref&gt;\\n}}']\n",
      "[u'{{USCensusPop\\n', u'1850=1114\\n', u'1860=2063\\n', u'footnote=Historical census data source:&lt;ref&gt;[http://www.census.gov/prod/www/abs/decennial/ CENSUS OF POPULATION AND HOUSING 1790-2000], [[United States Census Bureau]]. Accessed July 20, 2008.&lt;/ref&gt;\\n}}']\n",
      "[u'{{US Census population\\n', u' 1800=1941\\n', u' 1810=2315\\n', u' 1820=2729\\n', u' 1830=2994\\n', u' 1840=3069\\n', u' 1850=3320\\n', u' 1860=5225\\n', u' 1870=11117\\n', u' footnote= Source:&lt;ref name=&quot;histpop&quot;&gt;{{cite web', u'url=http://www.census.gov/prod/www/abs/decennial/1870.html ', u'title=1870 Census Information (includes aggregate census information for every year prior to 1790) ', u'accessdate=2012-06-02 ', u'publisher=[[United States Census Bureau]] }}&lt;/ref&gt;\\n}}']\n",
      "[u'{{US Census population\\n', u' 1800=1941\\n', u' 1810=2315\\n', u' 1820=2729\\n', u' 1830=2994\\n', u' 1840=3069\\n', u' 1850=3320\\n', u' 1860=5225\\n', u' 1870=11117\\n', u' footnote= Source:&lt;ref name=&quot;histpop&quot;&gt;{{cite web', u'url=http://www.census.gov/prod/www/abs/decennial/1870.html ', u'title=1870 Census Information (includes aggregate census information for every year prior to 1790) ', u'accessdate=2012-06-02 ', u'publisher=[[United States Census Bureau]] }}&lt;/ref&gt;\\n}}']\n",
      "[u'{{US Census population\\n', u' 1800=1941\\n', u' 1810=2315\\n', u' 1820=2729\\n', u' 1830=2994\\n', u' 1840=3069\\n', u' 1850=3320\\n', u' 1860=5225\\n', u' 1870=11117\\n', u' footnote= Source:&lt;ref name=&quot;histpop&quot;&gt;{{cite web', u'url=http://www.census.gov/prod/www/abs/decennial/1870.html ', u'title=1870 Census Information (includes aggregate census information for every year prior to 1790) ', u'accessdate=2012-06-02 ', u'publisher=[[United States Census Bureau]] }}&lt;/ref&gt;\\n}}']\n",
      "[u'{{US Census population\\n', u' 1800=1941\\n', u' 1810=2315\\n', u' 1820=2729\\n', u' 1830=2994\\n', u' 1840=3069\\n', u' 1850=3320\\n', u' 1860=5225\\n', u' 1870=11117\\n', u' footnote= Source:&lt;ref name=&quot;histpop&quot;&gt;{{cite web', u'url=http://www.census.gov/prod/www/abs/decennial/1870.html ', u'title=1870 Census Information (includes aggregate census information for every year prior to 1790) ', u'accessdate=2012-06-02 ', u'publisher=[[United States Census Bureau]] }}&lt;/ref&gt;\\n}}']\n",
      "[u'{{US Census population\\n', u' 1990=3993\\n', u' 2000=4497\\n', u' footnote=source:&lt;ref&gt;{{cite web\\n  ', u'url=http://www.census.gov/prod/www/abs/decennial/index.html\\n  ', u'title=CENSUS OF POPULATION AND HOUSING (1790-2000)\\n  ', u'publisher=[[U.S. Census Bureau]]\\n  ', u'accessdate=2010-07-31}}&lt;/ref&gt;\\n}}']\n",
      "[u'{{US Census population\\n', u' 1990=3993\\n', u' 2000=4497\\n', u' footnote=source:&lt;ref&gt;{{cite web\\n  ', u'url=http://www.census.gov/prod/www/abs/decennial/index.html\\n  ', u'title=CENSUS OF POPULATION AND HOUSING (1790-2000)\\n  ', u'publisher=[[U.S. Census Bureau]]\\n  ', u'accessdate=2010-07-31}}&lt;/ref&gt;\\n}}']\n",
      "[u'{{USCensusPop\\n', u' 1950=4611\\n', u' 1960=1148\\n', u' footnote=source:&lt;ref&gt;{{cite web\\n  ', u'url=http://www.census.gov/prod/www/abs/decennial/index.html\\n  ', u'title=CENSUS OF POPULATION AND HOUSING (1790-2000)\\n  ', u'publisher=[[U.S. Census Bureau]]\\n  ', u'accessdate=2013-09-04}}&lt;/ref&gt;\\n}}']\n",
      "[u'{{USCensusPop\\n', u' 1950=4611\\n', u' 1960=1148\\n', u' footnote=source:&lt;ref&gt;{{cite web\\n  ', u'url=http://www.census.gov/prod/www/abs/decennial/index.html\\n  ', u'title=CENSUS OF POPULATION AND HOUSING (1790-2000)\\n  ', u'publisher=[[U.S. Census Bureau]]\\n  ', u'accessdate=2013-09-04}}&lt;/ref&gt;\\n}}']\n",
      "Using city\n",
      "[u'{{US Census population\\n', u'1870= 66\\n', u'1880= 176\\n', u'1890= 215\\n', u'1900= 273\\n', u'1910= 319\\n', u'1920= 208\\n', u'1930= 235\\n', u'1940= 173\\n', u'1950= 162\\n', u'1960= 120\\n', u'1970= 73\\n', u'1980= 109\\n', u'1990= 42\\n', u'2000= 75\\n', u'footnote=&lt;center&gt;U.S. Decennial Census&lt;ref name=&quot;DecennialCensus&quot;&gt;{{cite web', u'url=http://www.census.gov/prod/www/decennial.html', u'title=Census of Population and Housing', u'publisher=Census.gov', u'accessdate=June 4, 2015}}&lt;/ref&gt;&lt;/center&gt;\\n}}']\n",
      "[u'{{US Census population\\n', u'1870= 66\\n', u'1880= 176\\n', u'1890= 215\\n', u'1900= 273\\n', u'1910= 319\\n', u'1920= 208\\n', u'1930= 235\\n', u'1940= 173\\n', u'1950= 162\\n', u'1960= 120\\n', u'1970= 73\\n', u'1980= 109\\n', u'1990= 42\\n', u'2000= 75\\n', u'footnote=&lt;center&gt;U.S. Decennial Census&lt;ref name=&quot;DecennialCensus&quot;&gt;{{cite web', u'url=http://www.census.gov/prod/www/decennial.html', u'title=Census of Population and Housing', u'publisher=Census.gov', u'accessdate=June 4, 2015}}&lt;/ref&gt;&lt;/center&gt;\\n}}']\n",
      "[u'{{US Census population\\n', u' 1870=973\\n', u' 1880=1084\\n', u' 1890=933\\n', u' 1900=823\\n', u' 1910=367\\n', u' 1920=51\\n', u' 1930=2\\n', u' 1940=25\\n', u' 1950=6\\n}}']\n",
      "[u'{{US Census population\\n', u' 1870=973\\n', u' 1880=1084\\n', u' 1890=933\\n', u' 1900=823\\n', u' 1910=367\\n', u' 1920=51\\n', u' 1930=2\\n', u' 1940=25\\n', u' 1950=6\\n}}']\n",
      "[u'{{US Census population\\n', u' 1980=8890\\n', u' 1990=8294\\n', u' 2000=8318\\n', u' footnote=source:&lt;ref&gt;{{cite web\\n  ', u'url=http://www.census.gov/prod/www/abs/decennial/index.html\\n  ', u'title=CENSUS OF POPULATION AND HOUSING (1790-2000)\\n  ', u'publisher=[[U.S. Census Bureau]]\\n  ', u'accessdate=2010-07-31}}&lt;/ref&gt;\\n}}']\n",
      "[u'{{US Census population\\n', u' 1980=8890\\n', u' 1990=8294\\n', u' 2000=8318\\n', u' footnote=source:&lt;ref&gt;{{cite web\\n  ', u'url=http://www.census.gov/prod/www/abs/decennial/index.html\\n  ', u'title=CENSUS OF POPULATION AND HOUSING (1790-2000)\\n  ', u'publisher=[[U.S. Census Bureau]]\\n  ', u'accessdate=2010-07-31}}&lt;/ref&gt;\\n}}']\n",
      "[u'{{USCensusPop\\n', u' 1990=5847\\n', u' 2000=6599\\n', u' footnote=source: &lt;ref&gt;{{cite web\\n  ', u'url=http://www.census.gov/prod/www/abs/decennial/index.html\\n  ', u'title=CENSUS OF POPULATION AND HOUSING (1790-2000)\\n  ', u'publisher=[[U.S. Census Bureau]]\\n  ', u'accessdate=2010-07-17}}&lt;/ref&gt;\\n}}']\n",
      "[u'{{USCensusPop\\n', u' 1990=5847\\n', u' 2000=6599\\n', u' footnote=source: &lt;ref&gt;{{cite web\\n  ', u'url=http://www.census.gov/prod/www/abs/decennial/index.html\\n  ', u'title=CENSUS OF POPULATION AND HOUSING (1790-2000)\\n  ', u'publisher=[[U.S. Census Bureau]]\\n  ', u'accessdate=2010-07-17}}&lt;/ref&gt;\\n}}']\n",
      "[u'{{USCensusPop\\n', u'1860=957\\n', u'1870=2057\\n', u'1880=3104\\n', u'1890=1560 ', u' 1890n=*\\n', u'1900=1590 ', u' 1900n=*\\n', u'1910=4076\\n', u'footnote=* lost territory&lt;br/&gt;\\nHistorical census data source:&lt;ref&gt;[http://www.census.gov/prod/www/abs/decennial/ CENSUS OF POPULATION AND HOUSING 1790-2000], [[United States Census Bureau]]. Accessed July 18, 2008.&lt;/ref&gt;\\n}}']\n",
      "Using [[Township (New Jersey)|township]]\n",
      "[u'{{USCensusPop\\n', u'1860=957\\n', u'1870=2057\\n', u'1880=3104\\n', u'1890=1560 ', u' 1890n=*\\n', u'1900=1590 ', u' 1900n=*\\n', u'1910=4076\\n', u'footnote=* lost territory&lt;br/&gt;\\nHistorical census data source:&lt;ref&gt;[http://www.census.gov/prod/www/abs/decennial/ CENSUS OF POPULATION AND HOUSING 1790-2000], [[United States Census Bureau]]. Accessed July 18, 2008.&lt;/ref&gt;\\n}}']\n",
      "[u'{{US Census population\\n', u' 1870 = 81\\n', u' 1880 = 347\\n', u' 1890 = 1788\\n', u' 1900 = 2914\\n', u' 1910 = 4333\\n}}']\n",
      "[u'{{US Census population\\n', u' 1870 = 81\\n', u' 1880 = 347\\n', u' 1890 = 1788\\n', u' 1900 = 2914\\n', u' 1910 = 4333\\n}}']\n",
      "[u'{{US Census population\\n', u' 1990=1108\\n', u' 2000=1264\\n', u' footnote=source: 2000&lt;ref name=Census2000/&gt;\\n}}']\n",
      "[u'{{US Census population\\n', u' 1990=1108\\n', u' 2000=1264\\n', u' footnote=source: 2000&lt;ref name=Census2000/&gt;\\n}}']\n",
      "Using [[unorganized territory]]\n"
     ]
    },
    {
     "ename": "IndexError",
     "evalue": "list index out of range",
     "output_type": "error",
     "traceback": [
      "\u001b[0;31m\u001b[0m",
      "\u001b[0;31mIndexError\u001b[0mTraceback (most recent call last)",
      "\u001b[0;32m<ipython-input-1467-ee7c11f72871>\u001b[0m in \u001b[0;36m<module>\u001b[0;34m()\u001b[0m\n\u001b[1;32m     12\u001b[0m     \u001b[0mout\u001b[0m \u001b[0;34m=\u001b[0m \u001b[0;34m{\u001b[0m\u001b[0;34m\"title\"\u001b[0m\u001b[0;34m:\u001b[0m\u001b[0marticle\u001b[0m\u001b[0;34m.\u001b[0m\u001b[0mtitle\u001b[0m\u001b[0;34m,\u001b[0m\u001b[0;34m\"id\"\u001b[0m\u001b[0;34m:\u001b[0m\u001b[0marticle\u001b[0m\u001b[0;34m.\u001b[0m\u001b[0mid\u001b[0m\u001b[0;34m}\u001b[0m\u001b[0;34m\u001b[0m\u001b[0m\n\u001b[1;32m     13\u001b[0m     \u001b[0;32mtry\u001b[0m\u001b[0;34m:\u001b[0m\u001b[0;34m\u001b[0m\u001b[0m\n\u001b[0;32m---> 14\u001b[0;31m         \u001b[0mpops\u001b[0m \u001b[0;34m=\u001b[0m \u001b[0marticle\u001b[0m\u001b[0;34m.\u001b[0m\u001b[0mpops\u001b[0m\u001b[0;34m(\u001b[0m\u001b[0;34m)\u001b[0m\u001b[0;34m\u001b[0m\u001b[0m\n\u001b[0m\u001b[1;32m     15\u001b[0m     \u001b[0;32mexcept\u001b[0m \u001b[0mwikiparser\u001b[0m\u001b[0;34m.\u001b[0m\u001b[0mNoSuchAttribute\u001b[0m\u001b[0;34m:\u001b[0m\u001b[0;34m\u001b[0m\u001b[0m\n\u001b[1;32m     16\u001b[0m         \u001b[0;32mprint\u001b[0m \u001b[0;34m\"No pops for {}\"\u001b[0m\u001b[0;34m.\u001b[0m\u001b[0mformat\u001b[0m\u001b[0;34m(\u001b[0m\u001b[0marticle\u001b[0m\u001b[0;34m.\u001b[0m\u001b[0mtitle\u001b[0m\u001b[0;34m)\u001b[0m\u001b[0;34m\u001b[0m\u001b[0m\n",
      "\u001b[0;32m/home/bschmidt/Dropbox/Gannett/wikipedia_population/wikiparser.py\u001b[0m in \u001b[0;36mpops\u001b[0;34m(self)\u001b[0m\n\u001b[1;32m    408\u001b[0m \u001b[0;34m\u001b[0m\u001b[0m\n\u001b[1;32m    409\u001b[0m         \u001b[0;32mif\u001b[0m \u001b[0mhasattr\u001b[0m\u001b[0;34m(\u001b[0m\u001b[0mself\u001b[0m\u001b[0;34m,\u001b[0m\u001b[0;34m\"pop_cache\"\u001b[0m\u001b[0;34m)\u001b[0m\u001b[0;34m:\u001b[0m\u001b[0;34m\u001b[0m\u001b[0m\n\u001b[0;32m--> 410\u001b[0;31m             \u001b[0;32mif\u001b[0m \u001b[0mself\u001b[0m\u001b[0;34m.\u001b[0m\u001b[0mpop_cache\u001b[0m\u001b[0;34m[\u001b[0m\u001b[0;34m-\u001b[0m\u001b[0;36m1\u001b[0m\u001b[0;34m]\u001b[0m\u001b[0;34m[\u001b[0m\u001b[0;36m0\u001b[0m\u001b[0;34m]\u001b[0m \u001b[0;34m!=\u001b[0m \u001b[0;36m2010\u001b[0m\u001b[0;34m:\u001b[0m\u001b[0;34m\u001b[0m\u001b[0m\n\u001b[0m\u001b[1;32m    411\u001b[0m                 \u001b[0;32mpass\u001b[0m\u001b[0;34m\u001b[0m\u001b[0m\n\u001b[1;32m    412\u001b[0m             \u001b[0;32melse\u001b[0m\u001b[0;34m:\u001b[0m\u001b[0;34m\u001b[0m\u001b[0m\n",
      "\u001b[0;31mIndexError\u001b[0m: list index out of range"
     ]
    }
   ],
   "source": [
    "rows = []\n",
    "failures = []\n",
    "import numpy as np\n",
    "years = range(1790,2020,10)\n",
    "\n",
    "for i,article in enumerate(subset):\n",
    "    if article.country() not in [\"US\",\"USA\",\"United States\",\"United States of America\"]:\n",
    "        continue\n",
    "    if article.drop_from_title():\n",
    "        continue\n",
    "    out = {\"title\":article.title,\"id\":article.id}\n",
    "    try:\n",
    "        pops = article.pops()\n",
    "    except wikiparser.NoSuchAttribute:\n",
    "        print \"No pops for {}\".format(article.title)\n",
    "        failures.append(article)\n",
    "        continue\n",
    "    try:\n",
    "        out[\"state\"] = article.state()\n",
    "    except wikiparser.NoSuchAttribute:\n",
    "        if article.pops():\n",
    "            if article.pops()[-1][1] > 100000:\n",
    "                failures.append(article)\n",
    "    out[\"lat\"],out[\"lon\"] = article.coords()\n",
    "    out[\"settlement_type\"] = wikiparser.settle_type(article)\n",
    "    try:\n",
    "        out[\"poptype\"] = str(article.poptype)\n",
    "    except:\n",
    "        out[\"poptype\"] = \"Unknown\"\n",
    "    for year in years:\n",
    "        out['y' + str(year)] = 0\n",
    "    try:\n",
    "        for year,population in article.pops():\n",
    "            year = 'y' + str(year)\n",
    "            if year in out: # Only store for census years\n",
    "                if population == 0:\n",
    "                    population=np.nan\n",
    "                out[year] = population\n",
    "    except TypeError:\n",
    "        print \"No pops for {}\".format(article.title)\n",
    "        #failures.append(article)\n",
    "        continue\n",
    "    out[\"article_length\"] = len(article.text)\n",
    "    out[\"country\"] = article.country()\n",
    "    rows.append(out)"
   ]
  },
  {
   "cell_type": "code",
   "execution_count": 1466,
   "metadata": {
    "collapsed": false
   },
   "outputs": [
    {
     "data": {
      "text/plain": [
       "1589"
      ]
     },
     "execution_count": 1466,
     "metadata": {},
     "output_type": "execute_result"
    }
   ],
   "source": [
    "len(rows)"
   ]
  },
  {
   "cell_type": "markdown",
   "metadata": {},
   "source": [
    "Code used to debug settlement type. Fiddled with until I was getting > 99% extraction rate."
   ]
  },
  {
   "cell_type": "code",
   "execution_count": 1304,
   "metadata": {
    "collapsed": false,
    "deletable": true,
    "editable": true
   },
   "outputs": [
    {
     "name": "stdout",
     "output_type": "stream",
     "text": [
      "Using [[unorganized territory]]\n",
      "65\n",
      "Russell Gulch, Colorado\n",
      "[[Image:Russell Gulch school.jpg|thumb|Old School, Russell Gulch]]\n",
      "      <text xml:space=\"preserve\">[[Image:Russell Gulch school.jpg|thumb|Old School, Russell Gulch]]\n",
      "\n",
      "'''Russell Gulch, Colorado''', is a former mining town, now largely a [[ghost town]], in [[Gilpin County, Colorado]], United States.  Although the population was once much larger than today, and most of the larger commercial buildings stand empty, the town is not completely deserted.\n",
      "\n",
      "==History==\n",
      "{{US Census population\n",
      "| 1860=479\n",
      "\n"
     ]
    },
    {
     "ename": "TypeError",
     "evalue": "exceptions must be old-style classes or derived from BaseException, not NoneType",
     "output_type": "error",
     "traceback": [
      "\u001b[0;31m\u001b[0m",
      "\u001b[0;31mTypeError\u001b[0mTraceback (most recent call last)",
      "\u001b[0;32m<ipython-input-1304-bc1eca599b67>\u001b[0m in \u001b[0;36m<module>\u001b[0;34m()\u001b[0m\n\u001b[1;32m     12\u001b[0m         \u001b[0;32mprint\u001b[0m \u001b[0mf\u001b[0m\u001b[0;34m.\u001b[0m\u001b[0mtitle\u001b[0m\u001b[0;34m\u001b[0m\u001b[0m\n\u001b[1;32m     13\u001b[0m         \u001b[0;32mprint\u001b[0m \u001b[0mf\u001b[0m\u001b[0;34m.\u001b[0m\u001b[0mtext\u001b[0m\u001b[0;34m[\u001b[0m\u001b[0;34m:\u001b[0m\u001b[0;36m500\u001b[0m\u001b[0;34m]\u001b[0m\u001b[0;34m\u001b[0m\u001b[0m\n\u001b[0;32m---> 14\u001b[0;31m         \u001b[0;32mraise\u001b[0m\u001b[0;34m\u001b[0m\u001b[0m\n\u001b[0m\u001b[1;32m     15\u001b[0m \u001b[0;32mprint\u001b[0m  \u001b[0mj\u001b[0m\u001b[0;34m\u001b[0m\u001b[0m\n",
      "\u001b[0;31mTypeError\u001b[0m: exceptions must be old-style classes or derived from BaseException, not NoneType"
     ]
    }
   ],
   "source": [
    "for j in range(100):\n",
    "    f = random.sample(subset,1)[0]\n",
    "    if f.drop_from_title():\n",
    "        continue\n",
    "    #print f.text[:500]\n",
    "    for i in range(10):\n",
    "        if f.country() != \"US\":\n",
    "            f = random.sample(subset,1)[0]\n",
    "    _ = wikiparser.settle_type(f)\n",
    "    if _ == \"Unknown\":\n",
    "        print j\n",
    "        print f.title\n",
    "        print f.text[:500]\n",
    "        raise\n",
    "print  j"
   ]
  },
  {
   "cell_type": "code",
   "execution_count": 1430,
   "metadata": {
    "collapsed": false
   },
   "outputs": [
    {
     "name": "stdout",
     "output_type": "stream",
     "text": [
      "\"Vint Hill Farms Station\":\"\",\n",
      "\"Washington County, D.C.\":\"\",\n",
      "\"Albany, Decatur\":\"\",\n",
      "\"University of Oregon\":\"\",\n",
      "\"Fort Lewis\":\"\",\n",
      "\"Shekhan District\":\"\",\n",
      "\"Redstone Arsenal\":\"\",\n",
      "\"New Jersey in the 19th century\":\"\",\n",
      "\"Allegany Indian Reservation\":\"\",\n",
      "\"Bismarck–Mandan\":\"\",\n",
      "\"Nellis Air Force Base\":\"\",\n",
      "\"Wikipedia:Village pump (miscellaneous)/Archive 7\":\"\",\n",
      "\"Louds Island\":\"\",\n",
      "AT}}, \n",
      "***:AT}}, {{convert|670|m|ft|0|abbr=***\n",
      "\"Laredo–Nuevo Laredo\":\"\",\n",
      "\"Fort Rucker\":\"\",\n",
      "\"Research Triangle\":\"\",\n",
      "\"Greater Austin\":\"\",\n",
      "\"Fort Leonard Wood\":\"\",\n",
      "\"Hispanics and Latinos in Massachusetts\":\"\",\n",
      "\"Manhattan Community Board 1\":\"\",\n",
      "\"San Diego–Tijuana\":\"\",\n",
      "\"Russian language in the United States\":\"\",\n",
      "\"Manhattan Community Board 3\":\"\",\n",
      "\"Greater San Antonio\":\"\",\n",
      "\"United States\":\"\",\n",
      "\"Joint Base Andrews\":\"\",\n",
      "\"Greater Grand Forks\":\"\",\n",
      "\"New Jersey in the 20th century\":\"\",\n",
      "\"Tribeca\":\"\",\n",
      "\"St. Regis Mohawk Reservation\":\"\",\n",
      "\"Idaho Panhandle\":\"\",\n",
      "\"Tuscarora Reservation\":\"\",\n",
      "\"Ensley (Birmingham)\":\"\",\n",
      "\"Johnstown Inclined Plane\":\"\",\n",
      "\"Camden County High School (Georgia)\":\"\",\n",
      "\"K. I. Sawyer Air Force Base\":\"\",\n",
      "\"Mountain Home Air Force Base\":\"\",\n",
      "\"Pee Dee\":\"\",\n",
      "\"Fort McClellan\":\"\",\n",
      "\"Adams Morgan\":\"\",\n",
      "\"Fairchild Air Force Base\":\"\",\n",
      "\"Bryan–College Station\":\"\",\n",
      "\"Roar on the Shore\":\"\",\n",
      "\"McGuire Air Force Base\":\"\",\n",
      "\"Grosse Pointe\":\"\",\n",
      "\"Craig Air Force Base\":\"\",\n",
      "NO}}\n",
      "{\n",
      "***:NO}}\n",
      "{{SognFjordane-geo-stub}}\n",
      "[***\n",
      "\"Ellsworth Air Force Base\":\"\",\n",
      "\"Kentucky State University\":\"\",\n",
      "\"McChord Field\":\"\",\n",
      "\"Greater Boston\":\"\",\n",
      "\"Calumet Region\":\"\",\n",
      "\"Andrews Field\":\"\",\n",
      "\"Minot Air Force Base\":\"\",\n",
      "\"Fargo–Moorhead\":\"\",\n",
      "\"Wikipedia:WikiProject Iowa/Communities/Priorities\":\"\",\n",
      "\"Long Island Sound\":\"\",\n",
      "\"Tyndall Air Force Base\":\"\",\n",
      "es|dis\n",
      "***:es|display=inline,title}}\n",
      "| elev***\n"
     ]
    }
   ],
   "source": [
    "for f in subset:\n",
    "    if f.drop_from_title():\n",
    "        continue\n",
    "    if f.country() != \"US\":\n",
    "        continue\n",
    "    try:\n",
    "        _ = f.state()\n",
    "    except wikiparser.NoSuchAttribute:\n",
    "        p = f.pops()\n",
    "        try:\n",
    "            if p[-1][1] < 1000: \n",
    "                continue\n",
    "        except:\n",
    "            pass\n",
    "        print '\"{}\":\"\",'.format(f.title)\n",
    "        #print f.text[:2500]\n"
   ]
  },
  {
   "cell_type": "code",
   "execution_count": 1460,
   "metadata": {
    "collapsed": false,
    "deletable": true,
    "editable": true
   },
   "outputs": [],
   "source": [
    "# A list of state names\n",
    "import provinces\n",
    "import pandas as pd\n",
    "\n",
    "\n",
    "\n",
    "frame = pd.DataFrame(rows)\n",
    "from ggplot import *\n",
    "if not os.path.exists(\"wikipedia_state_data\"):\n",
    "    os.makedirs(\"wikipedia_state_data\")\n",
    "for k,v in provinces.us_states.iteritems():\n",
    "    frame[frame.state==v].to_csv(\"wikipedia_state_data/{}.csv.gz\".format(v))\n",
    "\n",
    "frame.to_csv(\"/home/bschmidt/9943478/wiki3.csv\")"
   ]
  },
  {
   "cell_type": "code",
   "execution_count": null,
   "metadata": {
    "collapsed": false,
    "deletable": true,
    "editable": true
   },
   "outputs": [],
   "source": [
    "#frame = frame[frame.poptype==\"USA\" ]"
   ]
  },
  {
   "cell_type": "code",
   "execution_count": 1302,
   "metadata": {
    "collapsed": false,
    "deletable": true,
    "editable": true
   },
   "outputs": [
    {
     "data": {
      "image/png": "[encoded data removed]",
      "text/plain": [
       "<matplotlib.figure.Figure at 0x7fca33c27410>"
      ]
     },
     "metadata": {},
     "output_type": "display_data"
    },
    {
     "data": {
      "text/plain": [
       "<ggplot: (8781651781389)>"
      ]
     },
     "execution_count": 1302,
     "metadata": {},
     "output_type": "execute_result"
    }
   ],
   "source": [
    "ggplot(frame[frame.lon < -25],aes(x=\"lon\",y=\"lat\",color=\"state\")) + geom_point() + ylim(20,60) + xlim(-140,-60)"
   ]
  },
  {
   "cell_type": "code",
   "execution_count": 1364,
   "metadata": {
    "collapsed": false,
    "deletable": true,
    "editable": true
   },
   "outputs": [],
   "source": [
    "# More I hate Pandas. Flip to the ggplotvis notebook.\n",
    "#frame[frame.lon < -25]\n",
    "#ggplot(smaller,aes(x=\"lon\",y=\"lat\",color=\"settlement_type\")) + geom_point() + ylim(20,60) + xlim(-140,-60)"
   ]
  },
  {
   "cell_type": "code",
   "execution_count": null,
   "metadata": {
    "collapsed": true
   },
   "outputs": [],
   "source": [
    "ggplot(frame[frame.lon < -25],aes(x=\"lon\",y=\"lat\",color=\"poptype\")) + geom_point() + ylim(20,60) + xlim(-140,-60)"
   ]
  },
  {
   "cell_type": "code",
   "execution_count": 1438,
   "metadata": {
    "collapsed": false,
    "deletable": true,
    "editable": true
   },
   "outputs": [],
   "source": [
    "import pandas as pd\n",
    "frame = pd.DataFrame(rows)\n",
    "frame.to_csv(\"/home/bschmidt/9943478/wiki3.csv\")"
   ]
  },
  {
   "cell_type": "markdown",
   "metadata": {
    "deletable": true,
    "editable": true
   },
   "source": [
    "Matching on values"
   ]
  },
  {
   "cell_type": "code",
   "execution_count": 211,
   "metadata": {
    "collapsed": false,
    "deletable": true,
    "editable": true
   },
   "outputs": [],
   "source": [
    "import numpy as np\n",
    "array = np.array(frame[[\"y\" + str(y) for y in years]],np.float64)\n",
    "array[array==0] = np.nan"
   ]
  },
  {
   "cell_type": "code",
   "execution_count": 279,
   "metadata": {
    "collapsed": false,
    "deletable": true,
    "editable": true
   },
   "outputs": [
    {
     "name": "stdout",
     "output_type": "stream",
     "text": [
      "0\n",
      "5000\n",
      "10000\n",
      "15000\n",
      "20000\n",
      "25000\n"
     ]
    }
   ],
   "source": [
    "all_matches = []\n",
    "\n",
    "for i in range(len(array)):\n",
    "    p = array[i:-1]==array[i+1:]\n",
    "    matches = np.where(np.sum(p,axis=1)>2)\n",
    "    if len(matches[0]) > 0:\n",
    "        print i\n",
    "        all_matches.append((i,matches))\n",
    "    if i % 5000 == 0:\n",
    "        print i\n",
    "                       \n",
    "                       \n"
   ]
  },
  {
   "cell_type": "code",
   "execution_count": 682,
   "metadata": {
    "collapsed": false,
    "deletable": true,
    "editable": true
   },
   "outputs": [
    {
     "data": {
      "text/plain": [
       "[(0, [25763]), (1, [19541]), (2, [16489]), (3, [3671])]"
      ]
     },
     "execution_count": 682,
     "metadata": {},
     "output_type": "execute_result"
    }
   ],
   "source": [
    "c1 = pd.read_csv(\"wiki_census/MEPlaces.csv\")\n",
    "c1[\"2010\"] = pd.to_numeric(c1[\"2010\"],np.float64)\n",
    "maine = np.array(c1[[str(y) for y in years]])\n",
    "\n",
    "# (202) 224-3121\n",
    "\n",
    "def match_row(a,b,i,min=3):\n",
    "    l = np.where(np.sum(a == b[i],axis=1)>min)[0]\n",
    "    if len(l) > 0:\n",
    "        return list(l)\n",
    "    \n",
    "def match_matrices(a,b,min=3):\n",
    "    matches = []\n",
    "    for i in range(len(b)):\n",
    "        row_matches = match_row(a,b,i,min=min)\n",
    "        matches.append((i,row_matches))\n",
    "    return matches\n",
    "fah = match_matrices(array,maine)\n",
    "fah[:4]"
   ]
  },
  {
   "cell_type": "code",
   "execution_count": 664,
   "metadata": {
    "collapsed": false,
    "deletable": true,
    "editable": true
   },
   "outputs": [],
   "source": [
    "CESTA = pd.read_csv(\"../MiscData/CESTACityData.csv\")\n",
    "CESTA[\"2010\"] = pd.to_numeric(CESTA[\"2010\"],np.float64)\n",
    "c_mat = np.array(CESTA[[str(y) for y in years]])\n",
    "#c_mat[c_mat < 2500] = np.nan\n",
    "c_mat[c_mat==0] = np.nan\n"
   ]
  },
  {
   "cell_type": "code",
   "execution_count": 493,
   "metadata": {
    "collapsed": false,
    "deletable": true,
    "editable": true
   },
   "outputs": [],
   "source": [
    "altered_array = array.clip(2500)\n",
    "\n",
    "cesta_crosswalk = match_matrices(array,c_mat)"
   ]
  },
  {
   "cell_type": "code",
   "execution_count": 494,
   "metadata": {
    "collapsed": false,
    "deletable": true,
    "editable": true
   },
   "outputs": [
    {
     "name": "stdout",
     "output_type": "stream",
     "text": [
      "1 12 Petersburg, AK 2821, 3207, 3224, 2948\n",
      "2 18 Valdez, AK 3079, 4068, 4036, 3976\n",
      "3 47 Center Point, AL 9500, 15700, 15700, 22700, 22800, 16921\n",
      "4 148 Roosevelt, AL 3663, 3352\n",
      "5 156 Southside, AL 4848, 5580, 7036, 8412\n",
      "6 290 West Helena, AR 6226, 4489, 4717, 6107, 8385, 11007, 11367, 10137, 8689\n",
      "7 294 Apache Junction, AZ 9935, 18100, 31814, 35840\n",
      "8 326 Kearny, AZ 2829, 2646\n",
      "9 337 Paradise Valley, AZ 7155, 11085, 11671, 13664, 12820\n",
      "10 356 Somerton, AZ 5761, 5282, 7266, 14287\n",
      "11 373 Agoura Hills, CA 11399, 20390, 20537, 20330\n",
      "12 462 Cotati, CA 3475, 5714, 6471, 7265\n",
      "13 471 Danville, CA 3585, 26446, 31306, 41715, 42039\n",
      "14 479 Dos Palos, CA 3123, 4196, 4581, 4950\n",
      "15 486 El Centro, CA 5464, 8434, 10017, 12590, 16811, 19272, 23996, 31384, 37835, 42598\n",
      "16 518 Goleta, CA 5000, 8000, 25600, 28600, 55200, 29888\n",
      "17 551 Irvine, CA 4000, 7000, 62134, 110330, 143072, 212375\n",
      "18 567 Laguna Hills, CA 13676, 33600, 46731, 31178, 30344\n",
      "19 625 Moreno Valley, CA 28120, 118779, 142381, 193365\n",
      "20 683 Rancho Cordova, CA 30500, 39000, 48700, 55100, 64776\n",
      "21 736 Santa Clarita, CA 66730, 110642, 151088, 176320\n",
      "22 774 Temecula, CA 4300, 27099, 57716, 100097\n",
      "23 783 Tustin, CA 21099, 32256, 50689, 67504, 75540\n",
      "24 806 Westlake Village, CA 6138, 7455, 8368, 8270\n",
      "25 821 Yountville, CA 2893, 3259, 3297, 2933\n",
      "26 865 Federal Heights, CO 7846, 9342, 12065, 11467\n",
      "27 939 Colchester, CT 3529, 3190, 3212\n",
      "28 944 East Hartford, CT 17125, 18615, 29900, 44000, 57600, 52600, 50500, 49600\n",
      "29 945 Greenwich, CT 3886, 5939, 5981, 28100, 40800, 53800, 59800, 59600, 58400, 61100\n",
      "30 946 Groton, CT 4236, 4122, 4719, 7036, 10111, 8933, 10086, 9837, 10010, 10389\n",
      "31 951 Milford, CT 5000, 26900, 41662, 50858, 49101, 48168, 50594, 51271\n",
      "32 958 Putnam, CT 6667, 6637, 7711, 7318, 7775, 8181, 6952, 6918, 6855\n",
      "33 965 Stratford, CT 19212, 22580, 33400, 45000, 49800, 50500, 49400, 50000\n",
      "34 967 Wallingford, CT 3017, 4230, 6737, 8690, 9648, 11170, 11425, 11900, 29900, 35700, 37300, 40800, 43000\n",
      "35 969 West Hartford, CT 24941, 33776, 44400, 62400, 68000, 61300, 60100, 63600\n",
      "36 1051 Deltona, FL 4900, 49400, 69543, 85182\n",
      "37 1052 Destin, FL 3672, 8080, 11119, 12305\n",
      "38 1076 Greenacres, FL 8843, 18683, 27569, 37573\n",
      "39 1155 Mount Dora, FL 3028, 3756, 4543, 5883, 7196, 9418, 12370\n",
      "40 1157 Naples, FL 4655, 12042, 17581, 19505, 20976, 19537\n",
      "41 1396 Louisville, GA 2691, 2823, 2712\n",
      "42 1427 Pooler, GA 2543, 4453, 6239, 19140\n",
      "43 1489 Aiea, HI 3021, 3553, 3714, 11826, 12560, 32879, 8906, 9019, 9338\n",
      "44 1492 Ewa Beach, HI 4600, 7765, 14369, 14315, 14650, 14955\n",
      "45 1500 Hanamaulu, HI 3227, 3611, 3272, 3835\n",
      "46 1502 Hauula, HI 2997, 3479, 3651, 4148\n",
      "47 1507 Heeia, HI 5432, 5010, 4944, 4963\n",
      "48 1508 Hickam Housing, HI 7352, 4425, 6553, 5471, 6920\n",
      "49 1514 Kahaluu, HI 2925, 3068, 2935, 4738\n",
      "50 1517 Kahului, HI 6396, 4223, 8280, 12978, 16889, 20146, 26337\n",
      "51 1518 Kailua, HI 4751, 9126, 9870, 11975\n",
      "52 1519 Kailua, HI 7715, 25622, 33783, 35812, 36818, 36513, 38635\n",
      "53 1520 Kalaheo, HI 2500, 3592, 3913, 4595\n",
      "54 1522 Kaneohe, HI 14414, 29903, 29919, 35448, 34970, 34597\n",
      "55 1524 Kapaa, HI 2818, 2828, 3177, 3439, 3794, 4467, 8149, 9472, 10699\n",
      "56 1528 Kekaha, HI 2536, 3260, 3506, 3175, 3537\n",
      "57 1529 Kihei, HI 5644, 11107, 16749, 20881\n",
      "58 1532 Lahaina, HI 2730, 5217, 4025, 3423, 3718, 6095, 9073, 9118, 11704\n",
      "59 1533 Laie, HI 3009, 4643, 5577, 4585, 6138\n",
      "60 1535 Lihue, HI 4254, 3870, 3908, 3124, 4000, 5536, 5674, 6455\n",
      "61 1536 Maili, HI 5045, 4397, 5026, 6059, 5943, 9488\n",
      "62 1537 Makaha, HI 4644, 6582, 7990, 7753, 8278\n",
      "63 1538 Makakilo, HI 3499, 7691, 9828, 13156, 18248\n",
      "64 1539 Makawao, HI 2900, 5405, 6327, 7184\n",
      "65 1540 Maunawili, HI 5303, 5239, 4847, 4869\n",
      "66 1542 Mililani Town, HI 21365, 29359, 28608, 27629\n",
      "67 1543 Mokapu, HI 7860, 11615\n",
      "68 1545 Nanakuli, HI 2700, 6506, 8185, 9575, 10814, 12666\n",
      "69 1554 Pukalani, HI 3950, 5879, 7380, 7574\n",
      "70 1558 Schofield Barracks, HI 13516, 18851, 19597, 14428, 16370\n",
      "71 1562 Waialua, HI 4511, 2512, 2602, 2689, 4047, 4051, 3943, 3761, 3860\n",
      "72 1563 Waianae, HI 6844, 3302, 7941, 8758, 10506, 13177\n",
      "73 1565 Waihiawa, HI 3370, 5420, 8369, 15512, 17598, 16911, 17386, 16151, 17821\n",
      "74 1571 Wailuku, HI 4100, 6998, 7319, 7424, 6969, 7979, 10260, 10688, 12296, 15313\n",
      "75 1573 Waimanalo, HI 3011, 3562, 3508, 3664, 5451\n",
      "76 1574 Waimanalo Beach, HI 3045, 4161, 4185, 4271, 4481\n",
      "77 1576 Waipahu, HI 5874, 6906, 7189, 22798, 29139, 31435, 33108, 38216\n",
      "78 1578 Waipio Acres, HI 4091, 5304, 5298, 5236\n",
      "79 1584 Altoona, IA 2854, 5764, 7191, 10345, 14541\n",
      "80 1652 Johnston, IA 2617, 4702, 8649, 17278\n",
      "81 1656 Lamoni, IA 2540, 2705\n",
      "82 1772 Saint Maries, ID 2571, 2794, 2652\n",
      "83 1832 Burr Ridge, IL 3833, 7669, 10408, 10559\n",
      "84 1856 Channahon, IL 3734, 4266, 7344, 12560\n",
      "85 1876 Countryside, IL 2888, 6538, 5716, 5991, 5895\n",
      "86 1898 East Chicago Heights, IL 3270, 5000, 5347\n",
      "87 1905 El Paso, IL 2676, 2695, 2810\n",
      "88 2044 Mason City, IL 2611, 2719, 2558\n",
      "89 2060 Moline, IL 4166, 7800, 12000, 17248, 24199, 30734, 32236, 34608, 37397, 42705, 46237, 46407, 43202, 43768, 43483\n",
      "90 2098 Oak Brook, IL 4118, 6641, 9178, 8702, 7883\n",
      "91 2120 Pawnee, IL 2577, 2647, 2739\n",
      "92 2161 Round Lake, IL 2644, 3550, 5842, 18289\n",
      "93 2172 Schaumburg, IL 18531, 53355, 68586, 75386, 74227\n",
      "94 2213 Trenton, IL 2504, 2610, 2715\n",
      "95 2264 Albany, IN 2625\n",
      "96 2310 De Motte, IN 2559, 3234, 3814\n",
      "97 2325 Fort Branch, IN 2535, 2504\n",
      "98 2362 Lake Station, IN 14294, 13899, 13948, 12572\n",
      "99 2380 Middletown, IN 2978\n",
      "100 2392 New Chicago, IN 3284\n",
      "101 2411 Princeton, IN 2566, 3076, 6041, 6448, 7132, 7505, 7786, 7673, 7906, 7431, 8976, 8127, 8175, 8644\n",
      "102 2435 Trail Creek, IN 2697, 2581\n",
      "103 2448 Westville, IN 2614, 2887, 5255\n",
      "104 2492 Ellinwood, KS 2569, 2729, 2508\n",
      "105 2496 Eudora, KS 2934, 3006, 4307, 6136\n",
      "106 2558 Park City, KS 2687, 3778, 5050, 5814, 7297\n",
      "107 2647 Hillview, KY 5196, 6119, 7037, 8172\n",
      "108 2654 Jackson, KY 2651\n",
      "109 2687 Olive Hill, KY 2539\n",
      "110 2716 Tompkinsville, KY 4366, 2861, 2660\n",
      "111 2719 Villa Hills, KY 4402, 7739, 7948, 7489\n",
      "112 2775 Jefferson, LA 5107, 19400, 16500, 16500, 14500, 11800\n",
      "113 2776 Jena, LA 4332, 2626, 2971, 3398\n",
      "114 3023 Riverdale, MD 5724, 4748, 5185\n",
      "115 3044 Brunswick, ME 5210, 5341, 5784, 6144, 7003, 9400, 16200, 13900, 14700, 14800\n",
      "116 3092 Carleton, MI 2786, 2770, 2562\n",
      "117 3130 Farmington Hills, MI 58056, 74652, 82111, 79740\n",
      "118 3264 Southfield, MI 31501, 69285, 75568, 75728, 78296, 71739\n",
      "119 3277 Swartz Creek, MI 3006, 4928, 5013, 4851, 5102, 5758\n",
      "120 3411 Lino Lakes, MN 3692, 4966, 8807, 16791, 20216\n",
      "121 3498 South International Falls, MN 2624, 2806\n",
      "122 3548 Black Jack, MO 5293, 6128, 6792, 6929\n",
      "123 3607 Flat River, MO 5401, 5308, 4515, 4550, 4443, 4823\n",
      "124 3630 Holts Summit, MO 2540, 2935, 3247\n",
      "125 3636 Kansas City, MO 4418, 32260, 55785, 132716, 163752, 248381, 324410, 399746, 399178, 456622, 475539, 507330, 448028, 435146, 441545, 459787\n",
      "126 3708 Riverside, MO 3206, 3010, 2979, 2937\n",
      "127 3785 D'Iberville, MS 13369, 6566, 7608, 9486\n",
      "128 3786 Drew, MS 2574, 2528\n",
      "129 3806 Itta Bena, MS 2904\n",
      "130 3821 Mendenhall, MS 2533, 2555, 2504\n",
      "131 3826 Mound Bayou, MS 2917\n",
      "132 3836 Pearl, MS 5081, 9600, 18580, 19588, 21961, 25092\n",
      "133 3843 Quitman, MS 2702, 2632, 2736\n",
      "134 3847 Rolling Fork, MS 2590\n",
      "135 3848 Rosedale, MS 2599, 2793, 2595\n",
      "136 3854 Southaven, MS 8900, 16071, 17949, 28977, 48982\n",
      "137 3879 Forsyth, MT 2553\n",
      "138 3894 Polson, MT 2798, 3283, 4041, 4488\n",
      "139 3907 Archdale, NC 6103, 5745, 6913, 9014, 11415\n",
      "140 3929 Carrboro, NC 3472, 7336, 11553, 16782, 19582\n",
      "141 3936 Clemmons, NC 7401, 6020, 13827, 18627\n",
      "142 3992 Kannapolis, NC 25000, 28400, 34647, 36293, 35564, 29696, 36910, 42625\n",
      "143 3995 King, NC 8757, 4059, 5952, 6904\n",
      "144 4020 Maxton, NC 2711, 2551\n",
      "145 4038 Nashville, NC 2678, 3617, 4309, 5352\n",
      "146 4047 Pinehurst, NC 3421, 5103, 9706, 13124\n",
      "147 4092 Tabor City, NC 2710, 2509, 2511\n",
      "148 4126 Wrightsville Beach, NC 2910, 2937, 2593\n",
      "149 4132 Carrington, ND 2641\n",
      "150 4138 Harvey, ND 2527\n",
      "151 4189 Ord, NE 2658\n",
      "152 4236 Belleville, NJ 15660, 26974, 28167, 35000, 37600, 35400, 34200, 35900\n",
      "153 4401 Ogdensburg, NJ 2737, 2722, 2638\n",
      "154 4450 Sea Isle City, NJ 2644, 2692, 2835\n",
      "155 4527 Espanola, NM 4528, 6803, 8389, 9688, 10224\n",
      "156 4534 Jal, NM 3051, 2602, 2675\n",
      "157 4540 Los Ranchos De Albuquerque, NM 2702, 3955, 5092, 6024\n",
      "158 4542 Milan, NM 2658, 3747, 3245\n",
      "159 4546 Rio Rancho, NM 9985, 32505, 51765, 87521\n",
      "160 4564 Fallon, NV 2734, 2959, 4262, 6438, 7536, 8606\n",
      "161 4667 Glenham, NY 2832\n",
      "162 4696 Irondequoit, NY 18024, 23376, 34000, 63700, 59500, 57600, 52300, 52400\n",
      "163 4698 Island Park, NY 3846, 5396, 4847, 4860, 4732, 4655\n",
      "164 4823 Seneca Falls, NY 5890, 5880, 6116, 6519, 6588, 6389, 6443, 6452, 6634, 7439, 7794, 7466, 7370, 6861, 6681\n",
      "165 4922 Buckeye Lake, OH 2521, 2986, 3049, 2746\n",
      "166 4951 Coldwater, OH 2766, 3533, 4220, 4335, 4482, 4427\n",
      "167 4981 Enon, OH 2597, 2605, 2638\n",
      "168 4991 Fort Shawnee, OH 3436, 4541, 4128, 3855, 3726\n",
      "169 5026 Huber Heights, OH 18900, 35480, 38696, 38212, 38101\n",
      "170 5056 Loveland, OH 7144, 9106, 10122, 11677, 12081\n",
      "171 5330 Jenks, OK 5876, 7493, 9557, 16924\n",
      "172 5344 Mcloud, OK 4061, 3548, 4044\n",
      "173 5436 Eagle Point, OR 2764, 3008, 4797, 8469\n",
      "174 5455 Junction City, OR 3320, 3670, 4721, 5392\n",
      "175 5456 Keizer, OR 5288, 11400, 18592, 21884, 32203, 36478\n",
      "176 5470 Molalla, OR 2992, 3651, 5647, 8108\n",
      "177 5483 Philomath, OR 2673, 2983, 3838, 4584\n",
      "178 5506 Tigard, OR 5302, 14799, 29344, 41223, 48035\n",
      "179 5509 Troutdale, OR 5908, 7852, 13777, 15962\n",
      "180 5608 Coopersburg, PA 2595, 2599, 2582\n",
      "181 5789 Mount Lebanon, PA 13403, 19571, 34400, 33000\n",
      "182 5808 New Britain, PA 2519, 3125, 3152\n",
      "183 6002 West Warwick, RI 15461, 17696, 18188, 10100, 21400, 24300, 27000, 29300, 29600\n",
      "184 6017 Blackville, SC 2840, 2688, 2973\n",
      "185 6048 Great Falls, SC 3030, 2727, 2601\n",
      "186 6056 Hilton Head Island, SC 11344, 23694, 33862, 37099\n",
      "187 6061 Johnston, SC 2552, 2624, 2688\n",
      "188 6074 Moncks Corner, SC 3699, 5607, 5952, 7885\n",
      "189 6078 New Ellenton, SC 2546, 2628, 2515\n",
      "190 6095 Springdale, SC 2638, 2570, 2877, 2636\n",
      "191 6096 Springdale, SC 2985, 3226\n",
      "192 6100 Tega Cay, SC 2521, 3016, 4044, 7620\n",
      "193 6117 Brandon, SD 2589, 3543, 5693, 8785\n",
      "194 6378 Cedar Park, TX 3474, 5161, 26049, 48937\n",
      "195 6402 Converse, TX 4907, 8887, 11508, 18198\n",
      "196 6478 Frisco, TX 3499, 6141, 33714, 116989\n",
      "197 6485 George West, TX 2627, 2586, 2524\n",
      "198 6541 Hutchins, TX 2837, 2719, 2805, 5338\n",
      "199 6567 Kirby, TX 2558, 6385, 8326, 8673, 8000\n",
      "200 6589 Leon Valley, TX 8951, 9581, 9239, 10151\n",
      "201 6656 Oak Ridge North, TX 2504, 2991, 3049\n",
      "202 6700 Princeton, TX 3408, 3477, 6807\n",
      "203 6848 Cottonwood Heights, UT 8400, 30600, 28800, 27600, 33433\n",
      "204 6866 Holladay, UT 5000, 23000, 28700, 14100, 14561, 26472\n",
      "205 6925 Taylorsville, UT 4500, 9200, 51600, 57439, 58652\n",
      "206 6936 West Valley City, UT 72378, 86976, 108896, 129480\n",
      "207 6961 Coeburn, VA 2625\n",
      "208 6994 Narrows, VA 2520, 2508, 2516\n",
      "209 7040 Brattleboro, VT 4471, 5467, 5297, 6517, 7324, 8709, 9622, 11700, 12200, 11900, 12200, 12000\n",
      "210 7054 Swanton, VT 2630, 2520, 2548\n",
      "211 7077 Burien, WA 10000, 15000, 14300, 27500, 31881, 33313\n",
      "212 7111 Federal Way, WA 7000, 18500, 17900, 67500, 83259, 89306\n",
      "213 7134 Lakewood, WA 20000, 48200, 51400, 55900, 58211, 58163\n",
      "214 7219 Allouez, WI 13753, 14882, 14431, 15443, 13975\n",
      "215 7331 Mondovi, WI 2545, 2634, 2777\n",
      "216 7337 Mukwonago, WI 4014, 4457, 6162, 7355\n",
      "217 7442 Bethlehem, WV 2677, 2694, 2651\n",
      "218 7505 Evansville, WY 2652, 2544\n",
      "219 7507 Glenrock, WY 2736, 2576\n",
      "220 7634 College, AK 3000, 3000\n",
      "221 7647 Sun City, AZ 13700, 39200, 38100, 38300\n",
      "222 7649 Arden-Arcade, CA 91200, 92000, 96000\n",
      "223 7650 Castro Valley, CA 37100, 44800, 42000, 48600, 57300\n",
      "224 7651 East Los Angeles, CA 105000, 100800, 126400, 124300\n",
      "225 7652 Florence-Graham, CA 34400, 24600, 57100, 60200\n",
      "226 7653 Hacienda Heights, CA 36000, 43000, 52400, 53100\n",
      "227 7654 South Whittier, CA 46600, 45800, 49500, 55200\n",
      "228 7663 East Haven, CT 21400, 25100, 25000, 26100, 28200\n",
      "229 7665 Fairfield, CT 17500, 30500, 46200, 56500, 54800, 53400, 57300\n",
      "230 7669 Hamden, CT 21600, 29700, 41100, 49400, 51100, 52400, 56900\n",
      "231 7670 Manchester, CT 10600, 13600, 21200, 34100, 42100, 48000, 49800, 51600, 54700\n",
      "232 7673 Newington, CT 17700, 26000, 28800, 29200, 29300\n",
      "233 7675 North Haven, CT 15900, 22200, 22100, 22200, 23000\n",
      "234 7679 Trumbull, CT 5300, 20400, 31400, 33000, 32000, 34200\n",
      "235 7680 Vernon, CT 9000, 10100, 17000, 27200, 28000, 29800, 28100\n",
      "236 7682 Westport, CT 11600, 21000, 27400, 25300, 24400, 25700\n",
      "237 7683 Wethersfield, CT 8000, 12500, 20600, 26700, 26000, 25700, 26300\n",
      "238 7704 Kailua (Honolulu), HI 25600, 33700, 39700, 36800, 36500\n",
      "239 7713 Okolona, KY 17600, 23800, 18900, 17800\n",
      "240 7714 Pleasure Ridge Park, KY 10600, 28600, 24300, 25100, 25800\n",
      "241 7721 Harvey, LA 6300, 13400, 21200, 22200\n",
      "242 7723 Luling, LA 4300, 2800, 11500\n",
      "243 7724 Marrero, LA 21000, 29000, 47300, 36700, 36200\n",
      "244 7727 Metairie, LA 80000, 136500, 172200, 149400, 146100\n",
      "245 7729 Raceland, LA 4900, 5600, 10200\n",
      "246 7730 River Ridge, LA 15700, 14800, 14600\n",
      "247 7741 Bethesda, MD 19000, 56500, 71600, 78300, 62900, 55300\n",
      "248 7742 Catonsville, MD 13600, 37400, 54800, 47700, 35200, 39800\n",
      "249 7744 Columbia, MD 8800, 56100, 75900, 88300\n",
      "250 7745 Dundalk, MD 82400, 85400, 89500, 65800, 62300\n",
      "251 7747 Essex, MD 5000, 35200, 38200, 43700, 40900, 39100\n",
      "252 7749 Glen Burnie, MD 21500, 38600, 42400, 37300, 38900\n",
      "253 7754 Parkville, MD 27200, 33600, 37400, 31600, 31100\n",
      "254 7758 Silver Spring, MD 12400, 66300, 77400, 84300, 76000, 76500\n",
      "255 7761 Towson, MD 10600, 19100, 77800, 84500, 49400, 51800\n",
      "256 7762 Wheaton-Glenmont, MD 54600, 66300, 73800, 53700, 57700\n",
      "257 7768 Sanford, ME 4200, 10800, 15200, 10900, 10500, 10500, 10300, 10100\n",
      "258 7777 Okemos, MI 7800, 10000, 20200, 22800\n",
      "259 7779 Redford, MI 48200, 54400, 51600\n",
      "260 7782 Waterford Township, MI 8000, 10000, 66700, 73200\n",
      "261 7784 Affton, MO 34000, 24300, 27500, 21100, 20500\n",
      "262 7806 Lakewood, NJ 6700, 13000, 17900, 25200, 26100, 36100\n",
      "263 7816 Woodbridge Township, NJ 8600, 78800, 98900, 14200, 17400, 18300\n",
      "264 7817 Los Alamos, NM 9900, 12600, 11300, 17100, 11500, 11900\n",
      "265 7823 Paradise, NV 24500, 43500, 124700, 186100\n",
      "266 7828 Winchester, NV 14000, 20000, 23400, 27000\n",
      "267 7829 Brentwood, NY 15400, 28300, 48800, 45200, 53900\n",
      "268 7830 Brighton, NY 35800, 34500, 35600\n",
      "269 7831 Central Islip, NY 15000, 36400, 26000, 26000, 32000\n",
      "270 7832 Cheektowaga, NY 11100, 45400, 54500, 89000, 113800, 84400, 80000\n",
      "271 7833 Commack, NY 9600, 24100, 24300, 36100, 36400\n",
      "272 7834 Coram, NY 2600, 5400, 30100, 34900\n",
      "273 7835 East Meadow, NY 46000, 46300, 47300, 36900, 37500\n",
      "274 7836 Elmont, NY 30100, 29400, 30000, 28600, 32700\n",
      "275 7837 Hicksville, NY 50400, 49800, 50000, 40200, 41300\n",
      "276 7839 New City, NY 4000, 27300, 30800, 33700, 34000\n",
      "277 7840 Oceanside, NY 12900, 30400, 35400, 36400, 32400, 32700\n",
      "278 7841 West Babylon, NY 12900, 32500, 42400, 43500\n",
      "279 7842 West Seneca, NY 48400, 51200, 47900, 45900\n",
      "280 7843 Austintown, OH 29400, 24900, 32400, 31600\n",
      "281 7844 Boardman, OH 30900, 32800, 38600, 37200\n",
      "282 7846 Altamont, OR 10800, 15700, 15700, 18600, 19600\n",
      "283 7852 Parkrose, OR 3000, 23000, 22500, 21400\n",
      "284 7854 Drexel Hill, PA 6300, 29600, 29700, 29400\n",
      "285 7855 Levittown, PA 78600, 55400, 54000\n",
      "286 7857 Penn Hills, PA 20200, 57600, 46800\n",
      "287 7861 Springfield, PA 5500, 25300, 23700\n",
      "288 7864 Middletown, RI 3400, 7400, 12700, 29300, 17200, 19500, 17300\n",
      "289 7868 Westerly Center, RI 4700, 7300, 9700, 13700, 13900, 16500, 17700\n",
      "290 7877 St. Andrews, SC 9200, 16500, 25700, 21800\n",
      "291 7880 Bloomingdale, TN 8000, 8000, 11000, 10400\n",
      "292 7888 Kearns, UT 17200, 17200, 17000, 28400, 33700\n",
      "293 7889 Magna, UT 4200, 6400, 5500, 8600, 17800, 22800\n",
      "294 7890 Millcreek, UT 31700, 32200, 30400\n",
      "295 7891 Ananndale, VA 27400, 35300, 51000, 55000\n",
      "296 7892 Arlington, VA 4500, 57000, 163400, 174300, 174300, 152700, 170900, 189500\n",
      "297 7898 Dale City, VA 13900, 23000, 47200, 56000\n",
      "298 7903 McLean, VA 17700, 22000, 38200, 38900\n",
      "299 7907 Reston, VA 5700, 32000, 48600, 56400\n",
      "300 7908 Springfield, VA 10800, 11600, 12500, 23700, 30400\n",
      "301 7910 West Springfield, VA 14100, 16000, 28100, 28400\n",
      "302 7911 Woodbridge, VA 25400, 35000, 26400, 31900\n",
      "303 7924 Alamo, CA 8505, 12277\n",
      "304 7930 Alondra Park, CA 12193, 12096, 12215\n",
      "305 7931 Alpine, CA 5368, 9695\n",
      "306 7937 Alum Rock, CA 18942, 18127, 16890\n",
      "307 7944 Angwin, CA 2690, 3526, 3503\n",
      "308 7945 Aptos, CA 8704, 7039, 9061\n",
      "309 7949 Armona, CA 2644, 3122\n",
      "310 7952 Ashland, CA 14810, 13893, 16590\n",
      "311 7955 August, CA 5445, 6376\n",
      "312 7957 Avocado Heights, CA 9810, 11721, 14232\n",
      "313 7966 Baywood-Los Osas, CA 3487, 10933, 14377\n",
      "314 7968 Beale AFB East, CA 7029, 6329\n",
      "315 7974 Ben Lomond, CA 2793, 7238, 7884\n",
      "316 7980 Big Bear City, CA 11151, 4920\n",
      "317 7996 Bloomington, CA 11957, 12781, 15116\n",
      "318 8007 Bonadelle Ranchos - Madera Ranchos, CA 3272, 5705\n",
      "319 8008 Bonita, CA 6257, 12542\n",
      "320 8017 Boulder Creek, CA 5662, 6725\n",
      "321 8021 Boyes Hot Springs, CA 3558, 4177, 5973\n",
      "322 8028 Broderick-Bryte, CA 12782, 10194\n",
      "323 8033 Burney, CA 3187, 3423\n",
      "324 8044 Calwa, CA 5191, 6640\n",
      "325 8045 Camarillo Heights, CA 5892, 6341\n",
      "326 8046 Cambria, CA 3061, 5382\n",
      "327 8048 Cameron Park, CA 5607, 11897\n",
      "328 8051 Camp Pendleton South, CA 7952, 11299\n",
      "329 8055 Canyon Country, CA 15728\n",
      "330 8057 Capistrano Beach, CA 4149, 6168\n",
      "331 8058 Cardiff-by-the-Sea, CA 3149, 5724, 10054\n",
      "332 8059 Carmel Valley Village, CA 3026, 4013, 4407\n",
      "333 8062 Carmichael, CA 4499, 20455, 37625, 43108, 48702\n",
      "334 8066 Casa de Oro - Mount Helix, CA 19651, 30727\n",
      "335 8070 Castle Park-Otay, CA 21049\n",
      "336 8071 Castroville, CA 2838, 3235, 4396, 5272\n",
      "337 8078 Central Valley, CA 2854, 3424, 4340\n",
      "338 8086 Charter Oak, CA 6840, 8858\n",
      "339 8090 Cherry Valley, CA 3165, 5012, 5945\n",
      "340 8091 Cherryland, CA 9969, 9425, 11088\n",
      "341 8093 Chico North, CA 6656, 11733\n",
      "342 8095 Chico West, CA 4687, 6337\n",
      "343 8096 China Lake, CA 11105, 4275\n",
      "344 8102 Citrus, CA 12450, 9481\n",
      "345 8104 Clearlake Highlands-Clearlake Park, CA 4983\n",
      "346 8133 Country Club, CA 9585, 9325\n",
      "347 8136 Crescent City North, CA 3086, 3053, 2846, 3853\n",
      "348 8140 Crestline, CA 6715, 8594\n",
      "349 8148 Cutler, CA 2503, 3149, 4450\n",
      "350 8159 Del Aire, CA 8487, 8040\n",
      "351 8166 Delhi, CA 2832, 3280\n",
      "352 8168 Denair, CA 2892, 3693\n",
      "353 8191 Earlimart, CA 2897, 3080, 4578, 5881\n",
      "354 8195 East Compton, CA 5853, 6435, 7967\n",
      "355 8197 East Hemet, CA 14712, 17611\n",
      "356 8198 East La Mirada, CA 12339, 9688, 9367\n",
      "357 8201 East Porterville, CA 3538, 4042, 5218, 5790\n",
      "358 8211 Edwards AFB, CA 8554, 7423\n",
      "359 8214 El Dorado Hills, CA 3453, 6395\n",
      "360 8216 El Granada, CA 3582, 4426\n",
      "361 8218 El Rio, CA 6966, 6173, 5674, 6419\n",
      "362 8219 El Sobrante, CA 10535, 9852\n",
      "363 8220 El Toro, CA 8654, 38153, 62685\n",
      "364 8221 El Toro Station, CA 6970, 7632, 6869\n",
      "365 8232 Enterprise, CA 4946, 11486, 10796\n",
      "366 8236 Fair Oaks, CA 11256, 22602, 26867\n",
      "367 8240 Fallbrook, CA 4814, 6945, 14041, 22095\n",
      "368 8241 Felton, CA 4564, 5350\n",
      "369 8247 Florin, CA 9646, 16523, 24330\n",
      "370 8248 Foothill Farms , CA 13700, 17135\n",
      "371 8249 Ford City, CA 4347, 3926, 3503, 3392, 3781\n",
      "372 8258 Freedom, CA 2765, 4206, 5563, 6416, 8361\n",
      "373 8267 Garden Acres, CA 7870, 7361, 8547\n",
      "374 8270 George AFB, CA 7061, 5085\n",
      "375 8274 Glen Avon, CA 3416, 5759, 8444, 12663\n",
      "376 8288 Greenacres, CA 5381, 7379\n",
      "377 8326 Home Gardens, CA 5116, 5783, 7780\n",
      "378 8327 Homeland, CA 2616, 3312\n",
      "379 8341 Idyllwild-Pine Cove, CA 2959, 2853\n",
      "380 8357 Ivanhoe, CA 2684, 3293\n",
      "381 8375 Kensington, CA 5823, 5200, 4974\n",
      "382 8386 La Crescenta-Montrose, CA 19620, 16531\n",
      "383 8389 La Riviera, CA 10906, 10986\n",
      "384 8393 Ladera Heights, CA 6535, 6647, 6316\n",
      "385 8396 Lake Arrowhead, CA 2682, 6272, 6539\n",
      "386 8399 Lake Isabella, CA 3428, 3323\n",
      "387 8405 Lakeland Village, CA 3539, 2796, 5159\n",
      "388 8406 Lakeside, CA 11991, 23921, 39412\n",
      "389 8409 Lamont, CA 3571, 6177, 7007, 9616, 11517\n",
      "390 8421 Lemoore Station, CA 8512, 5888\n",
      "391 8423 Lenwood, CA 3834, 2974, 3190\n",
      "392 8424 Leucadia, CA 5665, 9478\n",
      "393 8428 Lincoln Village, CA 6122, 6476, 4236\n",
      "394 8429 Linda, CA 6129, 7731, 10225, 13033\n",
      "395 8435 Live Oak (CDP), CA 3518, 6443, 11482, 15212\n",
      "396 8457 Lucas Valley-Marinwood, CA 6409, 5982\n",
      "397 8465 March AFB, CA 3607, 5523\n",
      "398 8467 Marina del Rey, CA 6336, 7431\n",
      "399 8474 Mather AFB, CA 5245, 4885\n",
      "400 8477 Mayflower Village, CA 5018, 4978\n",
      "401 8479 McKinleyville, CA 7772, 10749\n",
      "402 8484 Meadow Vista, CA 2683, 3067\n",
      "403 8487 Meiners Oaks- Mira Monte, CA 7025, 9512\n",
      "404 8505 Mira Loma, CA 3982, 8482, 8707, 15786\n",
      "405 8509 Mission Hills, CA 2797, 3112\n",
      "406 8514 Mojave, CA 2573, 2886, 3763\n",
      "407 8543 Muscoy, CA 7091, 6188, 7541\n",
      "408 8544 Myrtletown, CA 3959, 4413\n",
      "409 8554 Newhall, CA 2527, 4705, 9651, 12029\n",
      "410 8562 Nipomo, CA 3642, 5247, 7109\n",
      "411 8564 North Auburn, CA 7619, 10301\n",
      "412 8569 North Fair Oaks, CA 9740, 10308, 13912\n",
      "413 8570 North Highlands, CA 21271, 31854, 37825, 42105\n",
      "414 8581 Oak View, CA 4872, 4671, 3606\n",
      "415 8584 Oceano, CA 2564, 4478, 6169\n",
      "416 8585 Oildale, CA 16615, 20879, 23382, 26553\n",
      "417 8587 Olivehurst, CA 3588, 4835, 8100, 8929, 9738\n",
      "418 8588 Opal Cliffs, CA 3825, 5425, 5041, 5940\n",
      "419 8591 Orangevale, CA 20585, 26266\n",
      "420 8596 Orosi, CA 2757, 4076, 5486\n",
      "421 8603 Palermo, CA 2572, 5260\n",
      "422 8605 Palmdale East, CA 3560, 2920, 3052\n",
      "423 8606 Palos Verdes Peninsula, CA 38914, 55235, 55900\n",
      "424 8609 Parkway-South Sacramento, CA 28574, 26815, 31903\n",
      "425 8625 Pine Hills, CA 2686, 2947\n",
      "426 8639 Point Mugu, CA 3351, 2701\n",
      "427 8660 Quincy-East Quincy, CA 2723, 4451, 4271\n",
      "428 8662 Ramona, CA 3554, 8173, 13040\n",
      "429 8667 Rancho Santa Fe, CA 4014\n",
      "430 8672 Rio del Mar, CA 7067, 8919\n",
      "431 8673 Rio Linda, CA 7524, 7359, 9481\n",
      "432 8675 Rodeo, CA 5356, 8286, 7589\n",
      "433 8679 Rosamond, CA 2869, 7430\n",
      "434 8681 Roseland, CA 4510, 5105, 7915, 8779\n",
      "435 8682 Rosemont, CA 18888, 22851\n",
      "436 8683 Ross, CA 2551, 2742, 2801\n",
      "437 8684 Rossmoor, CA 12922, 10457, 9893\n",
      "438 8687 Rowland Heights, CA 16881, 28252, 42647\n",
      "439 8688 Rubidoux, CA 13969, 17048, 24367\n",
      "440 8705 San Lorenzo, CA 23773, 24633, 20545, 19987\n",
      "441 8712 Sand Hill, CA 2606\n",
      "442 8717 Santa Ynez , CA 3335, 4200\n",
      "443 8720 Saugus-Bouquet Canyon, CA 16283\n",
      "444 8725 Searles Valley, CA 3828, 3439, 2740\n",
      "445 8727 Sedco Hills, CA 2678\n",
      "446 8760 South Laguna, CA 2566, 6013\n",
      "447 8762 South Modesto, CA 5465, 7889, 12492\n",
      "448 8764 South Oroville, CA 3704, 4111, 7246, 7463\n",
      "449 8768 South San Gabriel, CA 26213, 5051, 5421, 7700\n",
      "450 8769 South San Jose Hills, CA 12386, 16049, 17814\n",
      "451 8773 South Yuba City, CA 3200, 5352, 7530, 8816\n",
      "452 8777 Spring Valley, CA 29742, 40191, 55331\n",
      "453 8781 Stanford, CA 8691, 11045, 18097\n",
      "454 8791 Sun City, CA 5519, 8460, 14930\n",
      "455 8792 Sunnymead, CA 3404, 6708, 11554\n",
      "456 8802 Tamalpais-Homestead Valley, CA 8511, 9601\n",
      "457 8804 Tara Hills - Montalvin Manor, CA 9471\n",
      "458 8813 Thermalito, CA 4217, 4961, 5646\n",
      "459 8835 Tustin Foothills, CA 26699, 26174, 24358\n",
      "460 8837 Twentynine Palms Base, CA 5647, 7079, 10606\n",
      "461 8838 Twin Lakes, CA 3012, 4502, 5379\n",
      "462 8846 Valencia, CA 4243, 12163\n",
      "463 8847 Valinda, CA 18837, 18700, 18735\n",
      "464 8848 Valle Vista, CA 5474, 8751\n",
      "465 8853 Vandenberg AFB, CA 8136, 9846\n",
      "466 8854 Vandenberg Village, CA 5839, 5971\n",
      "467 8858 View Park - Windor Hills, CA 12268, 12101, 11769\n",
      "468 8865 Walnut Creek West, CA 8330, 5893\n",
      "469 8868 Walnut Park, CA 8925, 11811, 14722\n",
      "470 8873 Weaverville, CA 2787, 3370\n",
      "471 8876 West Athens, CA 13311, 8531, 8859\n",
      "472 8878 West Carson, CA 15918, 17997, 20143\n",
      "473 8879 West Compton, CA 5605, 5907, 5451\n",
      "474 8883 West Parlier, CA 2811\n",
      "475 8884 West Pittsburg, CA 5188, 5969, 10244, 17453\n",
      "476 8886 West Puente Valley, CA 20733, 20445, 20254\n",
      "477 8888 West Whitter - Los Nietos, CA 20845, 21001, 24164\n",
      "478 8891 Westmont, CA 29310, 27916, 31044\n",
      "479 8896 Willowbrook, CA 32328, 30845, 32772\n",
      "480 8901 Winton, CA 3393, 4995, 7559\n",
      "481 8908 Wrightwood, CA 2511, 3308\n"
     ]
    }
   ],
   "source": [
    "j = 0\n",
    "misses = []\n",
    "for i,matches in cesta_crosswalk:\n",
    "    if matches is None:\n",
    "        if c_mat[i][19] > 0:\n",
    "            misses.append(i)\n",
    "            j += 1\n",
    "            print j,i,CESTA.iloc[i][\"CityST\"], \", \".join([str(int(p)) for p in list(c_mat[i]) if not np.isnan(p)])\n",
    "            f = c_mat[0]\n"
   ]
  },
  {
   "cell_type": "code",
   "execution_count": 497,
   "metadata": {
    "collapsed": false,
    "deletable": true,
    "editable": true
   },
   "outputs": [
    {
     "name": "stdout",
     "output_type": "stream",
     "text": [
      "481\n"
     ]
    }
   ],
   "source": [
    "print len(misses)\n",
    "random.seed(3)\n",
    "sampled = random.sample(misses,10)"
   ]
  },
  {
   "cell_type": "code",
   "execution_count": 516,
   "metadata": {
    "collapsed": false,
    "deletable": true,
    "editable": true
   },
   "outputs": [
    {
     "name": "stdout",
     "output_type": "stream",
     "text": [
      " Brunswick, ME -- 0, 0, 0, 0, 0, 0, 0, 0, 0, 0, 0, 5210, 5341, 5784, 6144, 7003, 0, 9400, 16200, 13900, 14700, 14800, 0\n",
      "      country      id        lat        lon poptype             title  y1790  \\\n",
      "12396      US  259228  43.910833 -69.963056  Census  Brunswick, Maine   1357   \n",
      "\n",
      "       y1800  y1810  y1820   ...     y1920   y1930  y1940  y1950    y1960  \\\n",
      "12396   1809   2682   2931   ...      7261  7604.0   8658  10996  15797.0   \n",
      "\n",
      "         y1970  y1980  y1990    y2000    y2010  \n",
      "12396  16195.0  17366  20906  21172.0  20278.0  \n",
      "\n",
      "[1 rows x 29 columns]\n"
     ]
    }
   ],
   "source": [
    "i = sampled[0]\n",
    "place, pops = CESTA.iloc[i][\"CityST\"], \", \".join([str(int(p)) if not np.isnan(p) else \"0\" for p in list(c_mat[i])])\n",
    "print place,\"--\", pops\n",
    "\n",
    "print frame[frame.title==\"Brunswick, Maine\"]"
   ]
  },
  {
   "cell_type": "markdown",
   "metadata": {
    "deletable": true,
    "editable": true
   },
   "source": [
    "So after digging around, it seems that CESTA reports statistics for the Brunswick CDP, (but rounded to the nearest 100?), while Wikipedia gives the statistics for Brunswick Town. The difference being a second CDP,   https://en.wikipedia.org/wiki/Brunswick_Station,_Maine"
   ]
  },
  {
   "cell_type": "code",
   "execution_count": 518,
   "metadata": {
    "collapsed": false,
    "deletable": true,
    "editable": true
   },
   "outputs": [
    {
     "name": "stdout",
     "output_type": "stream",
     "text": [
      "Lakewood, NJ -- 0, 0, 0, 0, 0, 0, 0, 0, 0, 0, 0, 0, 0, 0, 0, 6700, 0, 13000, 17900, 25200, 26100, 36100, 0\n",
      "      country      id        lat        lon poptype  \\\n",
      "11098      US  125617  40.077041 -74.200383  Census   \n",
      "\n",
      "                               title  y1790  y1800  y1810  y1820   ...     \\\n",
      "11098  Lakewood Township, New Jersey      0      0      0      0   ...      \n",
      "\n",
      "       y1920   y1930  y1940  y1950    y1960    y1970  y1980  y1990    y2000  \\\n",
      "11098   6110  7869.0   8502  10809  16020.0  25233.0  38464  45048  60352.0   \n",
      "\n",
      "         y2010  \n",
      "11098  92843.0  \n",
      "\n",
      "[1 rows x 29 columns]\n"
     ]
    }
   ],
   "source": [
    "i = sampled[1]\n",
    "place, pops = CESTA.iloc[i][\"CityST\"], \", \".join([str(int(p)) if not np.isnan(p) else \"0\" for p in list(c_mat[i])])\n",
    "print place,\"--\", pops\n",
    "\n",
    "print frame[frame.title==\"Lakewood Township, New Jersey\"]"
   ]
  },
  {
   "cell_type": "code",
   "execution_count": 524,
   "metadata": {
    "collapsed": false,
    "deletable": true,
    "editable": true,
    "scrolled": true
   },
   "outputs": [
    {
     "name": "stderr",
     "output_type": "stream",
     "text": [
      "[autoreload of scipy.optimize._lsq.least_squares failed: Traceback (most recent call last):\n",
      "  File \"/usr/local/lib/python2.7/dist-packages/IPython/extensions/autoreload.py\", line 247, in check\n",
      "    superreload(m, reload, self.old_objects)\n",
      "ImportError: cannot import name _minpack\n",
      "]\n",
      "[autoreload of scipy.stats._discrete_distns failed: Traceback (most recent call last):\n",
      "  File \"/usr/local/lib/python2.7/dist-packages/IPython/extensions/autoreload.py\", line 247, in check\n",
      "    superreload(m, reload, self.old_objects)\n",
      "ImportError: cannot import name special\n",
      "]\n",
      "[autoreload of numpy.compat failed: Traceback (most recent call last):\n",
      "  File \"/usr/local/lib/python2.7/dist-packages/IPython/extensions/autoreload.py\", line 247, in check\n",
      "    superreload(m, reload, self.old_objects)\n",
      "ImportError: cannot import name _inspect\n",
      "]\n",
      "[autoreload of scipy.stats failed: Traceback (most recent call last):\n",
      "  File \"/usr/local/lib/python2.7/dist-packages/IPython/extensions/autoreload.py\", line 247, in check\n",
      "    superreload(m, reload, self.old_objects)\n",
      "ImportError: cannot import name mstats\n",
      "]\n",
      "[autoreload of numpy.core failed: Traceback (most recent call last):\n",
      "  File \"/usr/local/lib/python2.7/dist-packages/IPython/extensions/autoreload.py\", line 247, in check\n",
      "    superreload(m, reload, self.old_objects)\n",
      "ImportError: \n",
      "Importing the multiarray numpy extension module failed.  Most\n",
      "likely you are trying to import a failed build of numpy.\n",
      "If you're working with a numpy git repo, try `git clean -xdf` (removes all\n",
      "files not under version control).  Otherwise reinstall numpy.\n",
      "\n",
      "Original error was: cannot import name multiarray\n",
      "\n",
      "]\n",
      "[autoreload of scipy._lib._ccallback failed: Traceback (most recent call last):\n",
      "  File \"/usr/local/lib/python2.7/dist-packages/IPython/extensions/autoreload.py\", line 247, in check\n",
      "    superreload(m, reload, self.old_objects)\n",
      "ImportError: cannot import name _ccallback_c\n",
      "]\n",
      "[autoreload of scipy.optimize.linesearch failed: Traceback (most recent call last):\n",
      "  File \"/usr/local/lib/python2.7/dist-packages/IPython/extensions/autoreload.py\", line 247, in check\n",
      "    superreload(m, reload, self.old_objects)\n",
      "ImportError: cannot import name minpack2\n",
      "]\n",
      "[autoreload of scipy.stats.morestats failed: Traceback (most recent call last):\n",
      "  File \"/usr/local/lib/python2.7/dist-packages/IPython/extensions/autoreload.py\", line 247, in check\n",
      "    superreload(m, reload, self.old_objects)\n",
      "ImportError: cannot import name optimize\n",
      "]\n",
      "[autoreload of scipy.interpolate.interpolate failed: Traceback (most recent call last):\n",
      "  File \"/usr/local/lib/python2.7/dist-packages/IPython/extensions/autoreload.py\", line 247, in check\n",
      "    superreload(m, reload, self.old_objects)\n",
      "AttributeError: 'module' object has no attribute 'special'\n",
      "]\n",
      "[autoreload of scipy.optimize.nnls failed: Traceback (most recent call last):\n",
      "  File \"/usr/local/lib/python2.7/dist-packages/IPython/extensions/autoreload.py\", line 247, in check\n",
      "    superreload(m, reload, self.old_objects)\n",
      "ImportError: cannot import name _nnls\n",
      "]\n",
      "[autoreload of numpy.core.arrayprint failed: Traceback (most recent call last):\n",
      "  File \"/usr/local/lib/python2.7/dist-packages/IPython/extensions/autoreload.py\", line 247, in check\n",
      "    superreload(m, reload, self.old_objects)\n",
      "ValueError: array2string() requires a code object with 0 free vars, not 3\n",
      "]\n",
      "[autoreload of scipy.interpolate._pade failed: Traceback (most recent call last):\n",
      "  File \"/usr/local/lib/python2.7/dist-packages/IPython/extensions/autoreload.py\", line 247, in check\n",
      "    superreload(m, reload, self.old_objects)\n",
      "ImportError: cannot import name linalg\n",
      "]\n",
      "[autoreload of scipy.ndimage.measurements failed: Traceback (most recent call last):\n",
      "  File \"/usr/local/lib/python2.7/dist-packages/IPython/extensions/autoreload.py\", line 247, in check\n",
      "    superreload(m, reload, self.old_objects)\n",
      "ImportError: cannot import name _ni_support\n",
      "]\n",
      "[autoreload of scipy.signal.spectral failed: Traceback (most recent call last):\n",
      "  File \"/usr/local/lib/python2.7/dist-packages/IPython/extensions/autoreload.py\", line 247, in check\n",
      "    superreload(m, reload, self.old_objects)\n",
      "ImportError: cannot import name fftpack\n",
      "]\n",
      "[autoreload of scipy.sparse.data failed: Traceback (most recent call last):\n",
      "  File \"/usr/local/lib/python2.7/dist-packages/IPython/extensions/autoreload.py\", line 247, in check\n",
      "    superreload(m, reload, self.old_objects)\n",
      "AttributeError: type object 'spmatrix' has no attribute 'count_nonzero'\n",
      "]\n",
      "[autoreload of numpy failed: Traceback (most recent call last):\n",
      "  File \"/usr/local/lib/python2.7/dist-packages/IPython/extensions/autoreload.py\", line 247, in check\n",
      "    superreload(m, reload, self.old_objects)\n",
      "ImportError: cannot import name add_newdocs\n",
      "]\n",
      "[autoreload of scipy.ndimage.interpolation failed: Traceback (most recent call last):\n",
      "  File \"/usr/local/lib/python2.7/dist-packages/IPython/extensions/autoreload.py\", line 247, in check\n",
      "    superreload(m, reload, self.old_objects)\n",
      "ImportError: cannot import name _ni_support\n",
      "]\n",
      "[autoreload of scipy.sparse.bsr failed: Traceback (most recent call last):\n",
      "  File \"/usr/local/lib/python2.7/dist-packages/IPython/extensions/autoreload.py\", line 247, in check\n",
      "    superreload(m, reload, self.old_objects)\n",
      "ImportError: cannot import name _sparsetools\n",
      "]\n",
      "[autoreload of scipy.optimize.cobyla failed: Traceback (most recent call last):\n",
      "  File \"/usr/local/lib/python2.7/dist-packages/IPython/extensions/autoreload.py\", line 247, in check\n",
      "    superreload(m, reload, self.old_objects)\n",
      "ImportError: cannot import name _cobyla\n",
      "]\n",
      "[autoreload of scipy.ndimage.filters failed: Traceback (most recent call last):\n",
      "  File \"/usr/local/lib/python2.7/dist-packages/IPython/extensions/autoreload.py\", line 247, in check\n",
      "    superreload(m, reload, self.old_objects)\n",
      "ImportError: cannot import name _ni_support\n",
      "]\n",
      "[autoreload of scipy.linalg.decomp_schur failed: Traceback (most recent call last):\n",
      "  File \"/usr/local/lib/python2.7/dist-packages/IPython/extensions/autoreload.py\", line 247, in check\n",
      "    superreload(m, reload, self.old_objects)\n",
      "ImportError: cannot import name misc\n",
      "]\n",
      "[autoreload of numpy.polynomial.polynomial failed: Traceback (most recent call last):\n",
      "  File \"/usr/local/lib/python2.7/dist-packages/IPython/extensions/autoreload.py\", line 247, in check\n",
      "    superreload(m, reload, self.old_objects)\n",
      "ImportError: cannot import name normalize_axis_index\n",
      "]\n",
      "[autoreload of scipy.signal.windows failed: Traceback (most recent call last):\n",
      "  File \"/usr/local/lib/python2.7/dist-packages/IPython/extensions/autoreload.py\", line 247, in check\n",
      "    superreload(m, reload, self.old_objects)\n",
      "ImportError: cannot import name fftpack\n",
      "]\n",
      "[autoreload of scipy.signal.signaltools failed: Traceback (most recent call last):\n",
      "  File \"/usr/local/lib/python2.7/dist-packages/IPython/extensions/autoreload.py\", line 247, in check\n",
      "    superreload(m, reload, self.old_objects)\n",
      "ImportError: cannot import name fftpack\n",
      "]\n",
      "[autoreload of scipy.special.orthogonal failed: Traceback (most recent call last):\n",
      "  File \"/usr/local/lib/python2.7/dist-packages/IPython/extensions/autoreload.py\", line 247, in check\n",
      "    superreload(m, reload, self.old_objects)\n",
      "ImportError: cannot import name linalg\n",
      "]\n",
      "[autoreload of numpy.ma.extras failed: Traceback (most recent call last):\n",
      "  File \"/usr/local/lib/python2.7/dist-packages/IPython/extensions/autoreload.py\", line 247, in check\n",
      "    superreload(m, reload, self.old_objects)\n",
      "ImportError: cannot import name normalize_axis_index\n",
      "]\n",
      "[autoreload of scipy.sparse.linalg.dsolve failed: Traceback (most recent call last):\n",
      "  File \"/usr/local/lib/python2.7/dist-packages/IPython/extensions/autoreload.py\", line 247, in check\n",
      "    superreload(m, reload, self.old_objects)\n",
      "ImportError: cannot import name _add_newdocs\n",
      "]\n",
      "[autoreload of scipy.integrate._ode failed: Traceback (most recent call last):\n",
      "  File \"/usr/local/lib/python2.7/dist-packages/IPython/extensions/autoreload.py\", line 247, in check\n",
      "    superreload(m, reload, self.old_objects)\n",
      "ImportError: cannot import name vode\n",
      "]\n",
      "[autoreload of scipy.interpolate.fitpack failed: Traceback (most recent call last):\n",
      "  File \"/usr/local/lib/python2.7/dist-packages/IPython/extensions/autoreload.py\", line 247, in check\n",
      "    superreload(m, reload, self.old_objects)\n",
      "ImportError: cannot import name _fitpack_impl\n",
      "]\n",
      "[autoreload of scipy.misc failed: Traceback (most recent call last):\n",
      "  File \"/usr/local/lib/python2.7/dist-packages/IPython/extensions/autoreload.py\", line 247, in check\n",
      "    superreload(m, reload, self.old_objects)\n",
      "ImportError: cannot import name doccer\n",
      "]\n",
      "[autoreload of scipy.optimize._root failed: Traceback (most recent call last):\n",
      "  File \"/usr/local/lib/python2.7/dist-packages/IPython/extensions/autoreload.py\", line 247, in check\n",
      "    superreload(m, reload, self.old_objects)\n",
      "ImportError: cannot import name nonlin\n",
      "]\n",
      "[autoreload of scipy.sparse.dia failed: Traceback (most recent call last):\n",
      "  File \"/usr/local/lib/python2.7/dist-packages/IPython/extensions/autoreload.py\", line 247, in check\n",
      "    superreload(m, reload, self.old_objects)\n",
      "AttributeError: type object 'spmatrix' has no attribute 'count_nonzero'\n",
      "]\n",
      "[autoreload of scipy.linalg.lapack failed: Traceback (most recent call last):\n",
      "  File \"/usr/local/lib/python2.7/dist-packages/IPython/extensions/autoreload.py\", line 247, in check\n",
      "    superreload(m, reload, self.old_objects)\n",
      "ImportError: cannot import name _flapack\n",
      "]\n",
      "[autoreload of scipy.interpolate.fitpack2 failed: Traceback (most recent call last):\n",
      "  File \"/usr/local/lib/python2.7/dist-packages/IPython/extensions/autoreload.py\", line 247, in check\n",
      "    superreload(m, reload, self.old_objects)\n",
      "ImportError: cannot import name fitpack\n",
      "]\n",
      "[autoreload of scipy.signal failed: Traceback (most recent call last):\n",
      "  File \"/usr/local/lib/python2.7/dist-packages/IPython/extensions/autoreload.py\", line 247, in check\n",
      "    superreload(m, reload, self.old_objects)\n",
      "ImportError: cannot import name sigtools\n",
      "]\n",
      "[autoreload of scipy.interpolate.rbf failed: Traceback (most recent call last):\n",
      "  File \"/usr/local/lib/python2.7/dist-packages/IPython/extensions/autoreload.py\", line 247, in check\n",
      "    superreload(m, reload, self.old_objects)\n",
      "ImportError: cannot import name linalg\n",
      "]\n",
      "[autoreload of scipy.optimize.zeros failed: Traceback (most recent call last):\n",
      "  File \"/usr/local/lib/python2.7/dist-packages/IPython/extensions/autoreload.py\", line 247, in check\n",
      "    superreload(m, reload, self.old_objects)\n",
      "ImportError: cannot import name _zeros\n",
      "]\n",
      "[autoreload of scipy.interpolate._fitpack_impl failed: Traceback (most recent call last):\n",
      "  File \"/usr/local/lib/python2.7/dist-packages/IPython/extensions/autoreload.py\", line 247, in check\n",
      "    superreload(m, reload, self.old_objects)\n",
      "ImportError: cannot import name _fitpack\n",
      "]\n",
      "[autoreload of scipy.stats._multivariate failed: Traceback (most recent call last):\n",
      "  File \"/usr/local/lib/python2.7/dist-packages/IPython/extensions/autoreload.py\", line 247, in check\n",
      "    superreload(m, reload, self.old_objects)\n",
      "AttributeError: 'module' object has no attribute 'mtrand'\n",
      "]\n",
      "[autoreload of numpy.lib.shape_base failed: Traceback (most recent call last):\n",
      "  File \"/usr/local/lib/python2.7/dist-packages/IPython/extensions/autoreload.py\", line 247, in check\n",
      "    superreload(m, reload, self.old_objects)\n",
      "ImportError: cannot import name normalize_axis_index\n",
      "]\n",
      "[autoreload of scipy.linalg._solvers failed: Traceback (most recent call last):\n",
      "  File \"/usr/local/lib/python2.7/dist-packages/IPython/extensions/autoreload.py\", line 247, in check\n",
      "    superreload(m, reload, self.old_objects)\n",
      "ImportError: cannot import name matrix_balance\n",
      "]\n",
      "[autoreload of scipy.optimize.lbfgsb failed: Traceback (most recent call last):\n",
      "  File \"/usr/local/lib/python2.7/dist-packages/IPython/extensions/autoreload.py\", line 247, in check\n",
      "    superreload(m, reload, self.old_objects)\n",
      "ImportError: cannot import name _lbfgsb\n",
      "]\n",
      "[autoreload of scipy.sparse.lil failed: Traceback (most recent call last):\n",
      "  File \"/usr/local/lib/python2.7/dist-packages/IPython/extensions/autoreload.py\", line 247, in check\n",
      "    superreload(m, reload, self.old_objects)\n",
      "ImportError: cannot import name _csparsetools\n",
      "]\n",
      "[autoreload of scipy.stats.mstats_basic failed: Traceback (most recent call last):\n",
      "  File \"/usr/local/lib/python2.7/dist-packages/IPython/extensions/autoreload.py\", line 247, in check\n",
      "    superreload(m, reload, self.old_objects)\n",
      "AttributeError: 'module' object has no attribute 'special'\n",
      "]\n",
      "[autoreload of scipy.sparse.csc failed: Traceback (most recent call last):\n",
      "  File \"/usr/local/lib/python2.7/dist-packages/IPython/extensions/autoreload.py\", line 247, in check\n",
      "    superreload(m, reload, self.old_objects)\n",
      "ImportError: cannot import name _sparsetools\n",
      "]\n",
      "[autoreload of scipy.sparse.csr failed: Traceback (most recent call last):\n",
      "  File \"/usr/local/lib/python2.7/dist-packages/IPython/extensions/autoreload.py\", line 247, in check\n",
      "    superreload(m, reload, self.old_objects)\n",
      "AttributeError: type object 'spmatrix' has no attribute 'tocsr'\n",
      "]\n",
      "[autoreload of numpy.polynomial.laguerre failed: Traceback (most recent call last):\n",
      "  File \"/usr/local/lib/python2.7/dist-packages/IPython/extensions/autoreload.py\", line 247, in check\n",
      "    superreload(m, reload, self.old_objects)\n",
      "ImportError: cannot import name normalize_axis_index\n",
      "]\n",
      "[autoreload of scipy.signal.filter_design failed: Traceback (most recent call last):\n",
      "  File \"/usr/local/lib/python2.7/dist-packages/IPython/extensions/autoreload.py\", line 247, in check\n",
      "    superreload(m, reload, self.old_objects)\n",
      "ImportError: cannot import name special\n",
      "]\n",
      "[autoreload of scipy.special failed: Traceback (most recent call last):\n",
      "  File \"/usr/local/lib/python2.7/dist-packages/IPython/extensions/autoreload.py\", line 247, in check\n",
      "    superreload(m, reload, self.old_objects)\n",
      "ImportError: cannot import name specfun\n",
      "]\n",
      "[autoreload of scipy.optimize.minpack failed: Traceback (most recent call last):\n",
      "  File \"/usr/local/lib/python2.7/dist-packages/IPython/extensions/autoreload.py\", line 247, in check\n",
      "    superreload(m, reload, self.old_objects)\n",
      "ImportError: cannot import name _minpack\n",
      "]\n",
      "[autoreload of numpy.core.shape_base failed: Traceback (most recent call last):\n",
      "  File \"/usr/local/lib/python2.7/dist-packages/IPython/extensions/autoreload.py\", line 247, in check\n",
      "    superreload(m, reload, self.old_objects)\n",
      "ImportError: cannot import name normalize_axis_index\n",
      "]\n",
      "[autoreload of scipy.fftpack.realtransforms failed: Traceback (most recent call last):\n",
      "  File \"/usr/local/lib/python2.7/dist-packages/IPython/extensions/autoreload.py\", line 247, in check\n",
      "    superreload(m, reload, self.old_objects)\n",
      "ImportError: cannot import name _fftpack\n",
      "]\n",
      "[autoreload of scipy.stats.stats failed: Traceback (most recent call last):\n",
      "  File \"/usr/local/lib/python2.7/dist-packages/IPython/extensions/autoreload.py\", line 247, in check\n",
      "    superreload(m, reload, self.old_objects)\n",
      "AttributeError: 'module' object has no attribute 'special'\n",
      "]\n",
      "[autoreload of scipy.ndimage.morphology failed: Traceback (most recent call last):\n",
      "  File \"/usr/local/lib/python2.7/dist-packages/IPython/extensions/autoreload.py\", line 247, in check\n",
      "    superreload(m, reload, self.old_objects)\n",
      "ImportError: cannot import name _ni_support\n",
      "]\n",
      "[autoreload of numpy.polynomial.hermite_e failed: Traceback (most recent call last):\n",
      "  File \"/usr/local/lib/python2.7/dist-packages/IPython/extensions/autoreload.py\", line 247, in check\n",
      "    superreload(m, reload, self.old_objects)\n",
      "ImportError: cannot import name normalize_axis_index\n",
      "]\n",
      "[autoreload of scipy.linalg.blas failed: Traceback (most recent call last):\n",
      "  File \"/usr/local/lib/python2.7/dist-packages/IPython/extensions/autoreload.py\", line 247, in check\n",
      "    superreload(m, reload, self.old_objects)\n",
      "ImportError: cannot import name _fblas\n",
      "]\n",
      "[autoreload of scipy.stats.kde failed: Traceback (most recent call last):\n",
      "  File \"/usr/local/lib/python2.7/dist-packages/IPython/extensions/autoreload.py\", line 247, in check\n",
      "    superreload(m, reload, self.old_objects)\n",
      "ImportError: cannot import name linalg\n",
      "]\n",
      "[autoreload of numpy.core.numeric failed: Traceback (most recent call last):\n",
      "  File \"/usr/local/lib/python2.7/dist-packages/IPython/extensions/autoreload.py\", line 247, in check\n",
      "    superreload(m, reload, self.old_objects)\n",
      "ImportError: cannot import name normalize_axis_index\n",
      "]\n",
      "[autoreload of scipy.spatial failed: Traceback (most recent call last):\n",
      "  File \"/usr/local/lib/python2.7/dist-packages/IPython/extensions/autoreload.py\", line 247, in check\n",
      "    superreload(m, reload, self.old_objects)\n",
      "ImportError: cannot import name distance\n",
      "]\n",
      "[autoreload of scipy.fftpack.basic failed: Traceback (most recent call last):\n",
      "  File \"/usr/local/lib/python2.7/dist-packages/IPython/extensions/autoreload.py\", line 247, in check\n",
      "    superreload(m, reload, self.old_objects)\n",
      "ImportError: cannot import name _fftpack\n",
      "]\n",
      "[autoreload of scipy.interpolate._bsplines failed: Traceback (most recent call last):\n",
      "  File \"/usr/local/lib/python2.7/dist-packages/IPython/extensions/autoreload.py\", line 247, in check\n",
      "    superreload(m, reload, self.old_objects)\n",
      "ImportError: cannot import name _bspl\n",
      "]\n",
      "[autoreload of scipy.linalg.basic failed: Traceback (most recent call last):\n",
      "  File \"/usr/local/lib/python2.7/dist-packages/IPython/extensions/autoreload.py\", line 247, in check\n",
      "    superreload(m, reload, self.old_objects)\n",
      "ImportError: cannot import name decomp\n",
      "]\n",
      "[autoreload of numpy.linalg.linalg failed: Traceback (most recent call last):\n",
      "  File \"/usr/local/lib/python2.7/dist-packages/IPython/extensions/autoreload.py\", line 247, in check\n",
      "    superreload(m, reload, self.old_objects)\n",
      "ImportError: cannot import name normalize_axis_index\n",
      "]\n",
      "[autoreload of scipy.integrate.quadpack failed: Traceback (most recent call last):\n",
      "  File \"/usr/local/lib/python2.7/dist-packages/IPython/extensions/autoreload.py\", line 247, in check\n",
      "    superreload(m, reload, self.old_objects)\n",
      "ImportError: cannot import name _quadpack\n",
      "]\n",
      "[autoreload of numpy.fft.fftpack failed: Traceback (most recent call last):\n",
      "  File \"/usr/local/lib/python2.7/dist-packages/IPython/extensions/autoreload.py\", line 247, in check\n",
      "    superreload(m, reload, self.old_objects)\n",
      "ImportError: cannot import name fftpack_lite\n",
      "]\n",
      "[autoreload of scipy.signal.ltisys failed: Traceback (most recent call last):\n",
      "  File \"/usr/local/lib/python2.7/dist-packages/IPython/extensions/autoreload.py\", line 247, in check\n",
      "    superreload(m, reload, self.old_objects)\n",
      "ImportError: cannot import name integrate\n",
      "]\n",
      "[autoreload of scipy.ndimage.fourier failed: Traceback (most recent call last):\n",
      "  File \"/usr/local/lib/python2.7/dist-packages/IPython/extensions/autoreload.py\", line 247, in check\n",
      "    superreload(m, reload, self.old_objects)\n",
      "ImportError: cannot import name _ni_support\n",
      "]\n",
      "[autoreload of scipy.stats._distn_infrastructure failed: Traceback (most recent call last):\n",
      "  File \"/usr/local/lib/python2.7/dist-packages/IPython/extensions/autoreload.py\", line 247, in check\n",
      "    superreload(m, reload, self.old_objects)\n",
      "ImportError: cannot import name optimize\n",
      "]\n",
      "[autoreload of scipy.optimize.tnc failed: Traceback (most recent call last):\n",
      "  File \"/usr/local/lib/python2.7/dist-packages/IPython/extensions/autoreload.py\", line 247, in check\n",
      "    superreload(m, reload, self.old_objects)\n",
      "ImportError: cannot import name moduleTNC\n",
      "]\n",
      "[autoreload of scipy.sparse.linalg.eigen.arpack.arpack failed: Traceback (most recent call last):\n",
      "  File \"/usr/local/lib/python2.7/dist-packages/IPython/extensions/autoreload.py\", line 247, in check\n",
      "    superreload(m, reload, self.old_objects)\n",
      "ImportError: cannot import name _arpack\n",
      "]\n",
      "[autoreload of scipy.fftpack.pseudo_diffs failed: Traceback (most recent call last):\n",
      "  File \"/usr/local/lib/python2.7/dist-packages/IPython/extensions/autoreload.py\", line 247, in check\n",
      "    superreload(m, reload, self.old_objects)\n",
      "ImportError: cannot import name convolve\n",
      "]\n",
      "[autoreload of numpy.polynomial.chebyshev failed: Traceback (most recent call last):\n",
      "  File \"/usr/local/lib/python2.7/dist-packages/IPython/extensions/autoreload.py\", line 247, in check\n",
      "    superreload(m, reload, self.old_objects)\n",
      "ImportError: cannot import name normalize_axis_index\n",
      "]\n",
      "[autoreload of numpy.testing.utils failed: Traceback (most recent call last):\n",
      "  File \"/usr/local/lib/python2.7/dist-packages/IPython/extensions/autoreload.py\", line 247, in check\n",
      "    superreload(m, reload, self.old_objects)\n",
      "ImportError: cannot import name isnat\n",
      "]\n",
      "[autoreload of scipy.sparse.compressed failed: Traceback (most recent call last):\n",
      "  File \"/usr/local/lib/python2.7/dist-packages/IPython/extensions/autoreload.py\", line 247, in check\n",
      "    superreload(m, reload, self.old_objects)\n",
      "ImportError: cannot import name _sparsetools\n",
      "]\n",
      "[autoreload of scipy.sparse.linalg.isolve.iterative failed: Traceback (most recent call last):\n",
      "  File \"/usr/local/lib/python2.7/dist-packages/IPython/extensions/autoreload.py\", line 247, in check\n",
      "    superreload(m, reload, self.old_objects)\n",
      "ImportError: cannot import name _iterative\n",
      "]\n",
      "[autoreload of numpy.lib.ufunclike failed: Traceback (most recent call last):\n",
      "  File \"/usr/local/lib/python2.7/dist-packages/IPython/extensions/autoreload.py\", line 247, in check\n",
      "    superreload(m, reload, self.old_objects)\n",
      "ValueError: fix() requires a code object with 0 free vars, not 1\n",
      "]\n",
      "[autoreload of scipy.stats._continuous_distns failed: Traceback (most recent call last):\n",
      "  File \"/usr/local/lib/python2.7/dist-packages/IPython/extensions/autoreload.py\", line 247, in check\n",
      "    superreload(m, reload, self.old_objects)\n",
      "ImportError: cannot import name optimize\n",
      "]\n",
      "[autoreload of numpy.polynomial.legendre failed: Traceback (most recent call last):\n",
      "  File \"/usr/local/lib/python2.7/dist-packages/IPython/extensions/autoreload.py\", line 247, in check\n",
      "    superreload(m, reload, self.old_objects)\n",
      "ImportError: cannot import name normalize_axis_index\n",
      "]\n",
      "[autoreload of numpy.ma failed: Traceback (most recent call last):\n",
      "  File \"/usr/local/lib/python2.7/dist-packages/IPython/extensions/autoreload.py\", line 247, in check\n",
      "    superreload(m, reload, self.old_objects)\n",
      "ImportError: cannot import name core\n",
      "]\n",
      "[autoreload of numpy.lib failed: Traceback (most recent call last):\n",
      "  File \"/usr/local/lib/python2.7/dist-packages/IPython/extensions/autoreload.py\", line 247, in check\n",
      "    superreload(m, reload, self.old_objects)\n",
      "AttributeError: 'module' object has no attribute 'divmod'\n",
      "]\n",
      "[autoreload of scipy.signal.lti_conversion failed: Traceback (most recent call last):\n",
      "  File \"/usr/local/lib/python2.7/dist-packages/IPython/extensions/autoreload.py\", line 247, in check\n",
      "    superreload(m, reload, self.old_objects)\n",
      "ImportError: cannot import name linalg\n",
      "]\n",
      "[autoreload of numpy.testing failed: Traceback (most recent call last):\n",
      "  File \"/usr/local/lib/python2.7/dist-packages/IPython/extensions/autoreload.py\", line 247, in check\n",
      "    superreload(m, reload, self.old_objects)\n",
      "ImportError: cannot import name decorators\n",
      "]\n",
      "[autoreload of scipy.integrate.odepack failed: Traceback (most recent call last):\n",
      "  File \"/usr/local/lib/python2.7/dist-packages/IPython/extensions/autoreload.py\", line 247, in check\n",
      "    superreload(m, reload, self.old_objects)\n",
      "ImportError: cannot import name _odepack\n",
      "]\n",
      "[autoreload of numpy.ma.core failed: Traceback (most recent call last):\n",
      "  File \"/usr/local/lib/python2.7/dist-packages/IPython/extensions/autoreload.py\", line 247, in check\n",
      "    superreload(m, reload, self.old_objects)\n",
      "ImportError: cannot import name normalize_axis_index\n",
      "]\n",
      "[autoreload of numpy.matrixlib failed: Traceback (most recent call last):\n",
      "  File \"/usr/local/lib/python2.7/dist-packages/IPython/extensions/autoreload.py\", line 247, in check\n",
      "    superreload(m, reload, self.old_objects)\n",
      "NameError: name 'defmatrix' is not defined\n",
      "]\n",
      "[autoreload of scipy._lib._numpy_compat failed: Traceback (most recent call last):\n",
      "  File \"/usr/local/lib/python2.7/dist-packages/IPython/extensions/autoreload.py\", line 247, in check\n",
      "    superreload(m, reload, self.old_objects)\n",
      "AttributeError: 'module' object has no attribute 'polynomial'\n",
      "]\n",
      "[autoreload of numpy.lib.function_base failed: Traceback (most recent call last):\n",
      "  File \"/usr/local/lib/python2.7/dist-packages/IPython/extensions/autoreload.py\", line 247, in check\n",
      "    superreload(m, reload, self.old_objects)\n",
      "ImportError: cannot import name AxisError\n",
      "]\n",
      "[autoreload of numpy.polynomial.hermite failed: Traceback (most recent call last):\n",
      "  File \"/usr/local/lib/python2.7/dist-packages/IPython/extensions/autoreload.py\", line 247, in check\n",
      "    superreload(m, reload, self.old_objects)\n",
      "ImportError: cannot import name normalize_axis_index\n",
      "]\n",
      "/usr/local/lib/python2.7/dist-packages/ipykernel/__main__.py:4: RuntimeWarning: invalid value encountered in less\n"
     ]
    }
   ],
   "source": [
    "CESTA = pd.read_csv(\"../MiscData/CESTACityData.csv\")\n",
    "CESTA[\"2010\"] = pd.to_numeric(CESTA[\"2010\"],np.float64)\n",
    "c_mat = np.array(CESTA[[str(y) for y in years]])\n",
    "c_mat[c_mat < 2500] = np.nan\n",
    "c_mat[c_mat==0] = np.nan\n"
   ]
  },
  {
   "cell_type": "code",
   "execution_count": 665,
   "metadata": {
    "collapsed": false,
    "deletable": true,
    "editable": true
   },
   "outputs": [
    {
     "name": "stdout",
     "output_type": "stream",
     "text": [
      "62224\n",
      "333376\n"
     ]
    },
    {
     "name": "stderr",
     "output_type": "stream",
     "text": [
      "/usr/local/lib/python2.7/dist-packages/ipykernel/__main__.py:1: RuntimeWarning: invalid value encountered in greater\n",
      "  if __name__ == '__main__':\n",
      "/usr/local/lib/python2.7/dist-packages/ipykernel/__main__.py:2: RuntimeWarning: invalid value encountered in greater\n",
      "  from ipykernel import kernelapp as app\n"
     ]
    }
   ],
   "source": [
    "print sum(sum(c_mat>0))\n",
    "print sum(sum(array>0))"
   ]
  },
  {
   "cell_type": "markdown",
   "metadata": {
    "deletable": true,
    "editable": true
   },
   "source": [
    "Now I want to load the data from the wikipedia editor DemocraticLuntz, which is not the same as the full wikipedia set."
   ]
  },
  {
   "cell_type": "code",
   "execution_count": 576,
   "metadata": {
    "collapsed": false,
    "deletable": true,
    "editable": true
   },
   "outputs": [
    {
     "name": "stdout",
     "output_type": "stream",
     "text": [
      "['AKPlaces.csv', 'ALPlaces.csv', 'ALPop.csv', 'ARPlaces.csv', 'ARPlaces_a.csv', 'AZPlaces.csv', 'CAPlaces.csv', 'CAPlaces_a.csv', 'COPlaces.csv', 'COPlaces_a.csv', 'CTInc.csv', 'CTPlaces.csv', 'Counties2014.csv', 'DEPlaces.csv', 'FLPlaces.csv', 'FLPlaces_a.csv', 'GAPlaces.csv', 'GAPlaces_a.csv', 'IAPlaces.csv', 'IDPlaces.csv', 'IDPlaces_a.csv', 'ILPlaces.csv', 'ILPlaces_a.csv', 'INPlaces.csv', 'KSPlaces.csv', 'KYPlaces.csv', 'KYPlaces_a.csv', 'LAPlaces.csv', 'LAPlaces_a.csv', 'MAInc.csv', 'MAPlaces.csv', 'MDPlaces.csv', 'MDPlaces_a.csv', 'MEPlaces.csv', 'MIPlaces.csv', 'MNPlaces.csv', 'MOPlaces.csv', 'MSPlaces.csv', 'MSPlaces_a.csv', 'MTPlaces.csv', 'NCPlaces.csv', 'NCPlaces_a.csv', 'NDInc.csv', 'NEPlaces.csv', 'NHAll.csv', 'NHInc.csv', 'NJAll.csv', 'NJPlaces.csv', 'NMPlaces.csv', 'NVPlaces.csv', 'NYAll.csv', 'NYPlaces.csv', 'OHPlaces.csv', 'OKPlaces.csv', 'ORPlaces.csv', 'ORPlaces_a.csv', 'PAAll.csv', 'PAPlaces.csv', 'RIAll.csv', 'RIPlaces.csv', 'SCPlaces.csv', 'SDPlaces.csv', 'TNPlaces.csv', 'TXPlaces.csv', 'UTPlaces.csv', 'VAPlaces.csv', 'VTIncPlaces.csv', 'VTPlaces.csv', 'VTPlaces1.csv', 'WAInc.csv', 'WIPlaces.csv', 'WVPlaces.csv', 'WYPlaces.csv']\n",
      "\n",
      "There are multiple files for some places. I use the longer one, because it has more populations entered in.\n",
      "(Inspecting differences makes this clear.)\n",
      "\n",
      "['AKPlaces.csv', 'ALPlaces.csv', 'ARPlaces.csv', 'AZPlaces.csv', 'CAPlaces.csv', 'COPlaces.csv', 'CTInc.csv', 'Counties2014.csv', 'DEPlaces.csv', 'FLPlaces.csv', 'GAPlaces.csv', 'IAPlaces.csv', 'IDPlaces.csv', 'ILPlaces.csv', 'INPlaces.csv', 'KSPlaces.csv', 'KYPlaces.csv', 'LAPlaces.csv', 'MAInc.csv', 'MDPlaces.csv', 'MEPlaces.csv', 'MIPlaces.csv', 'MNPlaces.csv', 'MOPlaces.csv', 'MSPlaces.csv', 'MTPlaces.csv', 'NCPlaces.csv', 'NDInc.csv', 'NEPlaces.csv', 'NHAll.csv', 'NJAll.csv', 'NMPlaces.csv', 'NVPlaces.csv', 'NYAll.csv', 'OHPlaces.csv', 'OKPlaces.csv', 'ORPlaces.csv', 'PAAll.csv', 'RIAll.csv', 'SCPlaces.csv', 'SDPlaces.csv', 'TNPlaces.csv', 'TXPlaces.csv', 'UTPlaces.csv', 'VAPlaces.csv', 'VTIncPlaces.csv', 'WAInc.csv', 'WIPlaces.csv', 'WVPlaces.csv', 'WYPlaces.csv']\n"
     ]
    }
   ],
   "source": [
    "import os\n",
    "fs = [f for f in os.listdir(\"wiki_census/\") if f.endswith(\".csv\")]\n",
    "fs.sort()\n",
    "print fs\n",
    "print \"\"\"\n",
    "There are multiple files for some places. I use the longer one, because it has more populations entered in.\n",
    "(Inspecting differences makes this clear.)\n",
    "\"\"\"\n",
    "\n",
    "master_list = []\n",
    "last = \"XXf\"\n",
    "for f in fs:\n",
    "    if f[:2]!=last[:2]:\n",
    "        master_list.append(f)\n",
    "    else:\n",
    "        # which is bigger?\n",
    "        if os.path.getsize(\"wiki_census/\" + master_list[-1]) > os.path.getsize(\"wiki_census/\" +f):\n",
    "            continue\n",
    "        else:\n",
    "            continue\n",
    "    last = f\n",
    "print master_list"
   ]
  },
  {
   "cell_type": "code",
   "execution_count": 659,
   "metadata": {
    "collapsed": false,
    "deletable": true,
    "editable": true
   },
   "outputs": [],
   "source": [
    "all_together = pd.DataFrame([])\n",
    "for f in master_list:\n",
    "    new_data = pd.read_csv(\"wiki_census/\" + f,na_values = [\"-\",\"(X)\",\" \"])\n",
    "    new_data[\"state\"] = f[:2]\n",
    "    all_together = all_together.append(new_data)\n",
    "\n",
    "year_frame = all_together[[str(y) for y in years]]\n",
    "for y in years:\n",
    "    # God I hate pandas because I don't know every\n",
    "    pass\n",
    "    #year_frame[str(y)] = pd.to_numeric(year_frame[str(y)])\n",
    "jacob_mat = np.array(year_frame[[str(y) for y in years]])\n",
    "jacob_mat[jacob_mat==0] = np.nan\n"
   ]
  },
  {
   "cell_type": "code",
   "execution_count": 663,
   "metadata": {
    "collapsed": false,
    "deletable": true,
    "editable": true
   },
   "outputs": [
    {
     "name": "stderr",
     "output_type": "stream",
     "text": [
      "/usr/local/lib/python2.7/dist-packages/ipykernel/__main__.py:1: RuntimeWarning: invalid value encountered in greater\n",
      "  if __name__ == '__main__':\n"
     ]
    },
    {
     "data": {
      "text/plain": [
       "237707"
      ]
     },
     "execution_count": 663,
     "metadata": {},
     "output_type": "execute_result"
    }
   ],
   "source": [
    "sum(sum(jacob_mat>0))"
   ]
  },
  {
   "cell_type": "markdown",
   "metadata": {
    "deletable": true,
    "editable": true
   },
   "source": [
    "There's a straightforward disagreement in at least this one case."
   ]
  },
  {
   "cell_type": "code",
   "execution_count": 500,
   "metadata": {
    "collapsed": false,
    "deletable": true,
    "editable": true
   },
   "outputs": [
    {
     "data": {
      "text/plain": [
       "[(nan, nan),\n",
       " (nan, nan),\n",
       " (nan, nan),\n",
       " (nan, nan),\n",
       " (1192.0, nan),\n",
       " (1280.0, nan),\n",
       " (2403.0, nan),\n",
       " (2855.0, nan),\n",
       " (2939.0, nan),\n",
       " (3282.0, 2566.0),\n",
       " (4156.0, 3076.0),\n",
       " (4227.0, 6041.0),\n",
       " (5661.0, 6448.0),\n",
       " (6061.0, 7132.0),\n",
       " (7166.0, 7505.0),\n",
       " (7926.0, 7786.0),\n",
       " (8177.0, 7673.0),\n",
       " (8567.0, 7906.0),\n",
       " (8899.0, 7431.0),\n",
       " (9133.0, 8976.0),\n",
       " (8576.0, 8127.0),\n",
       " (8175.0, 8175.0),\n",
       " (8644.0, 8644.0)]"
      ]
     },
     "execution_count": 500,
     "metadata": {},
     "output_type": "execute_result"
    }
   ],
   "source": [
    "a = frame[frame[\"title\"]==\"Princeton, Indiana\"].index[0]\n",
    "b = CESTA[CESTA.CityST == \"Princeton, IN\"].index[0]\n",
    "zip(\n",
    "    list(array[a]),\n",
    "    list(c_mat[b])\n",
    ")"
   ]
  },
  {
   "cell_type": "markdown",
   "metadata": {
    "deletable": true,
    "editable": true
   },
   "source": [
    "Indana.gov says:\n",
    "    6,041\t6,448\t7,132\t7,505\t7,786\t7,673\t7,906\t7,431\t8,976\t8,127\t8,175\t8,644\n",
    "    \n",
    "IOW, agrees with the CESTA data.\n",
    "So does the Census report.\n",
    "So does jacobmas's data. It seems this is an anonymous wikipedia editor in 2007, who put in \n",
    "[an absurdly high current population](https://en.wikipedia.org/w/index.php?title=Princeton,_Indiana&diff=187475063&oldid=183213818) and just a whole bunch of bad (made-up?) numbers from before.'\n",
    "|1850= 806\n",
    "|1860= 1397\n",
    "|1870= 1847\n",
    "|1880= 2566\n",
    "|1890= 3076\n",
    "|1900= 6041\n",
    "|1910= 6448\n",
    "|1920= 7132\n",
    "|1930= 7505\n",
    "|1940= 7786\n",
    "|1950= 7673\n",
    "|1960= 7906\n",
    "|1970= 7431\n",
    "|1980= 8976\n",
    "|1990= 8127\n",
    "|2000= 8175\n",
    "|2010= 8644\n",
    "|2020= 8608\n"
   ]
  },
  {
   "cell_type": "markdown",
   "metadata": {
    "deletable": true,
    "editable": true
   },
   "source": [
    "Save to disk"
   ]
  },
  {
   "cell_type": "markdown",
   "metadata": {
    "deletable": true,
    "editable": true
   },
   "source": [
    "Confirm that requiring at least 3 matches produces no hash collisions"
   ]
  },
  {
   "cell_type": "code",
   "execution_count": 696,
   "metadata": {
    "collapsed": true,
    "deletable": true,
    "editable": true
   },
   "outputs": [],
   "source": [
    "c_self = match_matrices(c_mat,c_mat,2)"
   ]
  },
  {
   "cell_type": "code",
   "execution_count": 697,
   "metadata": {
    "collapsed": false,
    "deletable": true,
    "editable": true
   },
   "outputs": [
    {
     "name": "stdout",
     "output_type": "stream",
     "text": [
      "1 [1, 2]\n",
      "2 [1, 2]\n",
      "570 [570, 8227]\n",
      "5415 [5415, 5416]\n",
      "5416 [5415, 5416]\n",
      "5426 [5426, 5465]\n",
      "5465 [5426, 5465]\n",
      "8164 [8164, 8165]\n",
      "8165 [8164, 8165]\n",
      "8227 [570, 8227]\n"
     ]
    }
   ],
   "source": [
    "for row,matches in c_self:\n",
    "    try:\n",
    "        if len(matches) != 1:\n",
    "            print row,matches\n",
    "    except:\n",
    "        continue"
   ]
  },
  {
   "cell_type": "markdown",
   "metadata": {
    "deletable": true,
    "editable": true
   },
   "source": [
    "It does not. The only collision is lines 1 and 2, because the Lahnmeyer data rounds to 100 for Alaskan towns. 8227 and 570 are both Lake Elsinore, CA. "
   ]
  },
  {
   "cell_type": "code",
   "execution_count": 699,
   "metadata": {
    "collapsed": false,
    "deletable": true,
    "editable": true
   },
   "outputs": [
    {
     "data": {
      "text/plain": [
       "ID                                               8832\n",
       "ST                                                 CA\n",
       "City                     Elsinore (aka Lake Elsinore)\n",
       "CityST               Elsinore (aka Lake Elsinore), CA\n",
       "1790                                              NaN\n",
       "1800                                              NaN\n",
       "1810                                              NaN\n",
       "1820                                              NaN\n",
       "1830                                              NaN\n",
       "1840                                              NaN\n",
       "1850                                                0\n",
       "1860                                                0\n",
       "1870                                                0\n",
       "1880                                                0\n",
       "1890                                                0\n",
       "1900                                              279\n",
       "1910                                              488\n",
       "1920                                              633\n",
       "1930                                             1350\n",
       "1940                                             1552\n",
       "1950                                             2068\n",
       "1960                                             2432\n",
       "1970                                             3530\n",
       "1980                                                0\n",
       "1990                                                0\n",
       "2000                                                0\n",
       "2010                                                0\n",
       "STPLFIPS_2010                                     NaN\n",
       "Name_2010                                         NaN\n",
       "County                                      Riverside\n",
       "LAT                                               NaN\n",
       "LON                                               NaN\n",
       "LAT_BING                             33.6675682067871\n",
       "LON_BING                                     -117.328\n",
       "City Source              California State Data Center\n",
       "Population Source        California State Data Center\n",
       "Place Type                                        NaN\n",
       "County_Name                                 Riverside\n",
       "Name: 8227, dtype: object"
      ]
     },
     "execution_count": 699,
     "metadata": {},
     "output_type": "execute_result"
    }
   ],
   "source": [
    "CESTA.iloc[8227]"
   ]
  },
  {
   "cell_type": "code",
   "execution_count": null,
   "metadata": {
    "collapsed": false,
    "deletable": true,
    "editable": true
   },
   "outputs": [],
   "source": [
    "total_pop = [(title,sum([p for (y,p) in pops]), pops[-2][1], length) for title,pops,length in older]\n",
    "import pandas as pd\n",
    "total_pop.sort(key = lambda x: x[1],reverse=True)\n",
    "frame = pd.DataFrame(total_pop,columns=[\"title\",\"total\",\"last\",\"length\"])\n",
    "frame.to_csv(\"city_pops.csv\")"
   ]
  },
  {
   "cell_type": "code",
   "execution_count": null,
   "metadata": {
    "collapsed": false,
    "deletable": true,
    "editable": true
   },
   "outputs": [],
   "source": [
    "import random\n",
    "import shelve\n",
    "\n",
    "def keyer(x):\n",
    "    return len(x[1])\n",
    "older.sort(key = keyer,reverse=True)\n",
    "[(o[0],len(o[1])) for o in older[:25]]"
   ]
  },
  {
   "cell_type": "code",
   "execution_count": null,
   "metadata": {
    "collapsed": false,
    "deletable": true,
    "editable": true
   },
   "outputs": [],
   "source": [
    "import random\n",
    "import shelve\n",
    "\n",
    "def keyer(x):\n",
    "    return len(x[1])\n",
    "older.sort(key = keyer,reverse=True)\n",
    "[(o[0],len(o[1])) for o in older[:25]]"
   ]
  },
  {
   "cell_type": "code",
   "execution_count": null,
   "metadata": {
    "collapsed": false,
    "deletable": true,
    "editable": true
   },
   "outputs": [],
   "source": [
    "[(c[0],c[1]) for c in older if c[0]==\"Connecticut\"]"
   ]
  },
  {
   "cell_type": "code",
   "execution_count": null,
   "metadata": {
    "collapsed": false,
    "deletable": true,
    "editable": true
   },
   "outputs": [],
   "source": [
    "[a.title for a in cache if \"Brooklyn\" in a.title]"
   ]
  },
  {
   "cell_type": "code",
   "execution_count": null,
   "metadata": {
    "collapsed": true,
    "deletable": true,
    "editable": true
   },
   "outputs": [],
   "source": [
    "foo = wikiparser.WikipediaArticle(\"London\")"
   ]
  },
  {
   "cell_type": "code",
   "execution_count": null,
   "metadata": {
    "collapsed": true,
    "deletable": true,
    "editable": true
   },
   "outputs": [],
   "source": [
    "import mwparserfromhell"
   ]
  },
  {
   "cell_type": "code",
   "execution_count": null,
   "metadata": {
    "collapsed": false,
    "deletable": true,
    "editable": true
   },
   "outputs": [],
   "source": [
    "self = wikiparser.WikipediaArticle(\"Chicago\")"
   ]
  },
  {
   "cell_type": "code",
   "execution_count": null,
   "metadata": {
    "collapsed": false,
    "deletable": true,
    "editable": true
   },
   "outputs": [],
   "source": [
    "foo.mwparse()"
   ]
  },
  {
   "cell_type": "code",
   "execution_count": null,
   "metadata": {
    "collapsed": false,
    "deletable": true,
    "editable": true
   },
   "outputs": [],
   "source": [
    "import random\n",
    "random.sample(cache,1)[0].historical_pops()"
   ]
  }
 ],
 "metadata": {
  "kernelspec": {
   "display_name": "Python 2",
   "language": "python",
   "name": "python2"
  },
  "language_info": {
   "codemirror_mode": {
    "name": "ipython",
    "version": 2
   },
   "file_extension": ".py",
   "mimetype": "text/x-python",
   "name": "python",
   "nbconvert_exporter": "python",
   "pygments_lexer": "ipython2",
   "version": "2.7.12"
  }
 },
 "nbformat": 4,
 "nbformat_minor": 0
}
