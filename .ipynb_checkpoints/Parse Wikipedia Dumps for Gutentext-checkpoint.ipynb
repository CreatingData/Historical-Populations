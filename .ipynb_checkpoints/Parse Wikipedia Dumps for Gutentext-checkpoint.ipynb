{
 "cells": [
  {
   "cell_type": "code",
   "execution_count": 2,
   "metadata": {
    "collapsed": false,
    "deletable": true,
    "editable": true
   },
   "outputs": [],
   "source": [
    "import wikiparser\n",
    "from wikiparser import WikipediaArticle\n",
    "%load_ext autoreload\n",
    "%autoreload 2"
   ]
  },
  {
   "cell_type": "code",
   "execution_count": 6,
   "metadata": {
    "collapsed": false,
    "deletable": true,
    "editable": true
   },
   "outputs": [
    {
     "name": "stdout",
     "output_type": "stream",
     "text": [
      "0 matches in 10000 articles\n",
      "0 matches in 20000 articles\n",
      "0 matches in 30000 articles\n",
      "0 matches in 40000 articles\n",
      "0 matches in 50000 articles\n",
      "0 matches in 60000 articles\n",
      "0 matches in 70000 articles\n",
      "0 matches in 80000 articles\n"
     ]
    },
    {
     "ename": "KeyboardInterrupt",
     "evalue": "",
     "output_type": "error",
     "traceback": [
      "\u001b[0;31m\u001b[0m",
      "\u001b[0;31mKeyboardInterrupt\u001b[0mTraceback (most recent call last)",
      "\u001b[0;32m<ipython-input-6-7689c4da1b35>\u001b[0m in \u001b[0;36m<module>\u001b[0;34m()\u001b[0m\n\u001b[1;32m      5\u001b[0m \u001b[0mparser\u001b[0m \u001b[0;34m=\u001b[0m \u001b[0mwikiparser\u001b[0m\u001b[0;34m.\u001b[0m\u001b[0mWikipediaParser\u001b[0m\u001b[0;34m(\u001b[0m\u001b[0;34m\"/home/bschmidt/sources/wikipedia.bz2\"\u001b[0m\u001b[0;34m)\u001b[0m\u001b[0;34m\u001b[0m\u001b[0m\n\u001b[1;32m      6\u001b[0m \u001b[0;31m#parser = wikiparser.WikipediaParser(\"/Users/bschmidt/Downloads/Unconfirmed 628142.crdownload\")\u001b[0m\u001b[0;34m\u001b[0m\u001b[0;34m\u001b[0m\u001b[0m\n\u001b[0;32m----> 7\u001b[0;31m \u001b[0;32mfor\u001b[0m \u001b[0mi\u001b[0m\u001b[0;34m,\u001b[0m\u001b[0marticle\u001b[0m \u001b[0;32min\u001b[0m \u001b[0menumerate\u001b[0m\u001b[0;34m(\u001b[0m\u001b[0mparser\u001b[0m\u001b[0;34m)\u001b[0m\u001b[0;34m:\u001b[0m\u001b[0;34m\u001b[0m\u001b[0m\n\u001b[0m\u001b[1;32m      8\u001b[0m     \u001b[0;32mif\u001b[0m \u001b[0marticle\u001b[0m\u001b[0;34m.\u001b[0m\u001b[0mtitle\u001b[0m \u001b[0;34m==\u001b[0m \u001b[0;34m\"A Tale of Two Cities\"\u001b[0m\u001b[0;34m:\u001b[0m\u001b[0;34m\u001b[0m\u001b[0m\n\u001b[1;32m      9\u001b[0m         \u001b[0;32mbreak\u001b[0m\u001b[0;34m\u001b[0m\u001b[0m\n",
      "\u001b[0;32m/home/bschmidt/Dropbox/Gannett/wikipedia_population/wikiparser.py\u001b[0m in \u001b[0;36m__iter__\u001b[0;34m(self)\u001b[0m\n\u001b[1;32m     40\u001b[0m \u001b[0;34m\u001b[0m\u001b[0m\n\u001b[1;32m     41\u001b[0m     \u001b[0;32mdef\u001b[0m \u001b[0m__iter__\u001b[0m\u001b[0;34m(\u001b[0m\u001b[0mself\u001b[0m\u001b[0;34m)\u001b[0m\u001b[0;34m:\u001b[0m\u001b[0;34m\u001b[0m\u001b[0m\n\u001b[0;32m---> 42\u001b[0;31m         \u001b[0;32mfor\u001b[0m \u001b[0mpage\u001b[0m \u001b[0;32min\u001b[0m \u001b[0mself\u001b[0m\u001b[0;34m.\u001b[0m\u001b[0mpage_yielder\u001b[0m\u001b[0;34m(\u001b[0m\u001b[0;34m)\u001b[0m\u001b[0;34m:\u001b[0m\u001b[0;34m\u001b[0m\u001b[0m\n\u001b[0m\u001b[1;32m     43\u001b[0m             \u001b[0mtitle\u001b[0m \u001b[0;34m=\u001b[0m \u001b[0mNone\u001b[0m\u001b[0;34m\u001b[0m\u001b[0m\n\u001b[1;32m     44\u001b[0m             \u001b[0mid\u001b[0m \u001b[0;34m=\u001b[0m \u001b[0mNone\u001b[0m\u001b[0;34m\u001b[0m\u001b[0m\n",
      "\u001b[0;32m/home/bschmidt/Dropbox/Gannett/wikipedia_population/wikiparser.py\u001b[0m in \u001b[0;36mpage_yielder\u001b[0;34m(self)\u001b[0m\n\u001b[1;32m     26\u001b[0m         \u001b[0mprinting\u001b[0m \u001b[0;34m=\u001b[0m \u001b[0mFalse\u001b[0m\u001b[0;34m\u001b[0m\u001b[0m\n\u001b[1;32m     27\u001b[0m         \u001b[0mqueue\u001b[0m \u001b[0;34m=\u001b[0m \u001b[0;34m[\u001b[0m\u001b[0;34m]\u001b[0m\u001b[0;34m\u001b[0m\u001b[0m\n\u001b[0;32m---> 28\u001b[0;31m         \u001b[0;32mfor\u001b[0m \u001b[0mline\u001b[0m \u001b[0;32min\u001b[0m \u001b[0mself\u001b[0m\u001b[0;34m.\u001b[0m\u001b[0mf\u001b[0m\u001b[0;34m:\u001b[0m\u001b[0;34m\u001b[0m\u001b[0m\n\u001b[0m\u001b[1;32m     29\u001b[0m             \u001b[0;32mif\u001b[0m \u001b[0mline\u001b[0m\u001b[0;34m==\u001b[0m\u001b[0;34m\"  <page>\\n\"\u001b[0m\u001b[0;34m:\u001b[0m\u001b[0;34m\u001b[0m\u001b[0m\n\u001b[1;32m     30\u001b[0m                 \u001b[0mprinting\u001b[0m \u001b[0;34m=\u001b[0m \u001b[0mTrue\u001b[0m\u001b[0;34m\u001b[0m\u001b[0m\n",
      "\u001b[0;31mKeyboardInterrupt\u001b[0m: "
     ]
    }
   ],
   "source": [
    "cache = []\n",
    "wtf = []\n",
    "last_print = 0\n",
    "titles = set([\"A Tale of Two Cities\", \"Little Dorrit\", \"Hard Times\", \"Bleak House\", \"Oliver Twist\", \"David Copperfield\"])\n",
    "parser = wikiparser.WikipediaParser(\"/home/bschmidt/sources/wikipedia.bz2\")\n",
    "#parser = wikiparser.WikipediaParser(\"/Users/bschmidt/Downloads/Unconfirmed 628142.crdownload\")\n",
    "for i,article in enumerate(parser):\n",
    "    if article.title in titles:\n",
    "        break\n",
    "    \n",
    "    if i - last_print >= 10000:\n",
    "        print \"{} matches in {} articles\".format(len(cache),i)\n",
    "        last_print = i\n"
   ]
  },
  {
   "cell_type": "code",
   "execution_count": 7,
   "metadata": {
    "collapsed": false
   },
   "outputs": [
    {
     "data": {
      "text/plain": [
       "'Hartland Township, Michigan'"
      ]
     },
     "execution_count": 7,
     "metadata": {},
     "output_type": "execute_result"
    }
   ],
   "source": [
    "article.title"
   ]
  },
  {
   "cell_type": "code",
   "execution_count": 89,
   "metadata": {
    "collapsed": false,
    "deletable": true,
    "editable": true
   },
   "outputs": [],
   "source": [
    "#Commenting out so as not to accidentally run\n",
    "#import cPickle as pickle\n",
    "#pickle.dump(cache,open(\"cache.pickle\",\"w\"))"
   ]
  },
  {
   "cell_type": "code",
   "execution_count": 2,
   "metadata": {
    "collapsed": false,
    "deletable": true,
    "editable": true
   },
   "outputs": [],
   "source": [
    "import cPickle as pickle\n",
    "cache = pickle.load(open(\"cache.pickle\"))"
   ]
  },
  {
   "cell_type": "code",
   "execution_count": 6,
   "metadata": {
    "collapsed": false,
    "deletable": true,
    "editable": true
   },
   "outputs": [
    {
     "data": {
      "text/plain": [
       "(40.26305555555555, -85.6763888888889)"
      ]
     },
     "execution_count": 6,
     "metadata": {},
     "output_type": "execute_result"
    }
   ],
   "source": [
    "art = cache[10]\n",
    "art.coords()"
   ]
  },
  {
   "cell_type": "code",
   "execution_count": 9,
   "metadata": {
    "collapsed": false,
    "deletable": true,
    "editable": true
   },
   "outputs": [],
   "source": [
    "years = range(1790,2020,10)"
   ]
  },
  {
   "cell_type": "code",
   "execution_count": 22,
   "metadata": {
    "collapsed": false,
    "deletable": true,
    "editable": true
   },
   "outputs": [
    {
     "name": "stdout",
     "output_type": "stream",
     "text": [
      "BAD COORDS: ['42', '50', '', 'N', '78', '5', '', 'W', 'region:U'] for Wyoming County, New York\n",
      "BAD COORDS: ['34.803', '-86.967}}.\\n* [[Ric'] for Limestone County, Alabama\n",
      "BAD COORDS: ['37.53139', 'N', '88.36833', 'W}}) '] for Hardin County, Illinois\n",
      "BAD COORDS: ['region:US-CT', 'format=dms', 'd'] for Enfield, Connecticut\n",
      "BAD COORDS: ['format=dms', 'display=inline'] for Gray, Georgia\n",
      "BAD COORDS: ['region:US-OK', 'format=dms', 'd'] for Hastings, Oklahoma\n",
      "BAD COORDS: ['region:US-OK_type:city', 'fo'] for Morrison, Oklahoma\n",
      "BAD COORDS: ['36', '-87', 'region:US-TN', 'displ'] for Clarksville, Tennessee\n",
      "BAD COORDS: ['40.991681', '0', 'region:US_typ'] for Harrington Park, New Jersey\n",
      "BAD COORDS: ['region:US-OK', 'format=dms', 'd'] for Oaks, Oklahoma\n",
      "BAD COORDS: ['28', '-82.3', 'region:US-FL', 'dis'] for Tampa Bay Area\n",
      "BAD COORDS: ['44.92797', '-93.22311}}\\n', 'ita'] for Hiawatha, Minneapolis\n"
     ]
    }
   ],
   "source": [
    "rows = []\n",
    "\n",
    "for article in cache:\n",
    "    out = {\"title\":article.title,\"id\":article.id}\n",
    "    out[\"lat\"],out[\"lon\"] = article.coords()\n",
    "    for year in years:\n",
    "        out['y' + str(year)] = 0\n",
    "    for year,population in article.town_pops():\n",
    "        year = 'y' + str(year)\n",
    "        if year in out: # Only store for census years\n",
    "            out[year] = population\n",
    "    rows.append(out)"
   ]
  },
  {
   "cell_type": "code",
   "execution_count": 33,
   "metadata": {
    "collapsed": false,
    "deletable": true,
    "editable": true
   },
   "outputs": [],
   "source": [
    "import pandas as pd\n",
    "pd.DataFrame(rows).to_csv(\"/home/bschmidt/9943478/wiki.csv\")"
   ]
  },
  {
   "cell_type": "code",
   "execution_count": 30,
   "metadata": {
    "collapsed": false,
    "deletable": true,
    "editable": true
   },
   "outputs": [
    {
     "ename": "AttributeError",
     "evalue": "'WikipediaArticle' object has no attribute 'coords'",
     "output_type": "error",
     "traceback": [
      "\u001b[0;31m\u001b[0m",
      "\u001b[0;31mAttributeError\u001b[0mTraceback (most recent call last)",
      "\u001b[0;32m<ipython-input-30-4130ad4e3def>\u001b[0m in \u001b[0;36m<module>\u001b[0;34m()\u001b[0m\n\u001b[1;32m      2\u001b[0m \u001b[0;32mfor\u001b[0m \u001b[0marticle\u001b[0m \u001b[0;32min\u001b[0m \u001b[0mcache\u001b[0m\u001b[0;34m:\u001b[0m\u001b[0;34m\u001b[0m\u001b[0m\n\u001b[1;32m      3\u001b[0m     \u001b[0mpops\u001b[0m \u001b[0;34m=\u001b[0m \u001b[0marticle\u001b[0m\u001b[0;34m.\u001b[0m\u001b[0mtown_pops\u001b[0m\u001b[0;34m(\u001b[0m\u001b[0;34m)\u001b[0m\u001b[0;34m\u001b[0m\u001b[0m\n\u001b[0;32m----> 4\u001b[0;31m     \u001b[0mcoords\u001b[0m \u001b[0;34m=\u001b[0m \u001b[0marticle\u001b[0m\u001b[0;34m.\u001b[0m\u001b[0mcoords\u001b[0m\u001b[0;34m(\u001b[0m\u001b[0;34m)\u001b[0m\u001b[0;34m\u001b[0m\u001b[0m\n\u001b[0m\u001b[1;32m      5\u001b[0m     \u001b[0;32mif\u001b[0m \u001b[0mlen\u001b[0m\u001b[0;34m(\u001b[0m\u001b[0mpops\u001b[0m\u001b[0;34m)\u001b[0m \u001b[0;34m>\u001b[0m \u001b[0;36m1\u001b[0m\u001b[0;34m:\u001b[0m\u001b[0;34m\u001b[0m\u001b[0m\n\u001b[1;32m      6\u001b[0m         \u001b[0molder\u001b[0m\u001b[0;34m.\u001b[0m\u001b[0mappend\u001b[0m\u001b[0;34m(\u001b[0m\u001b[0;34m[\u001b[0m\u001b[0marticle\u001b[0m\u001b[0;34m.\u001b[0m\u001b[0mtitle\u001b[0m\u001b[0;34m,\u001b[0m\u001b[0mpops\u001b[0m\u001b[0;34m,\u001b[0m\u001b[0mlen\u001b[0m\u001b[0;34m(\u001b[0m\u001b[0marticle\u001b[0m\u001b[0;34m.\u001b[0m\u001b[0mtext\u001b[0m\u001b[0;34m)\u001b[0m\u001b[0;34m]\u001b[0m\u001b[0;34m)\u001b[0m\u001b[0;34m\u001b[0m\u001b[0m\n",
      "\u001b[0;31mAttributeError\u001b[0m: 'WikipediaArticle' object has no attribute 'coords'"
     ]
    }
   ],
   "source": [
    "older = []\n",
    "for article in cache:\n",
    "    pops = article.town_pops()\n",
    "    coords = article.coords()\n",
    "    if len(pops) > 1:\n",
    "        older.append([article.title,pops,len(article.text)])\n",
    "print len(older)\n",
    "print len(cache)"
   ]
  },
  {
   "cell_type": "code",
   "execution_count": null,
   "metadata": {
    "collapsed": true,
    "deletable": true,
    "editable": true
   },
   "outputs": [],
   "source": []
  },
  {
   "cell_type": "markdown",
   "metadata": {
    "deletable": true,
    "editable": true
   },
   "source": [
    "Save to disk"
   ]
  },
  {
   "cell_type": "code",
   "execution_count": 26,
   "metadata": {
    "collapsed": false,
    "deletable": true,
    "editable": true
   },
   "outputs": [],
   "source": [
    "total_pop = [(title,sum([p for (y,p) in pops]), pops[-2][1], length) for title,pops,length in older]\n",
    "import pandas as pd\n",
    "total_pop.sort(key = lambda x: x[1],reverse=True)\n",
    "frame = pd.DataFrame(total_pop,columns=[\"title\",\"total\",\"last\",\"length\"])\n",
    "frame.to_csv(\"city_pops.csv\")"
   ]
  },
  {
   "cell_type": "code",
   "execution_count": 4,
   "metadata": {
    "collapsed": false,
    "deletable": true,
    "editable": true
   },
   "outputs": [
    {
     "data": {
      "text/plain": [
       "[('Demography of the United States', 36),\n",
       " ('United States', 34),\n",
       " ('Manhattan', 33),\n",
       " ('New York City', 30),\n",
       " ('Newtown, Connecticut', 28),\n",
       " ('Pittsburgh', 26),\n",
       " ('Philadelphia', 26),\n",
       " ('New Haven, Connecticut', 26),\n",
       " ('New Orleans', 26),\n",
       " ('Salem, Massachusetts', 26),\n",
       " ('Danbury, Connecticut', 26),\n",
       " ('Boston', 26),\n",
       " ('Cambridge, Massachusetts', 24),\n",
       " ('Waltham, Massachusetts', 24),\n",
       " ('Newton, Massachusetts', 24),\n",
       " ('Pittsfield, Massachusetts', 24),\n",
       " ('Attleboro, Massachusetts', 24),\n",
       " ('New Bedford, Massachusetts', 24),\n",
       " ('Taunton, Massachusetts', 24),\n",
       " ('Beverly, Massachusetts', 24),\n",
       " ('Gloucester, Massachusetts', 24),\n",
       " ('Haverhill, Massachusetts', 24),\n",
       " ('Lynn, Massachusetts', 24),\n",
       " ('Newburyport, Massachusetts', 24),\n",
       " ('Westfield, Massachusetts', 24)]"
      ]
     },
     "execution_count": 4,
     "metadata": {},
     "output_type": "execute_result"
    }
   ],
   "source": [
    "import random\n",
    "import shelve\n",
    "\n",
    "def keyer(x):\n",
    "    return len(x[1])\n",
    "older.sort(key = keyer,reverse=True)\n",
    "[(o[0],len(o[1])) for o in older[:25]]"
   ]
  },
  {
   "cell_type": "code",
   "execution_count": 86,
   "metadata": {
    "collapsed": false,
    "deletable": true,
    "editable": true
   },
   "outputs": [
    {
     "data": {
      "text/plain": [
       "[('Demography of the United States', 36),\n",
       " ('Manhattan', 33),\n",
       " ('New York City', 30),\n",
       " ('Pittsburgh', 26),\n",
       " ('Philadelphia', 26),\n",
       " ('New Haven, Connecticut', 26),\n",
       " ('New Orleans', 26),\n",
       " ('Salem, Massachusetts', 26),\n",
       " ('Danbury, Connecticut', 26),\n",
       " ('Cambridge, Massachusetts', 24),\n",
       " ('Waltham, Massachusetts', 24),\n",
       " ('Newton, Massachusetts', 24),\n",
       " ('Pittsfield, Massachusetts', 24),\n",
       " ('Attleboro, Massachusetts', 24),\n",
       " ('New Bedford, Massachusetts', 24),\n",
       " ('Taunton, Massachusetts', 24),\n",
       " ('Beverly, Massachusetts', 24),\n",
       " ('Gloucester, Massachusetts', 24),\n",
       " ('Haverhill, Massachusetts', 24),\n",
       " ('Lynn, Massachusetts', 24),\n",
       " ('Newburyport, Massachusetts', 24),\n",
       " ('Westfield, Massachusetts', 24),\n",
       " ('Northampton, Massachusetts', 24),\n",
       " ('Malden, Massachusetts', 24),\n",
       " ('Marlborough, Massachusetts', 24)]"
      ]
     },
     "execution_count": 86,
     "metadata": {},
     "output_type": "execute_result"
    }
   ],
   "source": [
    "import random\n",
    "import shelve\n",
    "\n",
    "def keyer(x):\n",
    "    return len(x[1])\n",
    "older.sort(key = keyer,reverse=True)\n",
    "[(o[0],len(o[1])) for o in older[:25]]"
   ]
  },
  {
   "cell_type": "code",
   "execution_count": 524,
   "metadata": {
    "collapsed": false,
    "deletable": true,
    "editable": true
   },
   "outputs": [
    {
     "data": {
      "text/plain": [
       "[('Connecticut',\n",
       "  [(1790, 237946),\n",
       "   (1800, 251002),\n",
       "   (1810, 261942),\n",
       "   (1820, 275248),\n",
       "   (1830, 297675),\n",
       "   (1840, 309978),\n",
       "   (1850, 370792),\n",
       "   (1860, 460147),\n",
       "   (1870, 537454),\n",
       "   (1880, 622700),\n",
       "   (1890, 746258),\n",
       "   (1900, 908420),\n",
       "   (1910, 1114756),\n",
       "   (1920, 1380631),\n",
       "   (1930, 1606903),\n",
       "   (1940, 1709242),\n",
       "   (1950, 2007280),\n",
       "   (1960, 2535234),\n",
       "   (1970, 3031709),\n",
       "   (1980, 3107576),\n",
       "   (1990, 3287116),\n",
       "   (2000, 3405565),\n",
       "   (2010, 3574097)])]"
      ]
     },
     "execution_count": 524,
     "metadata": {},
     "output_type": "execute_result"
    }
   ],
   "source": [
    "[(c[0],c[1]) for c in older if c[0]==\"Connecticut\"]"
   ]
  },
  {
   "cell_type": "code",
   "execution_count": 498,
   "metadata": {
    "collapsed": false,
    "deletable": true,
    "editable": true
   },
   "outputs": [
    {
     "data": {
      "text/plain": [
       "['Brooklyn, Connecticut',\n",
       " 'East Brooklyn, Illinois',\n",
       " 'West Brooklyn, Illinois',\n",
       " 'Brooklyn, Illinois',\n",
       " 'Brooklyn, Indiana',\n",
       " 'Brooklyn, Iowa',\n",
       " 'Brooklyn Park, Maryland',\n",
       " 'Brooklyn, Michigan',\n",
       " 'Brooklyn Center, Minnesota',\n",
       " 'Brooklyn Park, Minnesota',\n",
       " 'Brooklyn Heights, Missouri',\n",
       " 'Brooklyn, Ohio',\n",
       " 'Brooklyn Heights, Ohio',\n",
       " 'Brooklyn (village), Wisconsin']"
      ]
     },
     "execution_count": 498,
     "metadata": {},
     "output_type": "execute_result"
    }
   ],
   "source": [
    "[a.title for a in cache if \"Brooklyn\" in a.title]"
   ]
  },
  {
   "cell_type": "code",
   "execution_count": 73,
   "metadata": {
    "collapsed": true,
    "deletable": true,
    "editable": true
   },
   "outputs": [],
   "source": [
    "foo = wikiparser.WikipediaArticle(\"Lenox, Massachusetts\")"
   ]
  },
  {
   "cell_type": "code",
   "execution_count": 79,
   "metadata": {
    "collapsed": false,
    "deletable": true,
    "editable": true
   },
   "outputs": [
    {
     "ename": "NoPopulation",
     "evalue": "",
     "output_type": "error",
     "traceback": [
      "\u001b[0;31m\u001b[0m",
      "\u001b[0;31mNoPopulation\u001b[0mTraceback (most recent call last)",
      "\u001b[0;32m<ipython-input-79-ee5bff230dd8>\u001b[0m in \u001b[0;36m<module>\u001b[0;34m()\u001b[0m\n\u001b[0;32m----> 1\u001b[0;31m \u001b[0mlen\u001b[0m\u001b[0;34m(\u001b[0m\u001b[0mfoo\u001b[0m\u001b[0;34m.\u001b[0m\u001b[0mtown_pops\u001b[0m\u001b[0;34m(\u001b[0m\u001b[0;34m)\u001b[0m\u001b[0;34m)\u001b[0m\u001b[0;34m\u001b[0m\u001b[0m\n\u001b[0m",
      "\u001b[0;32m/home/bschmidt/Dropbox/Gannett/wikipedia_population/wikiparser.py\u001b[0m in \u001b[0;36mtown_pops\u001b[0;34m(self, max_depth)\u001b[0m\n\u001b[1;32m    123\u001b[0m             \u001b[0mmethod\u001b[0m \u001b[0;34m=\u001b[0m \u001b[0mparse_bars\u001b[0m\u001b[0;34m\u001b[0m\u001b[0m\n\u001b[1;32m    124\u001b[0m         \u001b[0;32melse\u001b[0m\u001b[0;34m:\u001b[0m\u001b[0;34m\u001b[0m\u001b[0m\n\u001b[0;32m--> 125\u001b[0;31m             \u001b[0;32mraise\u001b[0m \u001b[0mNoPopulation\u001b[0m\u001b[0;34m\u001b[0m\u001b[0m\n\u001b[0m\u001b[1;32m    126\u001b[0m \u001b[0;34m\u001b[0m\u001b[0m\n\u001b[1;32m    127\u001b[0m         \u001b[0marea\u001b[0m \u001b[0;34m=\u001b[0m \u001b[0mcontent\u001b[0m\u001b[0;34m[\u001b[0m\u001b[0;34m(\u001b[0m\u001b[0mstart\u001b[0m\u001b[0;34m)\u001b[0m\u001b[0;34m:\u001b[0m\u001b[0;34m(\u001b[0m\u001b[0mstart\u001b[0m \u001b[0;34m+\u001b[0m \u001b[0;36m500\u001b[0m\u001b[0;34m)\u001b[0m\u001b[0;34m]\u001b[0m\u001b[0;34m\u001b[0m\u001b[0m\n",
      "\u001b[0;31mNoPopulation\u001b[0m: "
     ]
    }
   ],
   "source": [
    "len(foo.town_pops())"
   ]
  },
  {
   "cell_type": "code",
   "execution_count": 80,
   "metadata": {
    "collapsed": false,
    "deletable": true,
    "editable": true
   },
   "outputs": [
    {
     "data": {
      "text/plain": [
       "[]"
      ]
     },
     "execution_count": 80,
     "metadata": {},
     "output_type": "execute_result"
    }
   ],
   "source": [
    "foo.pops()"
   ]
  },
  {
   "cell_type": "code",
   "execution_count": 58,
   "metadata": {
    "collapsed": false,
    "deletable": true,
    "editable": true
   },
   "outputs": [
    {
     "data": {
      "text/plain": [
       "['Historical populations', 'Historical populations']"
      ]
     },
     "execution_count": 58,
     "metadata": {},
     "output_type": "execute_result"
    }
   ],
   "source": [
    "import regex as re\n",
    "re.findall(tag,t)"
   ]
  }
 ],
 "metadata": {
  "kernelspec": {
   "display_name": "Python 2",
   "language": "python",
   "name": "python2"
  },
  "language_info": {
   "codemirror_mode": {
    "name": "ipython",
    "version": 2
   },
   "file_extension": ".py",
   "mimetype": "text/x-python",
   "name": "python",
   "nbconvert_exporter": "python",
   "pygments_lexer": "ipython2",
   "version": "2.7.12"
  }
 },
 "nbformat": 4,
 "nbformat_minor": 0
}
